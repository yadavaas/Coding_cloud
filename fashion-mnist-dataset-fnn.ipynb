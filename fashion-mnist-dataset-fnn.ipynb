{
 "cells": [
  {
   "cell_type": "markdown",
   "id": "72a95fba",
   "metadata": {
    "papermill": {
     "duration": 0.008027,
     "end_time": "2022-09-27T15:35:48.490726",
     "exception": false,
     "start_time": "2022-09-27T15:35:48.482699",
     "status": "completed"
    },
    "tags": []
   },
   "source": [
    "# Fashion_MNIST_dataset_FNN"
   ]
  },
  {
   "cell_type": "markdown",
   "id": "922b78fd",
   "metadata": {
    "papermill": {
     "duration": 0.006693,
     "end_time": "2022-09-27T15:35:48.507380",
     "exception": false,
     "start_time": "2022-09-27T15:35:48.500687",
     "status": "completed"
    },
    "tags": []
   },
   "source": [
    "## About the Problem\n",
    "\n",
    "This task is about *Image Classification* problem. Here, I have used **Pytorch** and **Logistic regression** and **FNN** technique to solve this Problem."
   ]
  },
  {
   "cell_type": "markdown",
   "id": "b1d1877c",
   "metadata": {
    "papermill": {
     "duration": 0.006504,
     "end_time": "2022-09-27T15:35:48.520766",
     "exception": false,
     "start_time": "2022-09-27T15:35:48.514262",
     "status": "completed"
    },
    "tags": []
   },
   "source": [
    "## Dataset\n",
    "The dataset used here is the Fashion_MNSIT datset. This is a dataset of 60,000 28x28 grayscale images of 10 fashion categories, along with a test set of 10,000 images.\n",
    "\n",
    "Here The classes are labeled as:\n",
    "\n",
    "|Label|Description|\n",
    "| :---------------| :----:|\n",
    "|0|T-shirt/top|\n",
    "|1|Trouser|\n",
    "|2|Pullover|\n",
    "|3|Dress|\n",
    "|4|Coat|\n",
    "|5|Sandal|\n",
    "|6|Shirt|\n",
    "|7|Sneaker|\n",
    "|8|Bag|\n",
    "|9|Ankle boot|\n"
   ]
  },
  {
   "cell_type": "markdown",
   "id": "e8404c4f",
   "metadata": {
    "papermill": {
     "duration": 0.006559,
     "end_time": "2022-09-27T15:35:48.534130",
     "exception": false,
     "start_time": "2022-09-27T15:35:48.527571",
     "status": "completed"
    },
    "tags": []
   },
   "source": [
    "## NOTE:\n",
    "To run this model we need to set the Accelerator setting to **GPU** first"
   ]
  },
  {
   "cell_type": "markdown",
   "id": "562bf618",
   "metadata": {
    "papermill": {
     "duration": 0.006546,
     "end_time": "2022-09-27T15:35:48.547412",
     "exception": false,
     "start_time": "2022-09-27T15:35:48.540866",
     "status": "completed"
    },
    "tags": []
   },
   "source": [
    "## Importing libraries"
   ]
  },
  {
   "cell_type": "code",
   "execution_count": 1,
   "id": "6f6bc242",
   "metadata": {
    "execution": {
     "iopub.execute_input": "2022-09-27T15:35:48.564452Z",
     "iopub.status.busy": "2022-09-27T15:35:48.563687Z",
     "iopub.status.idle": "2022-09-27T15:35:50.383446Z",
     "shell.execute_reply": "2022-09-27T15:35:50.382442Z"
    },
    "executionInfo": {
     "elapsed": 2025,
     "status": "ok",
     "timestamp": 1664279999190,
     "user": {
      "displayName": "sanju yadav",
      "userId": "14938421063870697356"
     },
     "user_tz": -330
    },
    "id": "-Ac8rnUFy_TV",
    "papermill": {
     "duration": 1.830577,
     "end_time": "2022-09-27T15:35:50.386040",
     "exception": false,
     "start_time": "2022-09-27T15:35:48.555463",
     "status": "completed"
    },
    "tags": []
   },
   "outputs": [],
   "source": [
    "import torch\n",
    "import torchvision\n",
    "import numpy as np\n",
    "import matplotlib.pyplot as plt\n",
    "import torch.nn as nn\n",
    "import torch.nn.functional as F\n",
    "from torchvision.datasets import FashionMNIST\n",
    "from torchvision.transforms import ToTensor\n",
    "from torchvision.utils import make_grid\n",
    "from torch.utils.data.dataloader import DataLoader\n",
    "from torch.utils.data import random_split\n",
    "%matplotlib inline"
   ]
  },
  {
   "cell_type": "markdown",
   "id": "318de757",
   "metadata": {
    "id": "h0lQ_ZG0y_TX",
    "papermill": {
     "duration": 0.007013,
     "end_time": "2022-09-27T15:35:50.400582",
     "exception": false,
     "start_time": "2022-09-27T15:35:50.393569",
     "status": "completed"
    },
    "tags": []
   },
   "source": [
    "## Preparing the Data"
   ]
  },
  {
   "cell_type": "code",
   "execution_count": 2,
   "id": "613ef0b0",
   "metadata": {
    "execution": {
     "iopub.execute_input": "2022-09-27T15:35:50.417522Z",
     "iopub.status.busy": "2022-09-27T15:35:50.415976Z",
     "iopub.status.idle": "2022-09-27T15:35:52.852925Z",
     "shell.execute_reply": "2022-09-27T15:35:52.852056Z"
    },
    "executionInfo": {
     "elapsed": 4800,
     "status": "ok",
     "timestamp": 1664280065430,
     "user": {
      "displayName": "sanju yadav",
      "userId": "14938421063870697356"
     },
     "user_tz": -330
    },
    "id": "dpkC8CWE0eK6",
    "outputId": "b4ac285b-178d-4b28-ce53-bf35c054f326",
    "papermill": {
     "duration": 2.447329,
     "end_time": "2022-09-27T15:35:52.855123",
     "exception": false,
     "start_time": "2022-09-27T15:35:50.407794",
     "status": "completed"
    },
    "tags": []
   },
   "outputs": [
    {
     "name": "stdout",
     "output_type": "stream",
     "text": [
      "Downloading http://fashion-mnist.s3-website.eu-central-1.amazonaws.com/train-images-idx3-ubyte.gz\n",
      "Downloading http://fashion-mnist.s3-website.eu-central-1.amazonaws.com/train-images-idx3-ubyte.gz to data/FashionMNIST/raw/train-images-idx3-ubyte.gz\n"
     ]
    },
    {
     "data": {
      "application/vnd.jupyter.widget-view+json": {
       "model_id": "73a4812ddd4f453ba8578608ccd8d9ff",
       "version_major": 2,
       "version_minor": 0
      },
      "text/plain": [
       "  0%|          | 0/26421880 [00:00<?, ?it/s]"
      ]
     },
     "metadata": {},
     "output_type": "display_data"
    },
    {
     "name": "stdout",
     "output_type": "stream",
     "text": [
      "Extracting data/FashionMNIST/raw/train-images-idx3-ubyte.gz to data/FashionMNIST/raw\n",
      "\n",
      "Downloading http://fashion-mnist.s3-website.eu-central-1.amazonaws.com/train-labels-idx1-ubyte.gz\n",
      "Downloading http://fashion-mnist.s3-website.eu-central-1.amazonaws.com/train-labels-idx1-ubyte.gz to data/FashionMNIST/raw/train-labels-idx1-ubyte.gz\n"
     ]
    },
    {
     "data": {
      "application/vnd.jupyter.widget-view+json": {
       "model_id": "6aeaf2936d43486ebe4e8fcecc61684e",
       "version_major": 2,
       "version_minor": 0
      },
      "text/plain": [
       "  0%|          | 0/29515 [00:00<?, ?it/s]"
      ]
     },
     "metadata": {},
     "output_type": "display_data"
    },
    {
     "name": "stdout",
     "output_type": "stream",
     "text": [
      "Extracting data/FashionMNIST/raw/train-labels-idx1-ubyte.gz to data/FashionMNIST/raw\n",
      "\n",
      "Downloading http://fashion-mnist.s3-website.eu-central-1.amazonaws.com/t10k-images-idx3-ubyte.gz\n",
      "Downloading http://fashion-mnist.s3-website.eu-central-1.amazonaws.com/t10k-images-idx3-ubyte.gz to data/FashionMNIST/raw/t10k-images-idx3-ubyte.gz\n"
     ]
    },
    {
     "data": {
      "application/vnd.jupyter.widget-view+json": {
       "model_id": "48e0ea599ede4daa8c324a949f2e16fb",
       "version_major": 2,
       "version_minor": 0
      },
      "text/plain": [
       "  0%|          | 0/4422102 [00:00<?, ?it/s]"
      ]
     },
     "metadata": {},
     "output_type": "display_data"
    },
    {
     "name": "stdout",
     "output_type": "stream",
     "text": [
      "Extracting data/FashionMNIST/raw/t10k-images-idx3-ubyte.gz to data/FashionMNIST/raw\n",
      "\n",
      "Downloading http://fashion-mnist.s3-website.eu-central-1.amazonaws.com/t10k-labels-idx1-ubyte.gz\n",
      "Downloading http://fashion-mnist.s3-website.eu-central-1.amazonaws.com/t10k-labels-idx1-ubyte.gz to data/FashionMNIST/raw/t10k-labels-idx1-ubyte.gz\n"
     ]
    },
    {
     "data": {
      "application/vnd.jupyter.widget-view+json": {
       "model_id": "3ed42e3240384312901038f736d17cfa",
       "version_major": 2,
       "version_minor": 0
      },
      "text/plain": [
       "  0%|          | 0/5148 [00:00<?, ?it/s]"
      ]
     },
     "metadata": {},
     "output_type": "display_data"
    },
    {
     "name": "stdout",
     "output_type": "stream",
     "text": [
      "Extracting data/FashionMNIST/raw/t10k-labels-idx1-ubyte.gz to data/FashionMNIST/raw\n",
      "\n"
     ]
    }
   ],
   "source": [
    "dataset = FashionMNIST(root='data/', download=True, transform=ToTensor())"
   ]
  },
  {
   "cell_type": "code",
   "execution_count": 3,
   "id": "b8f7ded3",
   "metadata": {
    "execution": {
     "iopub.execute_input": "2022-09-27T15:35:52.872469Z",
     "iopub.status.busy": "2022-09-27T15:35:52.872177Z",
     "iopub.status.idle": "2022-09-27T15:35:52.955118Z",
     "shell.execute_reply": "2022-09-27T15:35:52.954245Z"
    },
    "executionInfo": {
     "elapsed": 420,
     "status": "ok",
     "timestamp": 1664281420282,
     "user": {
      "displayName": "sanju yadav",
      "userId": "14938421063870697356"
     },
     "user_tz": -330
    },
    "id": "2eTL1wIly_TX",
    "papermill": {
     "duration": 0.094232,
     "end_time": "2022-09-27T15:35:52.957520",
     "exception": false,
     "start_time": "2022-09-27T15:35:52.863288",
     "status": "completed"
    },
    "tags": []
   },
   "outputs": [],
   "source": [
    "dataset = FashionMNIST(root='data/', train=True, transform=ToTensor())\n",
    "test_dataset = FashionMNIST(root='data/', train=False, transform=ToTensor())"
   ]
  },
  {
   "cell_type": "code",
   "execution_count": 4,
   "id": "9a410268",
   "metadata": {
    "execution": {
     "iopub.execute_input": "2022-09-27T15:35:52.974633Z",
     "iopub.status.busy": "2022-09-27T15:35:52.974058Z",
     "iopub.status.idle": "2022-09-27T15:35:52.983863Z",
     "shell.execute_reply": "2022-09-27T15:35:52.983035Z"
    },
    "executionInfo": {
     "elapsed": 5,
     "status": "ok",
     "timestamp": 1664281423562,
     "user": {
      "displayName": "sanju yadav",
      "userId": "14938421063870697356"
     },
     "user_tz": -330
    },
    "id": "j3qvnKzhy_TZ",
    "outputId": "44d07873-bb52-42fe-f898-cd0ab5c3de8e",
    "papermill": {
     "duration": 0.020304,
     "end_time": "2022-09-27T15:35:52.985756",
     "exception": false,
     "start_time": "2022-09-27T15:35:52.965452",
     "status": "completed"
    },
    "tags": []
   },
   "outputs": [],
   "source": [
    "val_size = 10000\n",
    "train_size = len(dataset) - val_size\n",
    "train_ds, val_ds = random_split(dataset, [train_size, val_size])"
   ]
  },
  {
   "cell_type": "code",
   "execution_count": 5,
   "id": "46382c37",
   "metadata": {
    "execution": {
     "iopub.execute_input": "2022-09-27T15:35:53.002021Z",
     "iopub.status.busy": "2022-09-27T15:35:53.001751Z",
     "iopub.status.idle": "2022-09-27T15:35:53.005824Z",
     "shell.execute_reply": "2022-09-27T15:35:53.004878Z"
    },
    "executionInfo": {
     "elapsed": 930,
     "status": "ok",
     "timestamp": 1664281427667,
     "user": {
      "displayName": "sanju yadav",
      "userId": "14938421063870697356"
     },
     "user_tz": -330
    },
    "id": "sMbGtcNry_Tb",
    "papermill": {
     "duration": 0.01434,
     "end_time": "2022-09-27T15:35:53.007719",
     "exception": false,
     "start_time": "2022-09-27T15:35:52.993379",
     "status": "completed"
    },
    "tags": []
   },
   "outputs": [],
   "source": [
    "batch_size=128"
   ]
  },
  {
   "cell_type": "code",
   "execution_count": 6,
   "id": "6c0d5957",
   "metadata": {
    "execution": {
     "iopub.execute_input": "2022-09-27T15:35:53.023970Z",
     "iopub.status.busy": "2022-09-27T15:35:53.023719Z",
     "iopub.status.idle": "2022-09-27T15:35:53.030169Z",
     "shell.execute_reply": "2022-09-27T15:35:53.029382Z"
    },
    "executionInfo": {
     "elapsed": 5,
     "status": "ok",
     "timestamp": 1664281430584,
     "user": {
      "displayName": "sanju yadav",
      "userId": "14938421063870697356"
     },
     "user_tz": -330
    },
    "id": "jWLnK4Egy_Tc",
    "papermill": {
     "duration": 0.016864,
     "end_time": "2022-09-27T15:35:53.032156",
     "exception": false,
     "start_time": "2022-09-27T15:35:53.015292",
     "status": "completed"
    },
    "tags": []
   },
   "outputs": [],
   "source": [
    "train_loader = DataLoader(train_ds, batch_size, shuffle=True, num_workers=2, pin_memory=True)\n",
    "val_loader = DataLoader(val_ds, batch_size*2, num_workers=2, pin_memory=True)\n",
    "test_loader = DataLoader(test_dataset, batch_size*2, num_workers=2, pin_memory=True)"
   ]
  },
  {
   "cell_type": "markdown",
   "id": "7dcd248f",
   "metadata": {
    "id": "F7yMf9Pay_Td",
    "papermill": {
     "duration": 0.007393,
     "end_time": "2022-09-27T15:35:53.047117",
     "exception": false,
     "start_time": "2022-09-27T15:35:53.039724",
     "status": "completed"
    },
    "tags": []
   },
   "source": [
    "## Model"
   ]
  },
  {
   "cell_type": "code",
   "execution_count": 7,
   "id": "e67ee217",
   "metadata": {
    "execution": {
     "iopub.execute_input": "2022-09-27T15:35:53.064115Z",
     "iopub.status.busy": "2022-09-27T15:35:53.063388Z",
     "iopub.status.idle": "2022-09-27T15:35:53.068274Z",
     "shell.execute_reply": "2022-09-27T15:35:53.067417Z"
    },
    "executionInfo": {
     "elapsed": 668,
     "status": "ok",
     "timestamp": 1664281435402,
     "user": {
      "displayName": "sanju yadav",
      "userId": "14938421063870697356"
     },
     "user_tz": -330
    },
    "id": "qpnGJynDy_Te",
    "papermill": {
     "duration": 0.015398,
     "end_time": "2022-09-27T15:35:53.070112",
     "exception": false,
     "start_time": "2022-09-27T15:35:53.054714",
     "status": "completed"
    },
    "tags": []
   },
   "outputs": [],
   "source": [
    "def accuracy(outputs, labels):\n",
    "    _, preds = torch.max(outputs, dim=1)\n",
    "    return torch.tensor(torch.sum(preds == labels).item() / len(preds))"
   ]
  },
  {
   "cell_type": "code",
   "execution_count": 8,
   "id": "5174a9d5",
   "metadata": {
    "execution": {
     "iopub.execute_input": "2022-09-27T15:35:53.086540Z",
     "iopub.status.busy": "2022-09-27T15:35:53.086281Z",
     "iopub.status.idle": "2022-09-27T15:35:53.096470Z",
     "shell.execute_reply": "2022-09-27T15:35:53.095566Z"
    },
    "executionInfo": {
     "elapsed": 513,
     "status": "ok",
     "timestamp": 1664284319740,
     "user": {
      "displayName": "sanju yadav",
      "userId": "14938421063870697356"
     },
     "user_tz": -330
    },
    "id": "RrwEXr60y_Tf",
    "papermill": {
     "duration": 0.020611,
     "end_time": "2022-09-27T15:35:53.098254",
     "exception": false,
     "start_time": "2022-09-27T15:35:53.077643",
     "status": "completed"
    },
    "tags": []
   },
   "outputs": [],
   "source": [
    "class MnistModel(nn.Module):\n",
    "    \"\"\"Feedfoward neural network with 1 hidden layer\"\"\"\n",
    "    def __init__(self, in_size, out_size):\n",
    "        super().__init__()\n",
    "        # hidden layer\n",
    "        self.linear1 = nn.Linear(in_size, 512)\n",
    "        # hidden layer 2\n",
    "        self.linear2 = nn.Linear(512, 128)\n",
    "        # hidden layer 3\n",
    "        self.linear3 = nn.Linear(128, 32)\n",
    "        # output layer\n",
    "        self.linear4 = nn.Linear(32, out_size)\n",
    "        \n",
    "    def forward(self, xb):\n",
    "        # Flatten the image tensors\n",
    "        out = xb.view(xb.size(0), -1)\n",
    "        # Get intermediate outputs using hidden layer 1\n",
    "        out = self.linear1(out)\n",
    "        # Apply activation function\n",
    "        out = F.relu(out)\n",
    "        # Get intermediate outputs using hidden layer 2\n",
    "        out = self.linear2(out)\n",
    "        # Apply activation function\n",
    "        out = F.relu(out)\n",
    "        # Get intermediate outputs using hidden layer 3\n",
    "        out = self.linear3(out)\n",
    "        # Apply activation function\n",
    "        out = F.relu(out)\n",
    "        # Get predictions using output layer\n",
    "        out = self.linear4(out)\n",
    "        return out\n",
    "    \n",
    "    def training_step(self, batch):\n",
    "        images, labels = batch \n",
    "        out = self(images)                  # Generate predictions\n",
    "        loss = F.cross_entropy(out, labels) # Calculate loss\n",
    "        return loss\n",
    "    \n",
    "    def validation_step(self, batch):\n",
    "        images, labels = batch \n",
    "        out = self(images)                    # Generate predictions\n",
    "        loss = F.cross_entropy(out, labels)   # Calculate loss\n",
    "        acc = accuracy(out, labels)           # Calculate accuracy\n",
    "        return {'val_loss': loss, 'val_acc': acc}\n",
    "        \n",
    "    def validation_epoch_end(self, outputs):\n",
    "        batch_losses = [x['val_loss'] for x in outputs]\n",
    "        epoch_loss = torch.stack(batch_losses).mean()   # Combine losses\n",
    "        batch_accs = [x['val_acc'] for x in outputs]\n",
    "        epoch_acc = torch.stack(batch_accs).mean()      # Combine accuracies\n",
    "        return {'val_loss': epoch_loss.item(), 'val_acc': epoch_acc.item()}\n"
   ]
  },
  {
   "cell_type": "markdown",
   "id": "72ee55bb",
   "metadata": {
    "id": "8EyROkXly_Tg",
    "papermill": {
     "duration": 0.007482,
     "end_time": "2022-09-27T15:35:53.114058",
     "exception": false,
     "start_time": "2022-09-27T15:35:53.106576",
     "status": "completed"
    },
    "tags": []
   },
   "source": [
    "## Using a GPU"
   ]
  },
  {
   "cell_type": "code",
   "execution_count": 9,
   "id": "7f805d6e",
   "metadata": {
    "execution": {
     "iopub.execute_input": "2022-09-27T15:35:53.130592Z",
     "iopub.status.busy": "2022-09-27T15:35:53.130338Z",
     "iopub.status.idle": "2022-09-27T15:35:53.196190Z",
     "shell.execute_reply": "2022-09-27T15:35:53.195225Z"
    },
    "executionInfo": {
     "elapsed": 557,
     "status": "ok",
     "timestamp": 1664284463863,
     "user": {
      "displayName": "sanju yadav",
      "userId": "14938421063870697356"
     },
     "user_tz": -330
    },
    "id": "qWHUtmDYy_Th",
    "outputId": "4423cd68-6479-4b00-86a6-eea8aad3427d",
    "papermill": {
     "duration": 0.076261,
     "end_time": "2022-09-27T15:35:53.198150",
     "exception": false,
     "start_time": "2022-09-27T15:35:53.121889",
     "status": "completed"
    },
    "tags": []
   },
   "outputs": [
    {
     "data": {
      "text/plain": [
       "True"
      ]
     },
     "execution_count": 9,
     "metadata": {},
     "output_type": "execute_result"
    }
   ],
   "source": [
    "torch.cuda.is_available()"
   ]
  },
  {
   "cell_type": "code",
   "execution_count": 10,
   "id": "b8b28831",
   "metadata": {
    "execution": {
     "iopub.execute_input": "2022-09-27T15:35:53.215330Z",
     "iopub.status.busy": "2022-09-27T15:35:53.214585Z",
     "iopub.status.idle": "2022-09-27T15:35:53.219763Z",
     "shell.execute_reply": "2022-09-27T15:35:53.218949Z"
    },
    "executionInfo": {
     "elapsed": 20,
     "status": "ok",
     "timestamp": 1664284464313,
     "user": {
      "displayName": "sanju yadav",
      "userId": "14938421063870697356"
     },
     "user_tz": -330
    },
    "id": "w77wetPSy_Ti",
    "papermill": {
     "duration": 0.015643,
     "end_time": "2022-09-27T15:35:53.221687",
     "exception": false,
     "start_time": "2022-09-27T15:35:53.206044",
     "status": "completed"
    },
    "tags": []
   },
   "outputs": [],
   "source": [
    "def get_default_device():\n",
    "    \"\"\"Pick GPU if available, else CPU\"\"\"\n",
    "    if torch.cuda.is_available():\n",
    "        return torch.device('cuda')\n",
    "    else:\n",
    "        return torch.device('cpu')"
   ]
  },
  {
   "cell_type": "code",
   "execution_count": 11,
   "id": "fcb7a4b3",
   "metadata": {
    "execution": {
     "iopub.execute_input": "2022-09-27T15:35:53.238357Z",
     "iopub.status.busy": "2022-09-27T15:35:53.238086Z",
     "iopub.status.idle": "2022-09-27T15:35:53.242050Z",
     "shell.execute_reply": "2022-09-27T15:35:53.241128Z"
    },
    "executionInfo": {
     "elapsed": 21,
     "status": "ok",
     "timestamp": 1664284464315,
     "user": {
      "displayName": "sanju yadav",
      "userId": "14938421063870697356"
     },
     "user_tz": -330
    },
    "id": "VbeJbrIay_Tj",
    "outputId": "cda4856f-5378-4386-9db3-7687eb915b92",
    "papermill": {
     "duration": 0.014514,
     "end_time": "2022-09-27T15:35:53.243934",
     "exception": false,
     "start_time": "2022-09-27T15:35:53.229420",
     "status": "completed"
    },
    "tags": []
   },
   "outputs": [],
   "source": [
    "device = get_default_device()"
   ]
  },
  {
   "cell_type": "code",
   "execution_count": 12,
   "id": "2ec606bc",
   "metadata": {
    "execution": {
     "iopub.execute_input": "2022-09-27T15:35:53.261209Z",
     "iopub.status.busy": "2022-09-27T15:35:53.260482Z",
     "iopub.status.idle": "2022-09-27T15:35:53.265652Z",
     "shell.execute_reply": "2022-09-27T15:35:53.264839Z"
    },
    "executionInfo": {
     "elapsed": 17,
     "status": "ok",
     "timestamp": 1664284464315,
     "user": {
      "displayName": "sanju yadav",
      "userId": "14938421063870697356"
     },
     "user_tz": -330
    },
    "id": "5zVzjOVsy_Tl",
    "papermill": {
     "duration": 0.015652,
     "end_time": "2022-09-27T15:35:53.267540",
     "exception": false,
     "start_time": "2022-09-27T15:35:53.251888",
     "status": "completed"
    },
    "tags": []
   },
   "outputs": [],
   "source": [
    "def to_device(data, device):\n",
    "    \"\"\"Move tensor(s) to chosen device\"\"\"\n",
    "    if isinstance(data, (list,tuple)):\n",
    "        return [to_device(x, device) for x in data]\n",
    "    return data.to(device, non_blocking=True)"
   ]
  },
  {
   "cell_type": "code",
   "execution_count": 13,
   "id": "fddef7a6",
   "metadata": {
    "execution": {
     "iopub.execute_input": "2022-09-27T15:35:53.286803Z",
     "iopub.status.busy": "2022-09-27T15:35:53.286526Z",
     "iopub.status.idle": "2022-09-27T15:35:53.291698Z",
     "shell.execute_reply": "2022-09-27T15:35:53.290794Z"
    },
    "executionInfo": {
     "elapsed": 17,
     "status": "ok",
     "timestamp": 1664284464316,
     "user": {
      "displayName": "sanju yadav",
      "userId": "14938421063870697356"
     },
     "user_tz": -330
    },
    "id": "6AmSwQ8Ay_Tm",
    "papermill": {
     "duration": 0.016247,
     "end_time": "2022-09-27T15:35:53.293631",
     "exception": false,
     "start_time": "2022-09-27T15:35:53.277384",
     "status": "completed"
    },
    "tags": []
   },
   "outputs": [],
   "source": [
    "class DeviceDataLoader():\n",
    "    \"\"\"Wrap a dataloader to move data to a device\"\"\"\n",
    "    def __init__(self, dl, device):\n",
    "        self.dl = dl\n",
    "        self.device = device\n",
    "        \n",
    "    def __iter__(self):\n",
    "        \"\"\"Yield a batch of data after moving it to device\"\"\"\n",
    "        for b in self.dl: \n",
    "            yield to_device(b, self.device)\n",
    "\n",
    "    def __len__(self):\n",
    "        \"\"\"Number of batches\"\"\"\n",
    "        return len(self.dl)"
   ]
  },
  {
   "cell_type": "code",
   "execution_count": 14,
   "id": "12b335dc",
   "metadata": {
    "execution": {
     "iopub.execute_input": "2022-09-27T15:35:53.310350Z",
     "iopub.status.busy": "2022-09-27T15:35:53.309730Z",
     "iopub.status.idle": "2022-09-27T15:35:53.314653Z",
     "shell.execute_reply": "2022-09-27T15:35:53.313869Z"
    },
    "executionInfo": {
     "elapsed": 17,
     "status": "ok",
     "timestamp": 1664284464317,
     "user": {
      "displayName": "sanju yadav",
      "userId": "14938421063870697356"
     },
     "user_tz": -330
    },
    "id": "qqJUvhcLy_Tm",
    "papermill": {
     "duration": 0.015071,
     "end_time": "2022-09-27T15:35:53.316428",
     "exception": false,
     "start_time": "2022-09-27T15:35:53.301357",
     "status": "completed"
    },
    "tags": []
   },
   "outputs": [],
   "source": [
    "train_loader = DeviceDataLoader(train_loader, device)\n",
    "val_loader = DeviceDataLoader(val_loader, device)\n",
    "test_loader = DeviceDataLoader(test_loader, device)"
   ]
  },
  {
   "cell_type": "markdown",
   "id": "fd693277",
   "metadata": {
    "id": "fdEXNYsty_Tn",
    "papermill": {
     "duration": 0.007375,
     "end_time": "2022-09-27T15:35:53.331643",
     "exception": false,
     "start_time": "2022-09-27T15:35:53.324268",
     "status": "completed"
    },
    "tags": []
   },
   "source": [
    "## Training the model"
   ]
  },
  {
   "cell_type": "code",
   "execution_count": 15,
   "id": "6ee275a2",
   "metadata": {
    "execution": {
     "iopub.execute_input": "2022-09-27T15:35:53.348497Z",
     "iopub.status.busy": "2022-09-27T15:35:53.347740Z",
     "iopub.status.idle": "2022-09-27T15:35:53.354236Z",
     "shell.execute_reply": "2022-09-27T15:35:53.353406Z"
    },
    "executionInfo": {
     "elapsed": 17,
     "status": "ok",
     "timestamp": 1664284464317,
     "user": {
      "displayName": "sanju yadav",
      "userId": "14938421063870697356"
     },
     "user_tz": -330
    },
    "id": "-ddUvn3oy_Tn",
    "papermill": {
     "duration": 0.016812,
     "end_time": "2022-09-27T15:35:53.356136",
     "exception": false,
     "start_time": "2022-09-27T15:35:53.339324",
     "status": "completed"
    },
    "tags": []
   },
   "outputs": [],
   "source": [
    "def evaluate(model, val_loader):\n",
    "    outputs = [model.validation_step(batch) for batch in val_loader]\n",
    "    return model.validation_epoch_end(outputs)\n",
    "\n",
    "def fit(epochs, lr, model, train_loader, val_loader, opt_func=torch.optim.SGD):\n",
    "    optimizer = opt_func(model.parameters(), lr)\n",
    "    for epoch in range(epochs):\n",
    "        # Training Phase \n",
    "        for batch in train_loader:\n",
    "            loss = model.training_step(batch)\n",
    "            loss.backward()\n",
    "            optimizer.step()\n",
    "            optimizer.zero_grad()\n",
    "        # Validation phase\n",
    "        result = evaluate(model, val_loader)"
   ]
  },
  {
   "cell_type": "code",
   "execution_count": 16,
   "id": "1b820751",
   "metadata": {
    "execution": {
     "iopub.execute_input": "2022-09-27T15:35:53.373086Z",
     "iopub.status.busy": "2022-09-27T15:35:53.372334Z",
     "iopub.status.idle": "2022-09-27T15:35:53.376346Z",
     "shell.execute_reply": "2022-09-27T15:35:53.375450Z"
    },
    "executionInfo": {
     "elapsed": 17,
     "status": "ok",
     "timestamp": 1664284464318,
     "user": {
      "displayName": "sanju yadav",
      "userId": "14938421063870697356"
     },
     "user_tz": -330
    },
    "id": "LilpDFQLy_To",
    "papermill": {
     "duration": 0.014473,
     "end_time": "2022-09-27T15:35:53.378242",
     "exception": false,
     "start_time": "2022-09-27T15:35:53.363769",
     "status": "completed"
    },
    "tags": []
   },
   "outputs": [],
   "source": [
    "input_size = 784\n",
    "num_classes = 10"
   ]
  },
  {
   "cell_type": "code",
   "execution_count": 17,
   "id": "200caf78",
   "metadata": {
    "execution": {
     "iopub.execute_input": "2022-09-27T15:35:53.395100Z",
     "iopub.status.busy": "2022-09-27T15:35:53.394360Z",
     "iopub.status.idle": "2022-09-27T15:35:56.132976Z",
     "shell.execute_reply": "2022-09-27T15:35:56.131944Z"
    },
    "executionInfo": {
     "elapsed": 17,
     "status": "ok",
     "timestamp": 1664284464319,
     "user": {
      "displayName": "sanju yadav",
      "userId": "14938421063870697356"
     },
     "user_tz": -330
    },
    "id": "mAzatlUuy_To",
    "outputId": "1dad9bee-15f1-437a-c2db-083f9a876830",
    "papermill": {
     "duration": 2.74991,
     "end_time": "2022-09-27T15:35:56.135754",
     "exception": false,
     "start_time": "2022-09-27T15:35:53.385844",
     "status": "completed"
    },
    "tags": []
   },
   "outputs": [
    {
     "data": {
      "text/plain": [
       "MnistModel(\n",
       "  (linear1): Linear(in_features=784, out_features=512, bias=True)\n",
       "  (linear2): Linear(in_features=512, out_features=128, bias=True)\n",
       "  (linear3): Linear(in_features=128, out_features=32, bias=True)\n",
       "  (linear4): Linear(in_features=32, out_features=10, bias=True)\n",
       ")"
      ]
     },
     "execution_count": 17,
     "metadata": {},
     "output_type": "execute_result"
    }
   ],
   "source": [
    "model = MnistModel(input_size, out_size=num_classes)\n",
    "to_device(model, device)"
   ]
  },
  {
   "cell_type": "code",
   "execution_count": 18,
   "id": "324f6e79",
   "metadata": {
    "execution": {
     "iopub.execute_input": "2022-09-27T15:35:56.155511Z",
     "iopub.status.busy": "2022-09-27T15:35:56.155209Z",
     "iopub.status.idle": "2022-09-27T15:38:05.127342Z",
     "shell.execute_reply": "2022-09-27T15:38:05.125823Z"
    },
    "id": "6EBLtFnHy_Tp",
    "outputId": "7bed9270-d3c6-4ea5-f14b-ea8603cfc08a",
    "papermill": {
     "duration": 128.984195,
     "end_time": "2022-09-27T15:38:05.130586",
     "exception": false,
     "start_time": "2022-09-27T15:35:56.146391",
     "status": "completed"
    },
    "tags": []
   },
   "outputs": [],
   "source": [
    "fit(5, 0.5, model, train_loader, val_loader)       \n",
    "fit(5, 0.2, model, train_loader, val_loader)       #number of epochs to to train better\n",
    "fit(5, 0.01, model, train_loader, val_loader)       #decreasing learning rate to reach to optimum accuracy\n",
    "fit(5, 0.0001, model, train_loader, val_loader)"
   ]
  },
  {
   "cell_type": "markdown",
   "id": "ba0fd49e",
   "metadata": {
    "papermill": {
     "duration": 0.007987,
     "end_time": "2022-09-27T15:38:05.147383",
     "exception": false,
     "start_time": "2022-09-27T15:38:05.139396",
     "status": "completed"
    },
    "tags": []
   },
   "source": [
    "## Model Accuracy"
   ]
  },
  {
   "cell_type": "code",
   "execution_count": 19,
   "id": "6fd974d6",
   "metadata": {
    "execution": {
     "iopub.execute_input": "2022-09-27T15:38:05.165903Z",
     "iopub.status.busy": "2022-09-27T15:38:05.164396Z",
     "iopub.status.idle": "2022-09-27T15:38:06.131124Z",
     "shell.execute_reply": "2022-09-27T15:38:06.129953Z"
    },
    "papermill": {
     "duration": 0.977952,
     "end_time": "2022-09-27T15:38:06.133247",
     "exception": false,
     "start_time": "2022-09-27T15:38:05.155295",
     "status": "completed"
    },
    "tags": []
   },
   "outputs": [
    {
     "data": {
      "text/plain": [
       "{'val_loss': 0.2913427948951721, 'val_acc': 0.89501953125}"
      ]
     },
     "execution_count": 19,
     "metadata": {},
     "output_type": "execute_result"
    }
   ],
   "source": [
    "evaluate(model, val_loader)  #accuracy on validation"
   ]
  },
  {
   "cell_type": "markdown",
   "id": "03efedf2",
   "metadata": {
    "id": "XlgEpIwGy_Tq",
    "papermill": {
     "duration": 0.007756,
     "end_time": "2022-09-27T15:38:06.149341",
     "exception": false,
     "start_time": "2022-09-27T15:38:06.141585",
     "status": "completed"
    },
    "tags": []
   },
   "source": [
    "## Prediction on Samples (Test Accuracy)"
   ]
  },
  {
   "cell_type": "code",
   "execution_count": 20,
   "id": "95c325e4",
   "metadata": {
    "execution": {
     "iopub.execute_input": "2022-09-27T15:38:06.167711Z",
     "iopub.status.busy": "2022-09-27T15:38:06.166100Z",
     "iopub.status.idle": "2022-09-27T15:38:07.092171Z",
     "shell.execute_reply": "2022-09-27T15:38:07.091196Z"
    },
    "id": "KTSH88dmy_Tr",
    "papermill": {
     "duration": 0.937185,
     "end_time": "2022-09-27T15:38:07.094424",
     "exception": false,
     "start_time": "2022-09-27T15:38:06.157239",
     "status": "completed"
    },
    "tags": []
   },
   "outputs": [
    {
     "data": {
      "text/plain": [
       "{'val_loss': 0.3165912926197052, 'val_acc': 0.885058581829071}"
      ]
     },
     "execution_count": 20,
     "metadata": {},
     "output_type": "execute_result"
    }
   ],
   "source": [
    "evaluate(model, test_loader)        #accuracy on test set"
   ]
  },
  {
   "cell_type": "markdown",
   "id": "0f91874c",
   "metadata": {
    "papermill": {
     "duration": 0.007941,
     "end_time": "2022-09-27T15:38:07.110526",
     "exception": false,
     "start_time": "2022-09-27T15:38:07.102585",
     "status": "completed"
    },
    "tags": []
   },
   "source": [
    "## Saving the weights"
   ]
  },
  {
   "cell_type": "code",
   "execution_count": 21,
   "id": "3c3ed254",
   "metadata": {
    "execution": {
     "iopub.execute_input": "2022-09-27T15:38:07.128394Z",
     "iopub.status.busy": "2022-09-27T15:38:07.127462Z",
     "iopub.status.idle": "2022-09-27T15:38:07.140173Z",
     "shell.execute_reply": "2022-09-27T15:38:07.139307Z"
    },
    "papermill": {
     "duration": 0.023642,
     "end_time": "2022-09-27T15:38:07.142090",
     "exception": false,
     "start_time": "2022-09-27T15:38:07.118448",
     "status": "completed"
    },
    "tags": []
   },
   "outputs": [],
   "source": [
    "saved_weights_fname='fashion-feedforward.pth'\n",
    "torch.save(model.state_dict(), saved_weights_fname)"
   ]
  }
 ],
 "metadata": {
  "kernelspec": {
   "display_name": "Python 3",
   "language": "python",
   "name": "python3"
  },
  "language_info": {
   "codemirror_mode": {
    "name": "ipython",
    "version": 3
   },
   "file_extension": ".py",
   "mimetype": "text/x-python",
   "name": "python",
   "nbconvert_exporter": "python",
   "pygments_lexer": "ipython3",
   "version": "3.7.12"
  },
  "papermill": {
   "default_parameters": {},
   "duration": 147.304433,
   "end_time": "2022-09-27T15:38:08.271387",
   "environment_variables": {},
   "exception": null,
   "input_path": "__notebook__.ipynb",
   "output_path": "__notebook__.ipynb",
   "parameters": {},
   "start_time": "2022-09-27T15:35:40.966954",
   "version": "2.3.4"
  },
  "widgets": {
   "application/vnd.jupyter.widget-state+json": {
    "state": {
     "03a8db797b6741fc8608ec1d2e92036f": {
      "model_module": "@jupyter-widgets/base",
      "model_module_version": "1.2.0",
      "model_name": "LayoutModel",
      "state": {
       "_model_module": "@jupyter-widgets/base",
       "_model_module_version": "1.2.0",
       "_model_name": "LayoutModel",
       "_view_count": null,
       "_view_module": "@jupyter-widgets/base",
       "_view_module_version": "1.2.0",
       "_view_name": "LayoutView",
       "align_content": null,
       "align_items": null,
       "align_self": null,
       "border": null,
       "bottom": null,
       "display": null,
       "flex": null,
       "flex_flow": null,
       "grid_area": null,
       "grid_auto_columns": null,
       "grid_auto_flow": null,
       "grid_auto_rows": null,
       "grid_column": null,
       "grid_gap": null,
       "grid_row": null,
       "grid_template_areas": null,
       "grid_template_columns": null,
       "grid_template_rows": null,
       "height": null,
       "justify_content": null,
       "justify_items": null,
       "left": null,
       "margin": null,
       "max_height": null,
       "max_width": null,
       "min_height": null,
       "min_width": null,
       "object_fit": null,
       "object_position": null,
       "order": null,
       "overflow": null,
       "overflow_x": null,
       "overflow_y": null,
       "padding": null,
       "right": null,
       "top": null,
       "visibility": null,
       "width": null
      }
     },
     "0c5e9919bd5a42b395c89b10d49eeaa4": {
      "model_module": "@jupyter-widgets/controls",
      "model_module_version": "1.5.0",
      "model_name": "ProgressStyleModel",
      "state": {
       "_model_module": "@jupyter-widgets/controls",
       "_model_module_version": "1.5.0",
       "_model_name": "ProgressStyleModel",
       "_view_count": null,
       "_view_module": "@jupyter-widgets/base",
       "_view_module_version": "1.2.0",
       "_view_name": "StyleView",
       "bar_color": null,
       "description_width": ""
      }
     },
     "1553c093d34844fe8be128d3dcd0971f": {
      "model_module": "@jupyter-widgets/controls",
      "model_module_version": "1.5.0",
      "model_name": "ProgressStyleModel",
      "state": {
       "_model_module": "@jupyter-widgets/controls",
       "_model_module_version": "1.5.0",
       "_model_name": "ProgressStyleModel",
       "_view_count": null,
       "_view_module": "@jupyter-widgets/base",
       "_view_module_version": "1.2.0",
       "_view_name": "StyleView",
       "bar_color": null,
       "description_width": ""
      }
     },
     "19d2e9e8afef4472b910a54fe457a163": {
      "model_module": "@jupyter-widgets/base",
      "model_module_version": "1.2.0",
      "model_name": "LayoutModel",
      "state": {
       "_model_module": "@jupyter-widgets/base",
       "_model_module_version": "1.2.0",
       "_model_name": "LayoutModel",
       "_view_count": null,
       "_view_module": "@jupyter-widgets/base",
       "_view_module_version": "1.2.0",
       "_view_name": "LayoutView",
       "align_content": null,
       "align_items": null,
       "align_self": null,
       "border": null,
       "bottom": null,
       "display": null,
       "flex": null,
       "flex_flow": null,
       "grid_area": null,
       "grid_auto_columns": null,
       "grid_auto_flow": null,
       "grid_auto_rows": null,
       "grid_column": null,
       "grid_gap": null,
       "grid_row": null,
       "grid_template_areas": null,
       "grid_template_columns": null,
       "grid_template_rows": null,
       "height": null,
       "justify_content": null,
       "justify_items": null,
       "left": null,
       "margin": null,
       "max_height": null,
       "max_width": null,
       "min_height": null,
       "min_width": null,
       "object_fit": null,
       "object_position": null,
       "order": null,
       "overflow": null,
       "overflow_x": null,
       "overflow_y": null,
       "padding": null,
       "right": null,
       "top": null,
       "visibility": null,
       "width": null
      }
     },
     "1b6ed188b6d74401bcad73623072b1f1": {
      "model_module": "@jupyter-widgets/base",
      "model_module_version": "1.2.0",
      "model_name": "LayoutModel",
      "state": {
       "_model_module": "@jupyter-widgets/base",
       "_model_module_version": "1.2.0",
       "_model_name": "LayoutModel",
       "_view_count": null,
       "_view_module": "@jupyter-widgets/base",
       "_view_module_version": "1.2.0",
       "_view_name": "LayoutView",
       "align_content": null,
       "align_items": null,
       "align_self": null,
       "border": null,
       "bottom": null,
       "display": null,
       "flex": null,
       "flex_flow": null,
       "grid_area": null,
       "grid_auto_columns": null,
       "grid_auto_flow": null,
       "grid_auto_rows": null,
       "grid_column": null,
       "grid_gap": null,
       "grid_row": null,
       "grid_template_areas": null,
       "grid_template_columns": null,
       "grid_template_rows": null,
       "height": null,
       "justify_content": null,
       "justify_items": null,
       "left": null,
       "margin": null,
       "max_height": null,
       "max_width": null,
       "min_height": null,
       "min_width": null,
       "object_fit": null,
       "object_position": null,
       "order": null,
       "overflow": null,
       "overflow_x": null,
       "overflow_y": null,
       "padding": null,
       "right": null,
       "top": null,
       "visibility": null,
       "width": null
      }
     },
     "1df5ebbafba94037bdad0b12c331b2ed": {
      "model_module": "@jupyter-widgets/base",
      "model_module_version": "1.2.0",
      "model_name": "LayoutModel",
      "state": {
       "_model_module": "@jupyter-widgets/base",
       "_model_module_version": "1.2.0",
       "_model_name": "LayoutModel",
       "_view_count": null,
       "_view_module": "@jupyter-widgets/base",
       "_view_module_version": "1.2.0",
       "_view_name": "LayoutView",
       "align_content": null,
       "align_items": null,
       "align_self": null,
       "border": null,
       "bottom": null,
       "display": null,
       "flex": null,
       "flex_flow": null,
       "grid_area": null,
       "grid_auto_columns": null,
       "grid_auto_flow": null,
       "grid_auto_rows": null,
       "grid_column": null,
       "grid_gap": null,
       "grid_row": null,
       "grid_template_areas": null,
       "grid_template_columns": null,
       "grid_template_rows": null,
       "height": null,
       "justify_content": null,
       "justify_items": null,
       "left": null,
       "margin": null,
       "max_height": null,
       "max_width": null,
       "min_height": null,
       "min_width": null,
       "object_fit": null,
       "object_position": null,
       "order": null,
       "overflow": null,
       "overflow_x": null,
       "overflow_y": null,
       "padding": null,
       "right": null,
       "top": null,
       "visibility": null,
       "width": null
      }
     },
     "238bc4917a1b46c6831dc7c46937cc2a": {
      "model_module": "@jupyter-widgets/controls",
      "model_module_version": "1.5.0",
      "model_name": "DescriptionStyleModel",
      "state": {
       "_model_module": "@jupyter-widgets/controls",
       "_model_module_version": "1.5.0",
       "_model_name": "DescriptionStyleModel",
       "_view_count": null,
       "_view_module": "@jupyter-widgets/base",
       "_view_module_version": "1.2.0",
       "_view_name": "StyleView",
       "description_width": ""
      }
     },
     "2485bb4369c04fd9abdeec2722f8050c": {
      "model_module": "@jupyter-widgets/controls",
      "model_module_version": "1.5.0",
      "model_name": "FloatProgressModel",
      "state": {
       "_dom_classes": [],
       "_model_module": "@jupyter-widgets/controls",
       "_model_module_version": "1.5.0",
       "_model_name": "FloatProgressModel",
       "_view_count": null,
       "_view_module": "@jupyter-widgets/controls",
       "_view_module_version": "1.5.0",
       "_view_name": "ProgressView",
       "bar_style": "success",
       "description": "",
       "description_tooltip": null,
       "layout": "IPY_MODEL_df77a21e5e4244ffa42ac20d845bdcb9",
       "max": 4422102.0,
       "min": 0.0,
       "orientation": "horizontal",
       "style": "IPY_MODEL_f8dc14c46bc04e0ca6a495c737ae08e0",
       "value": 4422102.0
      }
     },
     "2b2f7c1bdd964e8e9ea0f0f4211086bb": {
      "model_module": "@jupyter-widgets/controls",
      "model_module_version": "1.5.0",
      "model_name": "HTMLModel",
      "state": {
       "_dom_classes": [],
       "_model_module": "@jupyter-widgets/controls",
       "_model_module_version": "1.5.0",
       "_model_name": "HTMLModel",
       "_view_count": null,
       "_view_module": "@jupyter-widgets/controls",
       "_view_module_version": "1.5.0",
       "_view_name": "HTMLView",
       "description": "",
       "description_tooltip": null,
       "layout": "IPY_MODEL_1df5ebbafba94037bdad0b12c331b2ed",
       "placeholder": "​",
       "style": "IPY_MODEL_914063e2e2474134b61482e9a3bb6326",
       "value": " 4422656/? [00:00&lt;00:00, 29122379.47it/s]"
      }
     },
     "2b492d62beeb44a39e757f5d65a1f825": {
      "model_module": "@jupyter-widgets/controls",
      "model_module_version": "1.5.0",
      "model_name": "ProgressStyleModel",
      "state": {
       "_model_module": "@jupyter-widgets/controls",
       "_model_module_version": "1.5.0",
       "_model_name": "ProgressStyleModel",
       "_view_count": null,
       "_view_module": "@jupyter-widgets/base",
       "_view_module_version": "1.2.0",
       "_view_name": "StyleView",
       "bar_color": null,
       "description_width": ""
      }
     },
     "337e825c0561432bbbedd921e18fed05": {
      "model_module": "@jupyter-widgets/controls",
      "model_module_version": "1.5.0",
      "model_name": "HTMLModel",
      "state": {
       "_dom_classes": [],
       "_model_module": "@jupyter-widgets/controls",
       "_model_module_version": "1.5.0",
       "_model_name": "HTMLModel",
       "_view_count": null,
       "_view_module": "@jupyter-widgets/controls",
       "_view_module_version": "1.5.0",
       "_view_name": "HTMLView",
       "description": "",
       "description_tooltip": null,
       "layout": "IPY_MODEL_03a8db797b6741fc8608ec1d2e92036f",
       "placeholder": "​",
       "style": "IPY_MODEL_c570f24d85ba4f8f95974b4d3fc56429",
       "value": ""
      }
     },
     "3c530eaff3fb4bd2b8feff6fe749613e": {
      "model_module": "@jupyter-widgets/controls",
      "model_module_version": "1.5.0",
      "model_name": "DescriptionStyleModel",
      "state": {
       "_model_module": "@jupyter-widgets/controls",
       "_model_module_version": "1.5.0",
       "_model_name": "DescriptionStyleModel",
       "_view_count": null,
       "_view_module": "@jupyter-widgets/base",
       "_view_module_version": "1.2.0",
       "_view_name": "StyleView",
       "description_width": ""
      }
     },
     "3ed42e3240384312901038f736d17cfa": {
      "model_module": "@jupyter-widgets/controls",
      "model_module_version": "1.5.0",
      "model_name": "HBoxModel",
      "state": {
       "_dom_classes": [],
       "_model_module": "@jupyter-widgets/controls",
       "_model_module_version": "1.5.0",
       "_model_name": "HBoxModel",
       "_view_count": null,
       "_view_module": "@jupyter-widgets/controls",
       "_view_module_version": "1.5.0",
       "_view_name": "HBoxView",
       "box_style": "",
       "children": [
        "IPY_MODEL_e8334ff6a001444d8cf51bad0cffa935",
        "IPY_MODEL_e45c1e39f53e4ef085cefeb7b2607655",
        "IPY_MODEL_dbfb29c24f5d4e6e854405803da8149e"
       ],
       "layout": "IPY_MODEL_66a9d87e02d94d3495d05dbc980ad878"
      }
     },
     "48e0ea599ede4daa8c324a949f2e16fb": {
      "model_module": "@jupyter-widgets/controls",
      "model_module_version": "1.5.0",
      "model_name": "HBoxModel",
      "state": {
       "_dom_classes": [],
       "_model_module": "@jupyter-widgets/controls",
       "_model_module_version": "1.5.0",
       "_model_name": "HBoxModel",
       "_view_count": null,
       "_view_module": "@jupyter-widgets/controls",
       "_view_module_version": "1.5.0",
       "_view_name": "HBoxView",
       "box_style": "",
       "children": [
        "IPY_MODEL_de4122e1281d4017970c6024f54d6cd6",
        "IPY_MODEL_2485bb4369c04fd9abdeec2722f8050c",
        "IPY_MODEL_2b2f7c1bdd964e8e9ea0f0f4211086bb"
       ],
       "layout": "IPY_MODEL_93fbad133e2243968724c9049172ac8a"
      }
     },
     "51c84c7b4aac4f7aac2caa0c50c5baca": {
      "model_module": "@jupyter-widgets/base",
      "model_module_version": "1.2.0",
      "model_name": "LayoutModel",
      "state": {
       "_model_module": "@jupyter-widgets/base",
       "_model_module_version": "1.2.0",
       "_model_name": "LayoutModel",
       "_view_count": null,
       "_view_module": "@jupyter-widgets/base",
       "_view_module_version": "1.2.0",
       "_view_name": "LayoutView",
       "align_content": null,
       "align_items": null,
       "align_self": null,
       "border": null,
       "bottom": null,
       "display": null,
       "flex": null,
       "flex_flow": null,
       "grid_area": null,
       "grid_auto_columns": null,
       "grid_auto_flow": null,
       "grid_auto_rows": null,
       "grid_column": null,
       "grid_gap": null,
       "grid_row": null,
       "grid_template_areas": null,
       "grid_template_columns": null,
       "grid_template_rows": null,
       "height": null,
       "justify_content": null,
       "justify_items": null,
       "left": null,
       "margin": null,
       "max_height": null,
       "max_width": null,
       "min_height": null,
       "min_width": null,
       "object_fit": null,
       "object_position": null,
       "order": null,
       "overflow": null,
       "overflow_x": null,
       "overflow_y": null,
       "padding": null,
       "right": null,
       "top": null,
       "visibility": null,
       "width": null
      }
     },
     "55faaeefe0344bb5a5eeb52e16138140": {
      "model_module": "@jupyter-widgets/controls",
      "model_module_version": "1.5.0",
      "model_name": "HTMLModel",
      "state": {
       "_dom_classes": [],
       "_model_module": "@jupyter-widgets/controls",
       "_model_module_version": "1.5.0",
       "_model_name": "HTMLModel",
       "_view_count": null,
       "_view_module": "@jupyter-widgets/controls",
       "_view_module_version": "1.5.0",
       "_view_name": "HTMLView",
       "description": "",
       "description_tooltip": null,
       "layout": "IPY_MODEL_51c84c7b4aac4f7aac2caa0c50c5baca",
       "placeholder": "​",
       "style": "IPY_MODEL_824c44b46ca94b678d16ad9997303d6f",
       "value": " 29696/? [00:00&lt;00:00, 785007.83it/s]"
      }
     },
     "598ab266aa06420a92c5c54dfbf664f4": {
      "model_module": "@jupyter-widgets/base",
      "model_module_version": "1.2.0",
      "model_name": "LayoutModel",
      "state": {
       "_model_module": "@jupyter-widgets/base",
       "_model_module_version": "1.2.0",
       "_model_name": "LayoutModel",
       "_view_count": null,
       "_view_module": "@jupyter-widgets/base",
       "_view_module_version": "1.2.0",
       "_view_name": "LayoutView",
       "align_content": null,
       "align_items": null,
       "align_self": null,
       "border": null,
       "bottom": null,
       "display": null,
       "flex": null,
       "flex_flow": null,
       "grid_area": null,
       "grid_auto_columns": null,
       "grid_auto_flow": null,
       "grid_auto_rows": null,
       "grid_column": null,
       "grid_gap": null,
       "grid_row": null,
       "grid_template_areas": null,
       "grid_template_columns": null,
       "grid_template_rows": null,
       "height": null,
       "justify_content": null,
       "justify_items": null,
       "left": null,
       "margin": null,
       "max_height": null,
       "max_width": null,
       "min_height": null,
       "min_width": null,
       "object_fit": null,
       "object_position": null,
       "order": null,
       "overflow": null,
       "overflow_x": null,
       "overflow_y": null,
       "padding": null,
       "right": null,
       "top": null,
       "visibility": null,
       "width": null
      }
     },
     "66a9d87e02d94d3495d05dbc980ad878": {
      "model_module": "@jupyter-widgets/base",
      "model_module_version": "1.2.0",
      "model_name": "LayoutModel",
      "state": {
       "_model_module": "@jupyter-widgets/base",
       "_model_module_version": "1.2.0",
       "_model_name": "LayoutModel",
       "_view_count": null,
       "_view_module": "@jupyter-widgets/base",
       "_view_module_version": "1.2.0",
       "_view_name": "LayoutView",
       "align_content": null,
       "align_items": null,
       "align_self": null,
       "border": null,
       "bottom": null,
       "display": null,
       "flex": null,
       "flex_flow": null,
       "grid_area": null,
       "grid_auto_columns": null,
       "grid_auto_flow": null,
       "grid_auto_rows": null,
       "grid_column": null,
       "grid_gap": null,
       "grid_row": null,
       "grid_template_areas": null,
       "grid_template_columns": null,
       "grid_template_rows": null,
       "height": null,
       "justify_content": null,
       "justify_items": null,
       "left": null,
       "margin": null,
       "max_height": null,
       "max_width": null,
       "min_height": null,
       "min_width": null,
       "object_fit": null,
       "object_position": null,
       "order": null,
       "overflow": null,
       "overflow_x": null,
       "overflow_y": null,
       "padding": null,
       "right": null,
       "top": null,
       "visibility": null,
       "width": null
      }
     },
     "6827eab9a56c4f2fb0efaf2762b0ea9c": {
      "model_module": "@jupyter-widgets/controls",
      "model_module_version": "1.5.0",
      "model_name": "HTMLModel",
      "state": {
       "_dom_classes": [],
       "_model_module": "@jupyter-widgets/controls",
       "_model_module_version": "1.5.0",
       "_model_name": "HTMLModel",
       "_view_count": null,
       "_view_module": "@jupyter-widgets/controls",
       "_view_module_version": "1.5.0",
       "_view_name": "HTMLView",
       "description": "",
       "description_tooltip": null,
       "layout": "IPY_MODEL_598ab266aa06420a92c5c54dfbf664f4",
       "placeholder": "​",
       "style": "IPY_MODEL_e468696d74974e809b29e20b5f20308c",
       "value": ""
      }
     },
     "6aeaf2936d43486ebe4e8fcecc61684e": {
      "model_module": "@jupyter-widgets/controls",
      "model_module_version": "1.5.0",
      "model_name": "HBoxModel",
      "state": {
       "_dom_classes": [],
       "_model_module": "@jupyter-widgets/controls",
       "_model_module_version": "1.5.0",
       "_model_name": "HBoxModel",
       "_view_count": null,
       "_view_module": "@jupyter-widgets/controls",
       "_view_module_version": "1.5.0",
       "_view_name": "HBoxView",
       "box_style": "",
       "children": [
        "IPY_MODEL_6827eab9a56c4f2fb0efaf2762b0ea9c",
        "IPY_MODEL_aef5a3c5819a46209cb6c64e60bbfc96",
        "IPY_MODEL_55faaeefe0344bb5a5eeb52e16138140"
       ],
       "layout": "IPY_MODEL_19d2e9e8afef4472b910a54fe457a163"
      }
     },
     "73a4812ddd4f453ba8578608ccd8d9ff": {
      "model_module": "@jupyter-widgets/controls",
      "model_module_version": "1.5.0",
      "model_name": "HBoxModel",
      "state": {
       "_dom_classes": [],
       "_model_module": "@jupyter-widgets/controls",
       "_model_module_version": "1.5.0",
       "_model_name": "HBoxModel",
       "_view_count": null,
       "_view_module": "@jupyter-widgets/controls",
       "_view_module_version": "1.5.0",
       "_view_name": "HBoxView",
       "box_style": "",
       "children": [
        "IPY_MODEL_337e825c0561432bbbedd921e18fed05",
        "IPY_MODEL_f545d1721bd2402dba0ba347242fa329",
        "IPY_MODEL_ca27e5d4b2034971a3309701846dafd8"
       ],
       "layout": "IPY_MODEL_f26340f9028d4b4797ae95e00d8f9e02"
      }
     },
     "77a780fae12a42549284b3aaa4e3f441": {
      "model_module": "@jupyter-widgets/controls",
      "model_module_version": "1.5.0",
      "model_name": "DescriptionStyleModel",
      "state": {
       "_model_module": "@jupyter-widgets/controls",
       "_model_module_version": "1.5.0",
       "_model_name": "DescriptionStyleModel",
       "_view_count": null,
       "_view_module": "@jupyter-widgets/base",
       "_view_module_version": "1.2.0",
       "_view_name": "StyleView",
       "description_width": ""
      }
     },
     "80234dbfe2384e7796a22dcaa6e6abe4": {
      "model_module": "@jupyter-widgets/base",
      "model_module_version": "1.2.0",
      "model_name": "LayoutModel",
      "state": {
       "_model_module": "@jupyter-widgets/base",
       "_model_module_version": "1.2.0",
       "_model_name": "LayoutModel",
       "_view_count": null,
       "_view_module": "@jupyter-widgets/base",
       "_view_module_version": "1.2.0",
       "_view_name": "LayoutView",
       "align_content": null,
       "align_items": null,
       "align_self": null,
       "border": null,
       "bottom": null,
       "display": null,
       "flex": null,
       "flex_flow": null,
       "grid_area": null,
       "grid_auto_columns": null,
       "grid_auto_flow": null,
       "grid_auto_rows": null,
       "grid_column": null,
       "grid_gap": null,
       "grid_row": null,
       "grid_template_areas": null,
       "grid_template_columns": null,
       "grid_template_rows": null,
       "height": null,
       "justify_content": null,
       "justify_items": null,
       "left": null,
       "margin": null,
       "max_height": null,
       "max_width": null,
       "min_height": null,
       "min_width": null,
       "object_fit": null,
       "object_position": null,
       "order": null,
       "overflow": null,
       "overflow_x": null,
       "overflow_y": null,
       "padding": null,
       "right": null,
       "top": null,
       "visibility": null,
       "width": null
      }
     },
     "824c44b46ca94b678d16ad9997303d6f": {
      "model_module": "@jupyter-widgets/controls",
      "model_module_version": "1.5.0",
      "model_name": "DescriptionStyleModel",
      "state": {
       "_model_module": "@jupyter-widgets/controls",
       "_model_module_version": "1.5.0",
       "_model_name": "DescriptionStyleModel",
       "_view_count": null,
       "_view_module": "@jupyter-widgets/base",
       "_view_module_version": "1.2.0",
       "_view_name": "StyleView",
       "description_width": ""
      }
     },
     "914063e2e2474134b61482e9a3bb6326": {
      "model_module": "@jupyter-widgets/controls",
      "model_module_version": "1.5.0",
      "model_name": "DescriptionStyleModel",
      "state": {
       "_model_module": "@jupyter-widgets/controls",
       "_model_module_version": "1.5.0",
       "_model_name": "DescriptionStyleModel",
       "_view_count": null,
       "_view_module": "@jupyter-widgets/base",
       "_view_module_version": "1.2.0",
       "_view_name": "StyleView",
       "description_width": ""
      }
     },
     "93fbad133e2243968724c9049172ac8a": {
      "model_module": "@jupyter-widgets/base",
      "model_module_version": "1.2.0",
      "model_name": "LayoutModel",
      "state": {
       "_model_module": "@jupyter-widgets/base",
       "_model_module_version": "1.2.0",
       "_model_name": "LayoutModel",
       "_view_count": null,
       "_view_module": "@jupyter-widgets/base",
       "_view_module_version": "1.2.0",
       "_view_name": "LayoutView",
       "align_content": null,
       "align_items": null,
       "align_self": null,
       "border": null,
       "bottom": null,
       "display": null,
       "flex": null,
       "flex_flow": null,
       "grid_area": null,
       "grid_auto_columns": null,
       "grid_auto_flow": null,
       "grid_auto_rows": null,
       "grid_column": null,
       "grid_gap": null,
       "grid_row": null,
       "grid_template_areas": null,
       "grid_template_columns": null,
       "grid_template_rows": null,
       "height": null,
       "justify_content": null,
       "justify_items": null,
       "left": null,
       "margin": null,
       "max_height": null,
       "max_width": null,
       "min_height": null,
       "min_width": null,
       "object_fit": null,
       "object_position": null,
       "order": null,
       "overflow": null,
       "overflow_x": null,
       "overflow_y": null,
       "padding": null,
       "right": null,
       "top": null,
       "visibility": null,
       "width": null
      }
     },
     "9aa315074cb44d3c8af77aad5a9a79a3": {
      "model_module": "@jupyter-widgets/base",
      "model_module_version": "1.2.0",
      "model_name": "LayoutModel",
      "state": {
       "_model_module": "@jupyter-widgets/base",
       "_model_module_version": "1.2.0",
       "_model_name": "LayoutModel",
       "_view_count": null,
       "_view_module": "@jupyter-widgets/base",
       "_view_module_version": "1.2.0",
       "_view_name": "LayoutView",
       "align_content": null,
       "align_items": null,
       "align_self": null,
       "border": null,
       "bottom": null,
       "display": null,
       "flex": null,
       "flex_flow": null,
       "grid_area": null,
       "grid_auto_columns": null,
       "grid_auto_flow": null,
       "grid_auto_rows": null,
       "grid_column": null,
       "grid_gap": null,
       "grid_row": null,
       "grid_template_areas": null,
       "grid_template_columns": null,
       "grid_template_rows": null,
       "height": null,
       "justify_content": null,
       "justify_items": null,
       "left": null,
       "margin": null,
       "max_height": null,
       "max_width": null,
       "min_height": null,
       "min_width": null,
       "object_fit": null,
       "object_position": null,
       "order": null,
       "overflow": null,
       "overflow_x": null,
       "overflow_y": null,
       "padding": null,
       "right": null,
       "top": null,
       "visibility": null,
       "width": null
      }
     },
     "aef5a3c5819a46209cb6c64e60bbfc96": {
      "model_module": "@jupyter-widgets/controls",
      "model_module_version": "1.5.0",
      "model_name": "FloatProgressModel",
      "state": {
       "_dom_classes": [],
       "_model_module": "@jupyter-widgets/controls",
       "_model_module_version": "1.5.0",
       "_model_name": "FloatProgressModel",
       "_view_count": null,
       "_view_module": "@jupyter-widgets/controls",
       "_view_module_version": "1.5.0",
       "_view_name": "ProgressView",
       "bar_style": "success",
       "description": "",
       "description_tooltip": null,
       "layout": "IPY_MODEL_f739b77a23f64531b9eac7b28261e476",
       "max": 29515.0,
       "min": 0.0,
       "orientation": "horizontal",
       "style": "IPY_MODEL_0c5e9919bd5a42b395c89b10d49eeaa4",
       "value": 29515.0
      }
     },
     "c570f24d85ba4f8f95974b4d3fc56429": {
      "model_module": "@jupyter-widgets/controls",
      "model_module_version": "1.5.0",
      "model_name": "DescriptionStyleModel",
      "state": {
       "_model_module": "@jupyter-widgets/controls",
       "_model_module_version": "1.5.0",
       "_model_name": "DescriptionStyleModel",
       "_view_count": null,
       "_view_module": "@jupyter-widgets/base",
       "_view_module_version": "1.2.0",
       "_view_name": "StyleView",
       "description_width": ""
      }
     },
     "ca27e5d4b2034971a3309701846dafd8": {
      "model_module": "@jupyter-widgets/controls",
      "model_module_version": "1.5.0",
      "model_name": "HTMLModel",
      "state": {
       "_dom_classes": [],
       "_model_module": "@jupyter-widgets/controls",
       "_model_module_version": "1.5.0",
       "_model_name": "HTMLModel",
       "_view_count": null,
       "_view_module": "@jupyter-widgets/controls",
       "_view_module_version": "1.5.0",
       "_view_name": "HTMLView",
       "description": "",
       "description_tooltip": null,
       "layout": "IPY_MODEL_9aa315074cb44d3c8af77aad5a9a79a3",
       "placeholder": "​",
       "style": "IPY_MODEL_238bc4917a1b46c6831dc7c46937cc2a",
       "value": " 26422272/? [00:00&lt;00:00, 75067985.10it/s]"
      }
     },
     "da0d6a6ccfcb4e20bec7f683b0298a42": {
      "model_module": "@jupyter-widgets/base",
      "model_module_version": "1.2.0",
      "model_name": "LayoutModel",
      "state": {
       "_model_module": "@jupyter-widgets/base",
       "_model_module_version": "1.2.0",
       "_model_name": "LayoutModel",
       "_view_count": null,
       "_view_module": "@jupyter-widgets/base",
       "_view_module_version": "1.2.0",
       "_view_name": "LayoutView",
       "align_content": null,
       "align_items": null,
       "align_self": null,
       "border": null,
       "bottom": null,
       "display": null,
       "flex": null,
       "flex_flow": null,
       "grid_area": null,
       "grid_auto_columns": null,
       "grid_auto_flow": null,
       "grid_auto_rows": null,
       "grid_column": null,
       "grid_gap": null,
       "grid_row": null,
       "grid_template_areas": null,
       "grid_template_columns": null,
       "grid_template_rows": null,
       "height": null,
       "justify_content": null,
       "justify_items": null,
       "left": null,
       "margin": null,
       "max_height": null,
       "max_width": null,
       "min_height": null,
       "min_width": null,
       "object_fit": null,
       "object_position": null,
       "order": null,
       "overflow": null,
       "overflow_x": null,
       "overflow_y": null,
       "padding": null,
       "right": null,
       "top": null,
       "visibility": null,
       "width": null
      }
     },
     "dbfb29c24f5d4e6e854405803da8149e": {
      "model_module": "@jupyter-widgets/controls",
      "model_module_version": "1.5.0",
      "model_name": "HTMLModel",
      "state": {
       "_dom_classes": [],
       "_model_module": "@jupyter-widgets/controls",
       "_model_module_version": "1.5.0",
       "_model_name": "HTMLModel",
       "_view_count": null,
       "_view_module": "@jupyter-widgets/controls",
       "_view_module_version": "1.5.0",
       "_view_name": "HTMLView",
       "description": "",
       "description_tooltip": null,
       "layout": "IPY_MODEL_da0d6a6ccfcb4e20bec7f683b0298a42",
       "placeholder": "​",
       "style": "IPY_MODEL_fabe6f654c8f412cb7e00b8bd7c8d622",
       "value": " 6144/? [00:00&lt;00:00, 264568.89it/s]"
      }
     },
     "de4122e1281d4017970c6024f54d6cd6": {
      "model_module": "@jupyter-widgets/controls",
      "model_module_version": "1.5.0",
      "model_name": "HTMLModel",
      "state": {
       "_dom_classes": [],
       "_model_module": "@jupyter-widgets/controls",
       "_model_module_version": "1.5.0",
       "_model_name": "HTMLModel",
       "_view_count": null,
       "_view_module": "@jupyter-widgets/controls",
       "_view_module_version": "1.5.0",
       "_view_name": "HTMLView",
       "description": "",
       "description_tooltip": null,
       "layout": "IPY_MODEL_fdd49ec2a07d4910bdbbbcb51985051e",
       "placeholder": "​",
       "style": "IPY_MODEL_3c530eaff3fb4bd2b8feff6fe749613e",
       "value": ""
      }
     },
     "df77a21e5e4244ffa42ac20d845bdcb9": {
      "model_module": "@jupyter-widgets/base",
      "model_module_version": "1.2.0",
      "model_name": "LayoutModel",
      "state": {
       "_model_module": "@jupyter-widgets/base",
       "_model_module_version": "1.2.0",
       "_model_name": "LayoutModel",
       "_view_count": null,
       "_view_module": "@jupyter-widgets/base",
       "_view_module_version": "1.2.0",
       "_view_name": "LayoutView",
       "align_content": null,
       "align_items": null,
       "align_self": null,
       "border": null,
       "bottom": null,
       "display": null,
       "flex": null,
       "flex_flow": null,
       "grid_area": null,
       "grid_auto_columns": null,
       "grid_auto_flow": null,
       "grid_auto_rows": null,
       "grid_column": null,
       "grid_gap": null,
       "grid_row": null,
       "grid_template_areas": null,
       "grid_template_columns": null,
       "grid_template_rows": null,
       "height": null,
       "justify_content": null,
       "justify_items": null,
       "left": null,
       "margin": null,
       "max_height": null,
       "max_width": null,
       "min_height": null,
       "min_width": null,
       "object_fit": null,
       "object_position": null,
       "order": null,
       "overflow": null,
       "overflow_x": null,
       "overflow_y": null,
       "padding": null,
       "right": null,
       "top": null,
       "visibility": null,
       "width": null
      }
     },
     "e45c1e39f53e4ef085cefeb7b2607655": {
      "model_module": "@jupyter-widgets/controls",
      "model_module_version": "1.5.0",
      "model_name": "FloatProgressModel",
      "state": {
       "_dom_classes": [],
       "_model_module": "@jupyter-widgets/controls",
       "_model_module_version": "1.5.0",
       "_model_name": "FloatProgressModel",
       "_view_count": null,
       "_view_module": "@jupyter-widgets/controls",
       "_view_module_version": "1.5.0",
       "_view_name": "ProgressView",
       "bar_style": "success",
       "description": "",
       "description_tooltip": null,
       "layout": "IPY_MODEL_1b6ed188b6d74401bcad73623072b1f1",
       "max": 5148.0,
       "min": 0.0,
       "orientation": "horizontal",
       "style": "IPY_MODEL_1553c093d34844fe8be128d3dcd0971f",
       "value": 5148.0
      }
     },
     "e468696d74974e809b29e20b5f20308c": {
      "model_module": "@jupyter-widgets/controls",
      "model_module_version": "1.5.0",
      "model_name": "DescriptionStyleModel",
      "state": {
       "_model_module": "@jupyter-widgets/controls",
       "_model_module_version": "1.5.0",
       "_model_name": "DescriptionStyleModel",
       "_view_count": null,
       "_view_module": "@jupyter-widgets/base",
       "_view_module_version": "1.2.0",
       "_view_name": "StyleView",
       "description_width": ""
      }
     },
     "e8334ff6a001444d8cf51bad0cffa935": {
      "model_module": "@jupyter-widgets/controls",
      "model_module_version": "1.5.0",
      "model_name": "HTMLModel",
      "state": {
       "_dom_classes": [],
       "_model_module": "@jupyter-widgets/controls",
       "_model_module_version": "1.5.0",
       "_model_name": "HTMLModel",
       "_view_count": null,
       "_view_module": "@jupyter-widgets/controls",
       "_view_module_version": "1.5.0",
       "_view_name": "HTMLView",
       "description": "",
       "description_tooltip": null,
       "layout": "IPY_MODEL_ffe0e5af36d94cb1aeb57d2355658c86",
       "placeholder": "​",
       "style": "IPY_MODEL_77a780fae12a42549284b3aaa4e3f441",
       "value": ""
      }
     },
     "f26340f9028d4b4797ae95e00d8f9e02": {
      "model_module": "@jupyter-widgets/base",
      "model_module_version": "1.2.0",
      "model_name": "LayoutModel",
      "state": {
       "_model_module": "@jupyter-widgets/base",
       "_model_module_version": "1.2.0",
       "_model_name": "LayoutModel",
       "_view_count": null,
       "_view_module": "@jupyter-widgets/base",
       "_view_module_version": "1.2.0",
       "_view_name": "LayoutView",
       "align_content": null,
       "align_items": null,
       "align_self": null,
       "border": null,
       "bottom": null,
       "display": null,
       "flex": null,
       "flex_flow": null,
       "grid_area": null,
       "grid_auto_columns": null,
       "grid_auto_flow": null,
       "grid_auto_rows": null,
       "grid_column": null,
       "grid_gap": null,
       "grid_row": null,
       "grid_template_areas": null,
       "grid_template_columns": null,
       "grid_template_rows": null,
       "height": null,
       "justify_content": null,
       "justify_items": null,
       "left": null,
       "margin": null,
       "max_height": null,
       "max_width": null,
       "min_height": null,
       "min_width": null,
       "object_fit": null,
       "object_position": null,
       "order": null,
       "overflow": null,
       "overflow_x": null,
       "overflow_y": null,
       "padding": null,
       "right": null,
       "top": null,
       "visibility": null,
       "width": null
      }
     },
     "f545d1721bd2402dba0ba347242fa329": {
      "model_module": "@jupyter-widgets/controls",
      "model_module_version": "1.5.0",
      "model_name": "FloatProgressModel",
      "state": {
       "_dom_classes": [],
       "_model_module": "@jupyter-widgets/controls",
       "_model_module_version": "1.5.0",
       "_model_name": "FloatProgressModel",
       "_view_count": null,
       "_view_module": "@jupyter-widgets/controls",
       "_view_module_version": "1.5.0",
       "_view_name": "ProgressView",
       "bar_style": "success",
       "description": "",
       "description_tooltip": null,
       "layout": "IPY_MODEL_80234dbfe2384e7796a22dcaa6e6abe4",
       "max": 26421880.0,
       "min": 0.0,
       "orientation": "horizontal",
       "style": "IPY_MODEL_2b492d62beeb44a39e757f5d65a1f825",
       "value": 26421880.0
      }
     },
     "f739b77a23f64531b9eac7b28261e476": {
      "model_module": "@jupyter-widgets/base",
      "model_module_version": "1.2.0",
      "model_name": "LayoutModel",
      "state": {
       "_model_module": "@jupyter-widgets/base",
       "_model_module_version": "1.2.0",
       "_model_name": "LayoutModel",
       "_view_count": null,
       "_view_module": "@jupyter-widgets/base",
       "_view_module_version": "1.2.0",
       "_view_name": "LayoutView",
       "align_content": null,
       "align_items": null,
       "align_self": null,
       "border": null,
       "bottom": null,
       "display": null,
       "flex": null,
       "flex_flow": null,
       "grid_area": null,
       "grid_auto_columns": null,
       "grid_auto_flow": null,
       "grid_auto_rows": null,
       "grid_column": null,
       "grid_gap": null,
       "grid_row": null,
       "grid_template_areas": null,
       "grid_template_columns": null,
       "grid_template_rows": null,
       "height": null,
       "justify_content": null,
       "justify_items": null,
       "left": null,
       "margin": null,
       "max_height": null,
       "max_width": null,
       "min_height": null,
       "min_width": null,
       "object_fit": null,
       "object_position": null,
       "order": null,
       "overflow": null,
       "overflow_x": null,
       "overflow_y": null,
       "padding": null,
       "right": null,
       "top": null,
       "visibility": null,
       "width": null
      }
     },
     "f8dc14c46bc04e0ca6a495c737ae08e0": {
      "model_module": "@jupyter-widgets/controls",
      "model_module_version": "1.5.0",
      "model_name": "ProgressStyleModel",
      "state": {
       "_model_module": "@jupyter-widgets/controls",
       "_model_module_version": "1.5.0",
       "_model_name": "ProgressStyleModel",
       "_view_count": null,
       "_view_module": "@jupyter-widgets/base",
       "_view_module_version": "1.2.0",
       "_view_name": "StyleView",
       "bar_color": null,
       "description_width": ""
      }
     },
     "fabe6f654c8f412cb7e00b8bd7c8d622": {
      "model_module": "@jupyter-widgets/controls",
      "model_module_version": "1.5.0",
      "model_name": "DescriptionStyleModel",
      "state": {
       "_model_module": "@jupyter-widgets/controls",
       "_model_module_version": "1.5.0",
       "_model_name": "DescriptionStyleModel",
       "_view_count": null,
       "_view_module": "@jupyter-widgets/base",
       "_view_module_version": "1.2.0",
       "_view_name": "StyleView",
       "description_width": ""
      }
     },
     "fdd49ec2a07d4910bdbbbcb51985051e": {
      "model_module": "@jupyter-widgets/base",
      "model_module_version": "1.2.0",
      "model_name": "LayoutModel",
      "state": {
       "_model_module": "@jupyter-widgets/base",
       "_model_module_version": "1.2.0",
       "_model_name": "LayoutModel",
       "_view_count": null,
       "_view_module": "@jupyter-widgets/base",
       "_view_module_version": "1.2.0",
       "_view_name": "LayoutView",
       "align_content": null,
       "align_items": null,
       "align_self": null,
       "border": null,
       "bottom": null,
       "display": null,
       "flex": null,
       "flex_flow": null,
       "grid_area": null,
       "grid_auto_columns": null,
       "grid_auto_flow": null,
       "grid_auto_rows": null,
       "grid_column": null,
       "grid_gap": null,
       "grid_row": null,
       "grid_template_areas": null,
       "grid_template_columns": null,
       "grid_template_rows": null,
       "height": null,
       "justify_content": null,
       "justify_items": null,
       "left": null,
       "margin": null,
       "max_height": null,
       "max_width": null,
       "min_height": null,
       "min_width": null,
       "object_fit": null,
       "object_position": null,
       "order": null,
       "overflow": null,
       "overflow_x": null,
       "overflow_y": null,
       "padding": null,
       "right": null,
       "top": null,
       "visibility": null,
       "width": null
      }
     },
     "ffe0e5af36d94cb1aeb57d2355658c86": {
      "model_module": "@jupyter-widgets/base",
      "model_module_version": "1.2.0",
      "model_name": "LayoutModel",
      "state": {
       "_model_module": "@jupyter-widgets/base",
       "_model_module_version": "1.2.0",
       "_model_name": "LayoutModel",
       "_view_count": null,
       "_view_module": "@jupyter-widgets/base",
       "_view_module_version": "1.2.0",
       "_view_name": "LayoutView",
       "align_content": null,
       "align_items": null,
       "align_self": null,
       "border": null,
       "bottom": null,
       "display": null,
       "flex": null,
       "flex_flow": null,
       "grid_area": null,
       "grid_auto_columns": null,
       "grid_auto_flow": null,
       "grid_auto_rows": null,
       "grid_column": null,
       "grid_gap": null,
       "grid_row": null,
       "grid_template_areas": null,
       "grid_template_columns": null,
       "grid_template_rows": null,
       "height": null,
       "justify_content": null,
       "justify_items": null,
       "left": null,
       "margin": null,
       "max_height": null,
       "max_width": null,
       "min_height": null,
       "min_width": null,
       "object_fit": null,
       "object_position": null,
       "order": null,
       "overflow": null,
       "overflow_x": null,
       "overflow_y": null,
       "padding": null,
       "right": null,
       "top": null,
       "visibility": null,
       "width": null
      }
     }
    },
    "version_major": 2,
    "version_minor": 0
   }
  }
 },
 "nbformat": 4,
 "nbformat_minor": 5
}
