{
 "cells": [
  {
   "cell_type": "markdown",
   "id": "eae99236",
   "metadata": {
    "papermill": {
     "duration": 0.014437,
     "end_time": "2022-09-23T18:11:37.978365",
     "exception": false,
     "start_time": "2022-09-23T18:11:37.963928",
     "status": "completed"
    },
    "tags": []
   },
   "source": [
    "# Fashion_MNIST_dataset"
   ]
  },
  {
   "cell_type": "markdown",
   "id": "870923ac",
   "metadata": {
    "papermill": {
     "duration": 0.015187,
     "end_time": "2022-09-23T18:11:38.006853",
     "exception": false,
     "start_time": "2022-09-23T18:11:37.991666",
     "status": "completed"
    },
    "tags": []
   },
   "source": [
    "## About the Problem\n",
    "\n",
    "This task is about *Image Classification* problem. Here, I have used **Pytorch** and **Logistic regression** technique to solve this Problem."
   ]
  },
  {
   "cell_type": "markdown",
   "id": "48b10269",
   "metadata": {
    "papermill": {
     "duration": 0.018955,
     "end_time": "2022-09-23T18:11:38.042032",
     "exception": false,
     "start_time": "2022-09-23T18:11:38.023077",
     "status": "completed"
    },
    "tags": []
   },
   "source": [
    "## Dataset\n",
    "The dataset used here is the Fashion_MNSIT datset. This is a dataset of 60,000 28x28 grayscale images of 10 fashion categories, along with a test set of 10,000 images.\n",
    "\n",
    "Here The classes are labeled as:\n",
    "\n",
    "|Label|Description|\n",
    "| :---------------| :----:|\n",
    "|0|T-shirt/top|\n",
    "|1|Trouser|\n",
    "|2|Pullover|\n",
    "|3|Dress|\n",
    "|4|Coat|\n",
    "|5|Sandal|\n",
    "|6|Shirt|\n",
    "|7|Sneaker|\n",
    "|8|Bag|\n",
    "|9|Ankle boot|\n"
   ]
  },
  {
   "cell_type": "markdown",
   "id": "7cd4c0d3",
   "metadata": {
    "papermill": {
     "duration": 0.014168,
     "end_time": "2022-09-23T18:11:38.069542",
     "exception": false,
     "start_time": "2022-09-23T18:11:38.055374",
     "status": "completed"
    },
    "tags": []
   },
   "source": [
    "## Importing libraries"
   ]
  },
  {
   "cell_type": "markdown",
   "id": "8c728313",
   "metadata": {
    "papermill": {
     "duration": 0.013889,
     "end_time": "2022-09-23T18:11:38.098677",
     "exception": false,
     "start_time": "2022-09-23T18:11:38.084788",
     "status": "completed"
    },
    "tags": []
   },
   "source": [
    "Importing torch and torchvision. torchvision contains some utilities for working with image data. It also provides helper classes to download and import popular datasets like MNIST automatically"
   ]
  },
  {
   "cell_type": "code",
   "execution_count": 1,
   "id": "cbfea482",
   "metadata": {
    "_cell_guid": "b1076dfc-b9ad-4769-8c92-a6c4dae69d19",
    "_uuid": "8f2839f25d086af736a60e9eeb907d3b93b6e0e5",
    "execution": {
     "iopub.execute_input": "2022-09-23T18:11:38.127447Z",
     "iopub.status.busy": "2022-09-23T18:11:38.127000Z",
     "iopub.status.idle": "2022-09-23T18:11:40.112784Z",
     "shell.execute_reply": "2022-09-23T18:11:40.111738Z"
    },
    "papermill": {
     "duration": 2.003271,
     "end_time": "2022-09-23T18:11:40.115577",
     "exception": false,
     "start_time": "2022-09-23T18:11:38.112306",
     "status": "completed"
    },
    "tags": []
   },
   "outputs": [],
   "source": [
    "import torch\n",
    "import torchvision\n",
    "from torchvision.datasets import FashionMNIST"
   ]
  },
  {
   "cell_type": "markdown",
   "id": "35ba4f63",
   "metadata": {
    "papermill": {
     "duration": 0.012801,
     "end_time": "2022-09-23T18:11:40.141758",
     "exception": false,
     "start_time": "2022-09-23T18:11:40.128957",
     "status": "completed"
    },
    "tags": []
   },
   "source": [
    "## Loading the datset"
   ]
  },
  {
   "cell_type": "code",
   "execution_count": 2,
   "id": "cd8d146b",
   "metadata": {
    "execution": {
     "iopub.execute_input": "2022-09-23T18:11:40.170562Z",
     "iopub.status.busy": "2022-09-23T18:11:40.169194Z",
     "iopub.status.idle": "2022-09-23T18:12:00.607833Z",
     "shell.execute_reply": "2022-09-23T18:12:00.605960Z"
    },
    "papermill": {
     "duration": 20.455506,
     "end_time": "2022-09-23T18:12:00.610433",
     "exception": false,
     "start_time": "2022-09-23T18:11:40.154927",
     "status": "completed"
    },
    "tags": []
   },
   "outputs": [
    {
     "name": "stdout",
     "output_type": "stream",
     "text": [
      "Downloading http://fashion-mnist.s3-website.eu-central-1.amazonaws.com/train-images-idx3-ubyte.gz\n",
      "Downloading http://fashion-mnist.s3-website.eu-central-1.amazonaws.com/train-images-idx3-ubyte.gz to data/FashionMNIST/raw/train-images-idx3-ubyte.gz\n"
     ]
    },
    {
     "data": {
      "application/vnd.jupyter.widget-view+json": {
       "model_id": "08c4ef1d00b342b5a5fb7392e24906ea",
       "version_major": 2,
       "version_minor": 0
      },
      "text/plain": [
       "  0%|          | 0/26421880 [00:00<?, ?it/s]"
      ]
     },
     "metadata": {},
     "output_type": "display_data"
    },
    {
     "name": "stdout",
     "output_type": "stream",
     "text": [
      "Extracting data/FashionMNIST/raw/train-images-idx3-ubyte.gz to data/FashionMNIST/raw\n",
      "\n",
      "Downloading http://fashion-mnist.s3-website.eu-central-1.amazonaws.com/train-labels-idx1-ubyte.gz\n",
      "Downloading http://fashion-mnist.s3-website.eu-central-1.amazonaws.com/train-labels-idx1-ubyte.gz to data/FashionMNIST/raw/train-labels-idx1-ubyte.gz\n"
     ]
    },
    {
     "data": {
      "application/vnd.jupyter.widget-view+json": {
       "model_id": "eb81576cb3cc4a1187a62d6a5b249d33",
       "version_major": 2,
       "version_minor": 0
      },
      "text/plain": [
       "  0%|          | 0/29515 [00:00<?, ?it/s]"
      ]
     },
     "metadata": {},
     "output_type": "display_data"
    },
    {
     "name": "stdout",
     "output_type": "stream",
     "text": [
      "Extracting data/FashionMNIST/raw/train-labels-idx1-ubyte.gz to data/FashionMNIST/raw\n",
      "\n",
      "Downloading http://fashion-mnist.s3-website.eu-central-1.amazonaws.com/t10k-images-idx3-ubyte.gz\n",
      "Downloading http://fashion-mnist.s3-website.eu-central-1.amazonaws.com/t10k-images-idx3-ubyte.gz to data/FashionMNIST/raw/t10k-images-idx3-ubyte.gz\n"
     ]
    },
    {
     "data": {
      "application/vnd.jupyter.widget-view+json": {
       "model_id": "db4777fe537346d5b6b24d8900420de7",
       "version_major": 2,
       "version_minor": 0
      },
      "text/plain": [
       "  0%|          | 0/4422102 [00:00<?, ?it/s]"
      ]
     },
     "metadata": {},
     "output_type": "display_data"
    },
    {
     "name": "stdout",
     "output_type": "stream",
     "text": [
      "Extracting data/FashionMNIST/raw/t10k-images-idx3-ubyte.gz to data/FashionMNIST/raw\n",
      "\n",
      "Downloading http://fashion-mnist.s3-website.eu-central-1.amazonaws.com/t10k-labels-idx1-ubyte.gz\n",
      "Downloading http://fashion-mnist.s3-website.eu-central-1.amazonaws.com/t10k-labels-idx1-ubyte.gz to data/FashionMNIST/raw/t10k-labels-idx1-ubyte.gz\n"
     ]
    },
    {
     "data": {
      "application/vnd.jupyter.widget-view+json": {
       "model_id": "0d17d929b41845ada74bb2b73eddd558",
       "version_major": 2,
       "version_minor": 0
      },
      "text/plain": [
       "  0%|          | 0/5148 [00:00<?, ?it/s]"
      ]
     },
     "metadata": {},
     "output_type": "display_data"
    },
    {
     "name": "stdout",
     "output_type": "stream",
     "text": [
      "Extracting data/FashionMNIST/raw/t10k-labels-idx1-ubyte.gz to data/FashionMNIST/raw\n",
      "\n"
     ]
    }
   ],
   "source": [
    "# Download training dataset\n",
    "dataset = FashionMNIST(root='data/', download=True)"
   ]
  },
  {
   "cell_type": "code",
   "execution_count": 3,
   "id": "5cd9d763",
   "metadata": {
    "execution": {
     "iopub.execute_input": "2022-09-23T18:12:00.641643Z",
     "iopub.status.busy": "2022-09-23T18:12:00.641144Z",
     "iopub.status.idle": "2022-09-23T18:12:00.657496Z",
     "shell.execute_reply": "2022-09-23T18:12:00.656009Z"
    },
    "papermill": {
     "duration": 0.035413,
     "end_time": "2022-09-23T18:12:00.660489",
     "exception": false,
     "start_time": "2022-09-23T18:12:00.625076",
     "status": "completed"
    },
    "tags": []
   },
   "outputs": [],
   "source": [
    "# Load test dataset\n",
    "test_dataset = FashionMNIST(root='data/', train=False)"
   ]
  },
  {
   "cell_type": "markdown",
   "id": "63a29ccc",
   "metadata": {
    "papermill": {
     "duration": 0.013926,
     "end_time": "2022-09-23T18:12:00.688797",
     "exception": false,
     "start_time": "2022-09-23T18:12:00.674871",
     "status": "completed"
    },
    "tags": []
   },
   "source": [
    "Checking the size of the dataset"
   ]
  },
  {
   "cell_type": "code",
   "execution_count": 4,
   "id": "40777886",
   "metadata": {
    "execution": {
     "iopub.execute_input": "2022-09-23T18:12:00.719483Z",
     "iopub.status.busy": "2022-09-23T18:12:00.718780Z",
     "iopub.status.idle": "2022-09-23T18:12:00.724735Z",
     "shell.execute_reply": "2022-09-23T18:12:00.723224Z"
    },
    "papermill": {
     "duration": 0.02418,
     "end_time": "2022-09-23T18:12:00.727147",
     "exception": false,
     "start_time": "2022-09-23T18:12:00.702967",
     "status": "completed"
    },
    "tags": []
   },
   "outputs": [
    {
     "name": "stdout",
     "output_type": "stream",
     "text": [
      "60000\n",
      "10000\n"
     ]
    }
   ],
   "source": [
    "print(len(dataset))\n",
    "print(len(test_dataset))"
   ]
  },
  {
   "cell_type": "markdown",
   "id": "bc4630f0",
   "metadata": {
    "papermill": {
     "duration": 0.013968,
     "end_time": "2022-09-23T18:12:00.755571",
     "exception": false,
     "start_time": "2022-09-23T18:12:00.741603",
     "status": "completed"
    },
    "tags": []
   },
   "source": [
    "Importing *matplotlib*, It is used to plote images."
   ]
  },
  {
   "cell_type": "code",
   "execution_count": 5,
   "id": "6f3a0d3b",
   "metadata": {
    "execution": {
     "iopub.execute_input": "2022-09-23T18:12:00.786300Z",
     "iopub.status.busy": "2022-09-23T18:12:00.785907Z",
     "iopub.status.idle": "2022-09-23T18:12:00.792614Z",
     "shell.execute_reply": "2022-09-23T18:12:00.791460Z"
    },
    "papermill": {
     "duration": 0.024968,
     "end_time": "2022-09-23T18:12:00.795004",
     "exception": false,
     "start_time": "2022-09-23T18:12:00.770036",
     "status": "completed"
    },
    "tags": []
   },
   "outputs": [],
   "source": [
    "import matplotlib.pyplot as plt\n",
    "%matplotlib inline"
   ]
  },
  {
   "cell_type": "markdown",
   "id": "7bded01f",
   "metadata": {
    "papermill": {
     "duration": 0.014,
     "end_time": "2022-09-23T18:12:00.823235",
     "exception": false,
     "start_time": "2022-09-23T18:12:00.809235",
     "status": "completed"
    },
    "tags": []
   },
   "source": [
    "A sample element from the training dataset."
   ]
  },
  {
   "cell_type": "code",
   "execution_count": 6,
   "id": "5e20e16f",
   "metadata": {
    "execution": {
     "iopub.execute_input": "2022-09-23T18:12:00.855124Z",
     "iopub.status.busy": "2022-09-23T18:12:00.854254Z",
     "iopub.status.idle": "2022-09-23T18:12:00.863629Z",
     "shell.execute_reply": "2022-09-23T18:12:00.862414Z"
    },
    "papermill": {
     "duration": 0.028132,
     "end_time": "2022-09-23T18:12:00.866051",
     "exception": false,
     "start_time": "2022-09-23T18:12:00.837919",
     "status": "completed"
    },
    "tags": []
   },
   "outputs": [
    {
     "data": {
      "text/plain": [
       "(<PIL.Image.Image image mode=L size=28x28>, 9)"
      ]
     },
     "execution_count": 6,
     "metadata": {},
     "output_type": "execute_result"
    }
   ],
   "source": [
    "dataset[0]"
   ]
  },
  {
   "cell_type": "markdown",
   "id": "06077d28",
   "metadata": {
    "papermill": {
     "duration": 0.013984,
     "end_time": "2022-09-23T18:12:00.894458",
     "exception": false,
     "start_time": "2022-09-23T18:12:00.880474",
     "status": "completed"
    },
    "tags": []
   },
   "source": [
    "Ploting a sample image with its label"
   ]
  },
  {
   "cell_type": "code",
   "execution_count": 7,
   "id": "e507f8f8",
   "metadata": {
    "execution": {
     "iopub.execute_input": "2022-09-23T18:12:00.926804Z",
     "iopub.status.busy": "2022-09-23T18:12:00.925629Z",
     "iopub.status.idle": "2022-09-23T18:12:01.172896Z",
     "shell.execute_reply": "2022-09-23T18:12:01.171698Z"
    },
    "papermill": {
     "duration": 0.266497,
     "end_time": "2022-09-23T18:12:01.175355",
     "exception": false,
     "start_time": "2022-09-23T18:12:00.908858",
     "status": "completed"
    },
    "tags": []
   },
   "outputs": [
    {
     "name": "stdout",
     "output_type": "stream",
     "text": [
      "Label: 9\n"
     ]
    },
    {
     "data": {
      "image/png": "[encoded data removed]",
      "text/plain": [
       "<Figure size 432x288 with 1 Axes>"
      ]
     },
     "metadata": {
      "needs_background": "light"
     },
     "output_type": "display_data"
    }
   ],
   "source": [
    "image, label = dataset[0]\n",
    "plt.imshow(image, cmap='gray')\n",
    "print('Label:', label)"
   ]
  },
  {
   "cell_type": "markdown",
   "id": "e6ad1de6",
   "metadata": {
    "papermill": {
     "duration": 0.01846,
     "end_time": "2022-09-23T18:12:01.212842",
     "exception": false,
     "start_time": "2022-09-23T18:12:01.194382",
     "status": "completed"
    },
    "tags": []
   },
   "source": [
    "Importing *torchvision.transforms* module, which will be used to convert this image format into *Tensors*."
   ]
  },
  {
   "cell_type": "code",
   "execution_count": 8,
   "id": "d38090d8",
   "metadata": {
    "execution": {
     "iopub.execute_input": "2022-09-23T18:12:01.244538Z",
     "iopub.status.busy": "2022-09-23T18:12:01.243900Z",
     "iopub.status.idle": "2022-09-23T18:12:01.248830Z",
     "shell.execute_reply": "2022-09-23T18:12:01.247924Z"
    },
    "papermill": {
     "duration": 0.023482,
     "end_time": "2022-09-23T18:12:01.251125",
     "exception": false,
     "start_time": "2022-09-23T18:12:01.227643",
     "status": "completed"
    },
    "tags": []
   },
   "outputs": [],
   "source": [
    "import torchvision.transforms as transforms"
   ]
  },
  {
   "cell_type": "markdown",
   "id": "ec36c769",
   "metadata": {
    "papermill": {
     "duration": 0.014517,
     "end_time": "2022-09-23T18:12:01.280721",
     "exception": false,
     "start_time": "2022-09-23T18:12:01.266204",
     "status": "completed"
    },
    "tags": []
   },
   "source": [
    "Converting to Tensor"
   ]
  },
  {
   "cell_type": "code",
   "execution_count": 9,
   "id": "a01810ad",
   "metadata": {
    "execution": {
     "iopub.execute_input": "2022-09-23T18:12:01.312809Z",
     "iopub.status.busy": "2022-09-23T18:12:01.312362Z",
     "iopub.status.idle": "2022-09-23T18:12:01.393017Z",
     "shell.execute_reply": "2022-09-23T18:12:01.391937Z"
    },
    "papermill": {
     "duration": 0.100101,
     "end_time": "2022-09-23T18:12:01.395950",
     "exception": false,
     "start_time": "2022-09-23T18:12:01.295849",
     "status": "completed"
    },
    "tags": []
   },
   "outputs": [],
   "source": [
    "# FashionMNIST dataset (images and labels)\n",
    "dataset = FashionMNIST(root='data/', \n",
    "                train=True,\n",
    "                transform=transforms.ToTensor())"
   ]
  },
  {
   "cell_type": "code",
   "execution_count": 10,
   "id": "ac85aecb",
   "metadata": {
    "execution": {
     "iopub.execute_input": "2022-09-23T18:12:01.429006Z",
     "iopub.status.busy": "2022-09-23T18:12:01.428323Z",
     "iopub.status.idle": "2022-09-23T18:12:01.435495Z",
     "shell.execute_reply": "2022-09-23T18:12:01.434092Z"
    },
    "papermill": {
     "duration": 0.025852,
     "end_time": "2022-09-23T18:12:01.437719",
     "exception": false,
     "start_time": "2022-09-23T18:12:01.411867",
     "status": "completed"
    },
    "tags": []
   },
   "outputs": [
    {
     "name": "stdout",
     "output_type": "stream",
     "text": [
      "torch.Size([1, 28, 28]) 9\n"
     ]
    }
   ],
   "source": [
    "img_tensor, label = dataset[0]\n",
    "print(img_tensor.shape, label)"
   ]
  },
  {
   "cell_type": "markdown",
   "id": "54e49171",
   "metadata": {
    "papermill": {
     "duration": 0.014532,
     "end_time": "2022-09-23T18:12:01.467350",
     "exception": false,
     "start_time": "2022-09-23T18:12:01.452818",
     "status": "completed"
    },
    "tags": []
   },
   "source": [
    "The image is now converted to a 1x28x28 tensor."
   ]
  },
  {
   "cell_type": "markdown",
   "id": "81378b19",
   "metadata": {
    "papermill": {
     "duration": 0.014542,
     "end_time": "2022-09-23T18:12:01.496879",
     "exception": false,
     "start_time": "2022-09-23T18:12:01.482337",
     "status": "completed"
    },
    "tags": []
   },
   "source": [
    "## Training and Validation Datasets"
   ]
  },
  {
   "cell_type": "markdown",
   "id": "c4af7c2a",
   "metadata": {
    "papermill": {
     "duration": 0.014828,
     "end_time": "2022-09-23T18:12:01.526536",
     "exception": false,
     "start_time": "2022-09-23T18:12:01.511708",
     "status": "completed"
    },
    "tags": []
   },
   "source": [
    "Spliting the dataset using *random_split*"
   ]
  },
  {
   "cell_type": "code",
   "execution_count": 11,
   "id": "4fb4fd79",
   "metadata": {
    "execution": {
     "iopub.execute_input": "2022-09-23T18:12:01.558857Z",
     "iopub.status.busy": "2022-09-23T18:12:01.558121Z",
     "iopub.status.idle": "2022-09-23T18:12:01.572975Z",
     "shell.execute_reply": "2022-09-23T18:12:01.571705Z"
    },
    "papermill": {
     "duration": 0.03362,
     "end_time": "2022-09-23T18:12:01.575523",
     "exception": false,
     "start_time": "2022-09-23T18:12:01.541903",
     "status": "completed"
    },
    "tags": []
   },
   "outputs": [
    {
     "data": {
      "text/plain": [
       "(50000, 10000)"
      ]
     },
     "execution_count": 11,
     "metadata": {},
     "output_type": "execute_result"
    }
   ],
   "source": [
    "from torch.utils.data import random_split\n",
    "\n",
    "train_ds, val_ds = random_split(dataset, [50000, 10000])\n",
    "len(train_ds), len(val_ds)"
   ]
  },
  {
   "cell_type": "markdown",
   "id": "00ba4b88",
   "metadata": {
    "papermill": {
     "duration": 0.014648,
     "end_time": "2022-09-23T18:12:01.605262",
     "exception": false,
     "start_time": "2022-09-23T18:12:01.590614",
     "status": "completed"
    },
    "tags": []
   },
   "source": [
    "Using data loaders to load the data in batches. I have used a batch size of 128."
   ]
  },
  {
   "cell_type": "code",
   "execution_count": 12,
   "id": "cc0415c2",
   "metadata": {
    "execution": {
     "iopub.execute_input": "2022-09-23T18:12:01.637002Z",
     "iopub.status.busy": "2022-09-23T18:12:01.636555Z",
     "iopub.status.idle": "2022-09-23T18:12:01.641918Z",
     "shell.execute_reply": "2022-09-23T18:12:01.640973Z"
    },
    "papermill": {
     "duration": 0.023712,
     "end_time": "2022-09-23T18:12:01.644029",
     "exception": false,
     "start_time": "2022-09-23T18:12:01.620317",
     "status": "completed"
    },
    "tags": []
   },
   "outputs": [],
   "source": [
    "from torch.utils.data import DataLoader\n",
    "\n",
    "batch_size = 128\n",
    "\n",
    "train_loader = DataLoader(train_ds, batch_size, shuffle=True)\n",
    "val_loader = DataLoader(val_ds, batch_size)"
   ]
  },
  {
   "cell_type": "markdown",
   "id": "4c08b3e9",
   "metadata": {
    "papermill": {
     "duration": 0.014556,
     "end_time": "2022-09-23T18:12:01.673738",
     "exception": false,
     "start_time": "2022-09-23T18:12:01.659182",
     "status": "completed"
    },
    "tags": []
   },
   "source": [
    "## Model"
   ]
  },
  {
   "cell_type": "markdown",
   "id": "bf9db815",
   "metadata": {
    "papermill": {
     "duration": 0.014789,
     "end_time": "2022-09-23T18:12:01.703399",
     "exception": false,
     "start_time": "2022-09-23T18:12:01.688610",
     "status": "completed"
    },
    "tags": []
   },
   "source": [
    "Using *nn.Linear* to create the model\n",
    "*nn.Linear* expects each training example to be a vector, each 1x28x28 image tensor is flattened into a vector of size 784 (28*28) before being passed into the model."
   ]
  },
  {
   "cell_type": "code",
   "execution_count": 13,
   "id": "d581924b",
   "metadata": {
    "execution": {
     "iopub.execute_input": "2022-09-23T18:12:01.736627Z",
     "iopub.status.busy": "2022-09-23T18:12:01.735939Z",
     "iopub.status.idle": "2022-09-23T18:12:01.740728Z",
     "shell.execute_reply": "2022-09-23T18:12:01.739788Z"
    },
    "papermill": {
     "duration": 0.024587,
     "end_time": "2022-09-23T18:12:01.743067",
     "exception": false,
     "start_time": "2022-09-23T18:12:01.718480",
     "status": "completed"
    },
    "tags": []
   },
   "outputs": [],
   "source": [
    "import torch.nn as nn\n",
    "\n",
    "input_size = 28*28\n",
    "num_classes = 10"
   ]
  },
  {
   "cell_type": "markdown",
   "id": "cf838930",
   "metadata": {
    "papermill": {
     "duration": 0.014999,
     "end_time": "2022-09-23T18:12:01.773084",
     "exception": false,
     "start_time": "2022-09-23T18:12:01.758085",
     "status": "completed"
    },
    "tags": []
   },
   "source": [
    "Importing *torch.nn.functional* package to be later used during cross-entropy."
   ]
  },
  {
   "cell_type": "code",
   "execution_count": 14,
   "id": "8b3b04e1",
   "metadata": {
    "execution": {
     "iopub.execute_input": "2022-09-23T18:12:01.805551Z",
     "iopub.status.busy": "2022-09-23T18:12:01.804884Z",
     "iopub.status.idle": "2022-09-23T18:12:01.809455Z",
     "shell.execute_reply": "2022-09-23T18:12:01.808592Z"
    },
    "papermill": {
     "duration": 0.02346,
     "end_time": "2022-09-23T18:12:01.811808",
     "exception": false,
     "start_time": "2022-09-23T18:12:01.788348",
     "status": "completed"
    },
    "tags": []
   },
   "outputs": [],
   "source": [
    "import torch.nn.functional as F"
   ]
  },
  {
   "cell_type": "markdown",
   "id": "fae7663b",
   "metadata": {
    "papermill": {
     "duration": 0.014516,
     "end_time": "2022-09-23T18:12:01.841380",
     "exception": false,
     "start_time": "2022-09-23T18:12:01.826864",
     "status": "completed"
    },
    "tags": []
   },
   "source": [
    "Defining function to calculate *Accuracy*."
   ]
  },
  {
   "cell_type": "code",
   "execution_count": 15,
   "id": "a51855ad",
   "metadata": {
    "execution": {
     "iopub.execute_input": "2022-09-23T18:12:01.873474Z",
     "iopub.status.busy": "2022-09-23T18:12:01.873035Z",
     "iopub.status.idle": "2022-09-23T18:12:01.879035Z",
     "shell.execute_reply": "2022-09-23T18:12:01.877962Z"
    },
    "papermill": {
     "duration": 0.024448,
     "end_time": "2022-09-23T18:12:01.881190",
     "exception": false,
     "start_time": "2022-09-23T18:12:01.856742",
     "status": "completed"
    },
    "tags": []
   },
   "outputs": [],
   "source": [
    "def accuracy(outputs, labels):\n",
    "    _, preds = torch.max(outputs, dim=1)\n",
    "    return torch.tensor(torch.sum(preds == labels).item() / len(preds))"
   ]
  },
  {
   "cell_type": "markdown",
   "id": "c04d7299",
   "metadata": {
    "papermill": {
     "duration": 0.014568,
     "end_time": "2022-09-23T18:12:01.911162",
     "exception": false,
     "start_time": "2022-09-23T18:12:01.896594",
     "status": "completed"
    },
    "tags": []
   },
   "source": [
    "## Training the model"
   ]
  },
  {
   "cell_type": "markdown",
   "id": "bde27482",
   "metadata": {
    "papermill": {
     "duration": 0.014601,
     "end_time": "2022-09-23T18:12:01.940992",
     "exception": false,
     "start_time": "2022-09-23T18:12:01.926391",
     "status": "completed"
    },
    "tags": []
   },
   "source": [
    "Defining the function *fit*, which will be used to train the model."
   ]
  },
  {
   "cell_type": "code",
   "execution_count": 16,
   "id": "4d70fa3e",
   "metadata": {
    "execution": {
     "iopub.execute_input": "2022-09-23T18:12:01.973322Z",
     "iopub.status.busy": "2022-09-23T18:12:01.972103Z",
     "iopub.status.idle": "2022-09-23T18:12:01.979586Z",
     "shell.execute_reply": "2022-09-23T18:12:01.978603Z"
    },
    "papermill": {
     "duration": 0.026042,
     "end_time": "2022-09-23T18:12:01.981983",
     "exception": false,
     "start_time": "2022-09-23T18:12:01.955941",
     "status": "completed"
    },
    "tags": []
   },
   "outputs": [],
   "source": [
    "def fit(epochs, lr, model, train_loader, val_loader, opt_func=torch.optim.SGD):\n",
    "    optimizer = opt_func(model.parameters(), lr)\n",
    "    history = [] # for recording epoch-wise results\n",
    "    \n",
    "    for epoch in range(epochs):\n",
    "        \n",
    "        # Training Phase \n",
    "        for batch in train_loader:\n",
    "            loss = model.training_step(batch)\n",
    "            loss.backward()\n",
    "            optimizer.step()\n",
    "            optimizer.zero_grad()\n",
    "        \n",
    "        # Validation phase\n",
    "        result = evaluate(model, val_loader)\n",
    "        model.epoch_end(epoch, result)\n",
    "        history.append(result)\n",
    "\n",
    "    return history"
   ]
  },
  {
   "cell_type": "markdown",
   "id": "479042ec",
   "metadata": {
    "papermill": {
     "duration": 0.014707,
     "end_time": "2022-09-23T18:12:02.011951",
     "exception": false,
     "start_time": "2022-09-23T18:12:01.997244",
     "status": "completed"
    },
    "tags": []
   },
   "source": [
    "defining the *evaluate* function, used in the validation phase of *fit*."
   ]
  },
  {
   "cell_type": "code",
   "execution_count": 17,
   "id": "85234403",
   "metadata": {
    "execution": {
     "iopub.execute_input": "2022-09-23T18:12:02.045559Z",
     "iopub.status.busy": "2022-09-23T18:12:02.043234Z",
     "iopub.status.idle": "2022-09-23T18:12:02.050559Z",
     "shell.execute_reply": "2022-09-23T18:12:02.049619Z"
    },
    "papermill": {
     "duration": 0.026068,
     "end_time": "2022-09-23T18:12:02.053002",
     "exception": false,
     "start_time": "2022-09-23T18:12:02.026934",
     "status": "completed"
    },
    "tags": []
   },
   "outputs": [],
   "source": [
    "def evaluate(model, val_loader):\n",
    "    outputs = [model.validation_step(batch) for batch in val_loader]\n",
    "    return model.validation_epoch_end(outputs)"
   ]
  },
  {
   "cell_type": "markdown",
   "id": "2c0580e2",
   "metadata": {
    "papermill": {
     "duration": 0.014606,
     "end_time": "2022-09-23T18:12:02.082630",
     "exception": false,
     "start_time": "2022-09-23T18:12:02.068024",
     "status": "completed"
    },
    "tags": []
   },
   "source": [
    "Defining the *MnistModel* class to include additional methods *training_step, validation_step, validation_epoch_end*, and *epoch_end* used by *fit* and *evaluate*."
   ]
  },
  {
   "cell_type": "code",
   "execution_count": 18,
   "id": "5a9e9799",
   "metadata": {
    "execution": {
     "iopub.execute_input": "2022-09-23T18:12:02.114982Z",
     "iopub.status.busy": "2022-09-23T18:12:02.114289Z",
     "iopub.status.idle": "2022-09-23T18:12:02.130894Z",
     "shell.execute_reply": "2022-09-23T18:12:02.129411Z"
    },
    "papermill": {
     "duration": 0.036426,
     "end_time": "2022-09-23T18:12:02.134025",
     "exception": false,
     "start_time": "2022-09-23T18:12:02.097599",
     "status": "completed"
    },
    "tags": []
   },
   "outputs": [],
   "source": [
    "class MnistModel(nn.Module):\n",
    "    def __init__(self):\n",
    "        super().__init__()\n",
    "        self.linear = nn.Linear(input_size, num_classes)\n",
    "        \n",
    "    def forward(self, xb):\n",
    "        xb = xb.reshape(-1, 784)\n",
    "        out = self.linear(xb)\n",
    "        return out\n",
    "    \n",
    "    def training_step(self, batch):\n",
    "        images, labels = batch \n",
    "        out = self(images)                  # Generate predictions\n",
    "        loss = F.cross_entropy(out, labels) # Calculate loss\n",
    "        return loss\n",
    "    \n",
    "    def validation_step(self, batch):\n",
    "        images, labels = batch \n",
    "        out = self(images)                    # Generate predictions\n",
    "        loss = F.cross_entropy(out, labels)   # Calculate loss\n",
    "        acc = accuracy(out, labels)           # Calculate accuracy\n",
    "        return {'val_loss': loss, 'val_acc': acc}\n",
    "        \n",
    "    def validation_epoch_end(self, outputs):\n",
    "        batch_losses = [x['val_loss'] for x in outputs]\n",
    "        epoch_loss = torch.stack(batch_losses).mean()   # Combine losses\n",
    "        batch_accs = [x['val_acc'] for x in outputs]\n",
    "        epoch_acc = torch.stack(batch_accs).mean()      # Combine accuracies\n",
    "        return {'val_loss': epoch_loss.item(), 'val_acc': epoch_acc.item()}\n",
    "    \n",
    "    def epoch_end(self, epoch, result):\n",
    "        print(\"Epoch [{}], val_loss: {:.4f}, val_acc: {:.4f}\".format(epoch, result['val_loss'], result['val_acc']))\n",
    "    \n",
    "model = MnistModel()"
   ]
  },
  {
   "cell_type": "markdown",
   "id": "152da5f1",
   "metadata": {
    "papermill": {
     "duration": 0.014665,
     "end_time": "2022-09-23T18:12:02.163928",
     "exception": false,
     "start_time": "2022-09-23T18:12:02.149263",
     "status": "completed"
    },
    "tags": []
   },
   "source": [
    "## Evaluation"
   ]
  },
  {
   "cell_type": "markdown",
   "id": "0ff5d310",
   "metadata": {
    "papermill": {
     "duration": 0.014677,
     "end_time": "2022-09-23T18:12:02.193658",
     "exception": false,
     "start_time": "2022-09-23T18:12:02.178981",
     "status": "completed"
    },
    "tags": []
   },
   "source": [
    "Before training the model, checking how the model performs on the validation set with the initial set of randomly initialized weights & biases."
   ]
  },
  {
   "cell_type": "code",
   "execution_count": 19,
   "id": "7cf554f5",
   "metadata": {
    "execution": {
     "iopub.execute_input": "2022-09-23T18:12:02.225835Z",
     "iopub.status.busy": "2022-09-23T18:12:02.225406Z",
     "iopub.status.idle": "2022-09-23T18:12:03.277340Z",
     "shell.execute_reply": "2022-09-23T18:12:03.276436Z"
    },
    "papermill": {
     "duration": 1.070884,
     "end_time": "2022-09-23T18:12:03.279520",
     "exception": false,
     "start_time": "2022-09-23T18:12:02.208636",
     "status": "completed"
    },
    "tags": []
   },
   "outputs": [
    {
     "data": {
      "text/plain": [
       "{'val_loss': 2.454578161239624, 'val_acc': 0.016613924875855446}"
      ]
     },
     "execution_count": 19,
     "metadata": {},
     "output_type": "execute_result"
    }
   ],
   "source": [
    "result0 = evaluate(model, val_loader)\n",
    "result0"
   ]
  },
  {
   "cell_type": "markdown",
   "id": "5c8b085e",
   "metadata": {
    "papermill": {
     "duration": 0.01487,
     "end_time": "2022-09-23T18:12:03.310145",
     "exception": false,
     "start_time": "2022-09-23T18:12:03.295275",
     "status": "completed"
    },
    "tags": []
   },
   "source": [
    "Now ready to train the model. every time training for five epochs for fatser calculation. Also, printing the results."
   ]
  },
  {
   "cell_type": "code",
   "execution_count": 20,
   "id": "7c1f35c4",
   "metadata": {
    "execution": {
     "iopub.execute_input": "2022-09-23T18:12:03.342332Z",
     "iopub.status.busy": "2022-09-23T18:12:03.341335Z",
     "iopub.status.idle": "2022-09-23T18:12:34.175060Z",
     "shell.execute_reply": "2022-09-23T18:12:34.173867Z"
    },
    "papermill": {
     "duration": 30.869066,
     "end_time": "2022-09-23T18:12:34.194210",
     "exception": false,
     "start_time": "2022-09-23T18:12:03.325144",
     "status": "completed"
    },
    "tags": []
   },
   "outputs": [
    {
     "name": "stdout",
     "output_type": "stream",
     "text": [
      "Epoch [0], val_loss: 1.7652, val_acc: 0.5981\n",
      "Epoch [1], val_loss: 1.4519, val_acc: 0.6493\n",
      "Epoch [2], val_loss: 1.2723, val_acc: 0.6728\n",
      "Epoch [3], val_loss: 1.1585, val_acc: 0.6854\n",
      "Epoch [4], val_loss: 1.0787, val_acc: 0.6926\n"
     ]
    }
   ],
   "source": [
    "history1 = fit(5, 0.001, model, train_loader, val_loader)"
   ]
  },
  {
   "cell_type": "markdown",
   "id": "eefc5c32",
   "metadata": {
    "papermill": {
     "duration": 0.015236,
     "end_time": "2022-09-23T18:12:34.226965",
     "exception": false,
     "start_time": "2022-09-23T18:12:34.211729",
     "status": "completed"
    },
    "tags": []
   },
   "source": [
    "Running it several times to increas the Accuracy."
   ]
  },
  {
   "cell_type": "code",
   "execution_count": 21,
   "id": "5823f9be",
   "metadata": {
    "execution": {
     "iopub.execute_input": "2022-09-23T18:12:34.260126Z",
     "iopub.status.busy": "2022-09-23T18:12:34.258996Z",
     "iopub.status.idle": "2022-09-23T18:13:05.206054Z",
     "shell.execute_reply": "2022-09-23T18:13:05.204775Z"
    },
    "papermill": {
     "duration": 30.98118,
     "end_time": "2022-09-23T18:13:05.223548",
     "exception": false,
     "start_time": "2022-09-23T18:12:34.242368",
     "status": "completed"
    },
    "tags": []
   },
   "outputs": [
    {
     "name": "stdout",
     "output_type": "stream",
     "text": [
      "Epoch [0], val_loss: 1.0203, val_acc: 0.6995\n",
      "Epoch [1], val_loss: 0.9750, val_acc: 0.7074\n",
      "Epoch [2], val_loss: 0.9385, val_acc: 0.7163\n",
      "Epoch [3], val_loss: 0.9085, val_acc: 0.7217\n",
      "Epoch [4], val_loss: 0.8830, val_acc: 0.7312\n"
     ]
    }
   ],
   "source": [
    "history2 = fit(5, 0.001, model, train_loader, val_loader)"
   ]
  },
  {
   "cell_type": "code",
   "execution_count": 22,
   "id": "94c9d797",
   "metadata": {
    "execution": {
     "iopub.execute_input": "2022-09-23T18:13:05.257099Z",
     "iopub.status.busy": "2022-09-23T18:13:05.256664Z",
     "iopub.status.idle": "2022-09-23T18:13:36.405898Z",
     "shell.execute_reply": "2022-09-23T18:13:36.404703Z"
    },
    "papermill": {
     "duration": 31.18466,
     "end_time": "2022-09-23T18:13:36.423890",
     "exception": false,
     "start_time": "2022-09-23T18:13:05.239230",
     "status": "completed"
    },
    "tags": []
   },
   "outputs": [
    {
     "name": "stdout",
     "output_type": "stream",
     "text": [
      "Epoch [0], val_loss: 0.8615, val_acc: 0.7371\n",
      "Epoch [1], val_loss: 0.8426, val_acc: 0.7416\n",
      "Epoch [2], val_loss: 0.8257, val_acc: 0.7445\n",
      "Epoch [3], val_loss: 0.8106, val_acc: 0.7488\n",
      "Epoch [4], val_loss: 0.7972, val_acc: 0.7550\n"
     ]
    }
   ],
   "source": [
    "history3 = fit(5, 0.001, model, train_loader, val_loader)"
   ]
  },
  {
   "cell_type": "code",
   "execution_count": 23,
   "id": "b5c35b2f",
   "metadata": {
    "execution": {
     "iopub.execute_input": "2022-09-23T18:13:36.457656Z",
     "iopub.status.busy": "2022-09-23T18:13:36.457265Z",
     "iopub.status.idle": "2022-09-23T18:14:07.525373Z",
     "shell.execute_reply": "2022-09-23T18:14:07.524155Z"
    },
    "papermill": {
     "duration": 31.100304,
     "end_time": "2022-09-23T18:14:07.540200",
     "exception": false,
     "start_time": "2022-09-23T18:13:36.439896",
     "status": "completed"
    },
    "tags": []
   },
   "outputs": [
    {
     "name": "stdout",
     "output_type": "stream",
     "text": [
      "Epoch [0], val_loss: 0.7847, val_acc: 0.7586\n",
      "Epoch [1], val_loss: 0.7738, val_acc: 0.7604\n",
      "Epoch [2], val_loss: 0.7634, val_acc: 0.7632\n",
      "Epoch [3], val_loss: 0.7540, val_acc: 0.7670\n",
      "Epoch [4], val_loss: 0.7453, val_acc: 0.7673\n"
     ]
    }
   ],
   "source": [
    "history4 = fit(5, 0.001, model, train_loader, val_loader)"
   ]
  },
  {
   "cell_type": "code",
   "execution_count": 24,
   "id": "420c44d6",
   "metadata": {
    "execution": {
     "iopub.execute_input": "2022-09-23T18:14:07.574906Z",
     "iopub.status.busy": "2022-09-23T18:14:07.574244Z",
     "iopub.status.idle": "2022-09-23T18:14:38.276928Z",
     "shell.execute_reply": "2022-09-23T18:14:38.275742Z"
    },
    "papermill": {
     "duration": 30.738765,
     "end_time": "2022-09-23T18:14:38.295408",
     "exception": false,
     "start_time": "2022-09-23T18:14:07.556643",
     "status": "completed"
    },
    "tags": []
   },
   "outputs": [
    {
     "name": "stdout",
     "output_type": "stream",
     "text": [
      "Epoch [0], val_loss: 0.7371, val_acc: 0.7709\n",
      "Epoch [1], val_loss: 0.7293, val_acc: 0.7723\n",
      "Epoch [2], val_loss: 0.7221, val_acc: 0.7741\n",
      "Epoch [3], val_loss: 0.7154, val_acc: 0.7770\n",
      "Epoch [4], val_loss: 0.7089, val_acc: 0.7772\n"
     ]
    }
   ],
   "source": [
    "history5 = fit(5, 0.001, model, train_loader, val_loader)"
   ]
  },
  {
   "cell_type": "code",
   "execution_count": 25,
   "id": "8f69be9f",
   "metadata": {
    "execution": {
     "iopub.execute_input": "2022-09-23T18:14:38.330669Z",
     "iopub.status.busy": "2022-09-23T18:14:38.329878Z",
     "iopub.status.idle": "2022-09-23T18:15:09.001926Z",
     "shell.execute_reply": "2022-09-23T18:15:09.000645Z"
    },
    "papermill": {
     "duration": 30.709341,
     "end_time": "2022-09-23T18:15:09.021360",
     "exception": false,
     "start_time": "2022-09-23T18:14:38.312019",
     "status": "completed"
    },
    "tags": []
   },
   "outputs": [
    {
     "name": "stdout",
     "output_type": "stream",
     "text": [
      "Epoch [0], val_loss: 0.7028, val_acc: 0.7788\n",
      "Epoch [1], val_loss: 0.6973, val_acc: 0.7800\n",
      "Epoch [2], val_loss: 0.6917, val_acc: 0.7823\n",
      "Epoch [3], val_loss: 0.6865, val_acc: 0.7851\n",
      "Epoch [4], val_loss: 0.6814, val_acc: 0.7858\n"
     ]
    }
   ],
   "source": [
    "history6 = fit(5, 0.001, model, train_loader, val_loader)"
   ]
  },
  {
   "cell_type": "code",
   "execution_count": 26,
   "id": "628af55f",
   "metadata": {
    "execution": {
     "iopub.execute_input": "2022-09-23T18:15:09.056868Z",
     "iopub.status.busy": "2022-09-23T18:15:09.056427Z",
     "iopub.status.idle": "2022-09-23T18:15:39.861338Z",
     "shell.execute_reply": "2022-09-23T18:15:39.860075Z"
    },
    "papermill": {
     "duration": 30.841731,
     "end_time": "2022-09-23T18:15:39.879800",
     "exception": false,
     "start_time": "2022-09-23T18:15:09.038069",
     "status": "completed"
    },
    "tags": []
   },
   "outputs": [
    {
     "name": "stdout",
     "output_type": "stream",
     "text": [
      "Epoch [0], val_loss: 0.6767, val_acc: 0.7874\n",
      "Epoch [1], val_loss: 0.6721, val_acc: 0.7902\n",
      "Epoch [2], val_loss: 0.6682, val_acc: 0.7902\n",
      "Epoch [3], val_loss: 0.6641, val_acc: 0.7913\n",
      "Epoch [4], val_loss: 0.6598, val_acc: 0.7940\n"
     ]
    }
   ],
   "source": [
    "history7 = fit(5, 0.001, model, train_loader, val_loader)"
   ]
  },
  {
   "cell_type": "markdown",
   "id": "857ffb95",
   "metadata": {
    "papermill": {
     "duration": 0.016616,
     "end_time": "2022-09-23T18:15:39.913274",
     "exception": false,
     "start_time": "2022-09-23T18:15:39.896658",
     "status": "completed"
    },
    "tags": []
   },
   "source": [
    "Visualizing this change in Accuracy using a line graph."
   ]
  },
  {
   "cell_type": "code",
   "execution_count": 27,
   "id": "d3644fc8",
   "metadata": {
    "execution": {
     "iopub.execute_input": "2022-09-23T18:15:39.948950Z",
     "iopub.status.busy": "2022-09-23T18:15:39.948531Z",
     "iopub.status.idle": "2022-09-23T18:15:40.169661Z",
     "shell.execute_reply": "2022-09-23T18:15:40.168775Z"
    },
    "papermill": {
     "duration": 0.241459,
     "end_time": "2022-09-23T18:15:40.171780",
     "exception": false,
     "start_time": "2022-09-23T18:15:39.930321",
     "status": "completed"
    },
    "tags": []
   },
   "outputs": [
    {
     "data": {
      "image/png": "[encoded data removed]",
      "text/plain": [
       "<Figure size 432x288 with 1 Axes>"
      ]
     },
     "metadata": {
      "needs_background": "light"
     },
     "output_type": "display_data"
    }
   ],
   "source": [
    "history =  [result0] + history1 + history2 + history3 + history4 + history5 + history6 + history7 \n",
    "accuracies = [result['val_acc'] for result in history]\n",
    "plt.plot(accuracies, '-x')\n",
    "plt.xlabel('epoch')\n",
    "plt.ylabel('accuracy')\n",
    "plt.title('Accuracy vs. No. of epochs');"
   ]
  },
  {
   "cell_type": "markdown",
   "id": "ce102b0b",
   "metadata": {
    "papermill": {
     "duration": 0.01712,
     "end_time": "2022-09-23T18:15:40.206297",
     "exception": false,
     "start_time": "2022-09-23T18:15:40.189177",
     "status": "completed"
    },
    "tags": []
   },
   "source": [
    "## Testing with Test dataset"
   ]
  },
  {
   "cell_type": "markdown",
   "id": "2fa79fb1",
   "metadata": {
    "papermill": {
     "duration": 0.017039,
     "end_time": "2022-09-23T18:15:40.240947",
     "exception": false,
     "start_time": "2022-09-23T18:15:40.223908",
     "status": "completed"
    },
    "tags": []
   },
   "source": [
    "Recreating the test dataset in tensor form."
   ]
  },
  {
   "cell_type": "code",
   "execution_count": 28,
   "id": "fdfff95b",
   "metadata": {
    "execution": {
     "iopub.execute_input": "2022-09-23T18:15:40.278008Z",
     "iopub.status.busy": "2022-09-23T18:15:40.277292Z",
     "iopub.status.idle": "2022-09-23T18:15:40.287365Z",
     "shell.execute_reply": "2022-09-23T18:15:40.286188Z"
    },
    "papermill": {
     "duration": 0.031653,
     "end_time": "2022-09-23T18:15:40.289872",
     "exception": false,
     "start_time": "2022-09-23T18:15:40.258219",
     "status": "completed"
    },
    "tags": []
   },
   "outputs": [],
   "source": [
    "# Define test dataset\n",
    "test_dataset = FashionMNIST(root='data/', \n",
    "                     train=False,\n",
    "                     transform=transforms.ToTensor())"
   ]
  },
  {
   "cell_type": "markdown",
   "id": "75455204",
   "metadata": {
    "papermill": {
     "duration": 0.017096,
     "end_time": "2022-09-23T18:15:40.324455",
     "exception": false,
     "start_time": "2022-09-23T18:15:40.307359",
     "status": "completed"
    },
    "tags": []
   },
   "source": [
    "### Overall loss and accuracy of the model on the test set"
   ]
  },
  {
   "cell_type": "code",
   "execution_count": 29,
   "id": "315bdf1c",
   "metadata": {
    "execution": {
     "iopub.execute_input": "2022-09-23T18:15:40.361198Z",
     "iopub.status.busy": "2022-09-23T18:15:40.360793Z",
     "iopub.status.idle": "2022-09-23T18:15:41.368160Z",
     "shell.execute_reply": "2022-09-23T18:15:41.367000Z"
    },
    "papermill": {
     "duration": 1.028921,
     "end_time": "2022-09-23T18:15:41.370902",
     "exception": false,
     "start_time": "2022-09-23T18:15:40.341981",
     "status": "completed"
    },
    "tags": []
   },
   "outputs": [
    {
     "data": {
      "text/plain": [
       "{'val_loss': 0.6821567416191101, 'val_acc': 0.7730468511581421}"
      ]
     },
     "execution_count": 29,
     "metadata": {},
     "output_type": "execute_result"
    }
   ],
   "source": [
    "test_loader = DataLoader(test_dataset, batch_size=256)\n",
    "result = evaluate(model, test_loader)\n",
    "result"
   ]
  },
  {
   "cell_type": "markdown",
   "id": "2cd0828e",
   "metadata": {
    "papermill": {
     "duration": 0.017343,
     "end_time": "2022-09-23T18:15:41.405977",
     "exception": false,
     "start_time": "2022-09-23T18:15:41.388634",
     "status": "completed"
    },
    "tags": []
   },
   "source": [
    "Defining a helper function *predict_image*, which returns the predicted label for a single image tensor."
   ]
  },
  {
   "cell_type": "code",
   "execution_count": 30,
   "id": "e4cee767",
   "metadata": {
    "execution": {
     "iopub.execute_input": "2022-09-23T18:15:41.443202Z",
     "iopub.status.busy": "2022-09-23T18:15:41.442795Z",
     "iopub.status.idle": "2022-09-23T18:15:41.449801Z",
     "shell.execute_reply": "2022-09-23T18:15:41.448177Z"
    },
    "papermill": {
     "duration": 0.028794,
     "end_time": "2022-09-23T18:15:41.452325",
     "exception": false,
     "start_time": "2022-09-23T18:15:41.423531",
     "status": "completed"
    },
    "tags": []
   },
   "outputs": [],
   "source": [
    "def predict_image(img, model):\n",
    "    xb = img.unsqueeze(0)\n",
    "    yb = model(xb)\n",
    "    _, preds = torch.max(yb, dim=1)\n",
    "    return preds[0].item()"
   ]
  },
  {
   "cell_type": "markdown",
   "id": "bf872350",
   "metadata": {
    "papermill": {
     "duration": 0.017504,
     "end_time": "2022-09-23T18:15:41.487620",
     "exception": false,
     "start_time": "2022-09-23T18:15:41.470116",
     "status": "completed"
    },
    "tags": []
   },
   "source": [
    "Trying out model's prediction a few images"
   ]
  },
  {
   "cell_type": "code",
   "execution_count": 31,
   "id": "1c57f2f6",
   "metadata": {
    "execution": {
     "iopub.execute_input": "2022-09-23T18:15:41.525507Z",
     "iopub.status.busy": "2022-09-23T18:15:41.524742Z",
     "iopub.status.idle": "2022-09-23T18:15:41.721106Z",
     "shell.execute_reply": "2022-09-23T18:15:41.719388Z"
    },
    "papermill": {
     "duration": 0.218261,
     "end_time": "2022-09-23T18:15:41.723586",
     "exception": false,
     "start_time": "2022-09-23T18:15:41.505325",
     "status": "completed"
    },
    "tags": []
   },
   "outputs": [
    {
     "name": "stdout",
     "output_type": "stream",
     "text": [
      "Label: 9 , Predicted: 9\n"
     ]
    },
    {
     "data": {
      "image/png": "[encoded data removed]",
      "text/plain": [
       "<Figure size 432x288 with 1 Axes>"
      ]
     },
     "metadata": {
      "needs_background": "light"
     },
     "output_type": "display_data"
    }
   ],
   "source": [
    "img, label = test_dataset[0]\n",
    "plt.imshow(img[0], cmap='gray')\n",
    "print('Label:', label, ', Predicted:', predict_image(img, model))"
   ]
  },
  {
   "cell_type": "code",
   "execution_count": 32,
   "id": "e3ac01b5",
   "metadata": {
    "execution": {
     "iopub.execute_input": "2022-09-23T18:15:41.763159Z",
     "iopub.status.busy": "2022-09-23T18:15:41.762337Z",
     "iopub.status.idle": "2022-09-23T18:15:41.954238Z",
     "shell.execute_reply": "2022-09-23T18:15:41.952916Z"
    },
    "papermill": {
     "duration": 0.214132,
     "end_time": "2022-09-23T18:15:41.956673",
     "exception": false,
     "start_time": "2022-09-23T18:15:41.742541",
     "status": "completed"
    },
    "tags": []
   },
   "outputs": [
    {
     "name": "stdout",
     "output_type": "stream",
     "text": [
      "Label: 1 , Predicted: 1\n"
     ]
    },
    {
     "data": {
      "image/png": "[encoded data removed]",
      "text/plain": [
       "<Figure size 432x288 with 1 Axes>"
      ]
     },
     "metadata": {
      "needs_background": "light"
     },
     "output_type": "display_data"
    }
   ],
   "source": [
    "img, label = test_dataset[15]\n",
    "plt.imshow(img[0], cmap='gray')\n",
    "print('Label:', label, ', Predicted:', predict_image(img, model))"
   ]
  },
  {
   "cell_type": "code",
   "execution_count": 33,
   "id": "0b132565",
   "metadata": {
    "execution": {
     "iopub.execute_input": "2022-09-23T18:15:41.994933Z",
     "iopub.status.busy": "2022-09-23T18:15:41.994510Z",
     "iopub.status.idle": "2022-09-23T18:15:42.187143Z",
     "shell.execute_reply": "2022-09-23T18:15:42.185936Z"
    },
    "papermill": {
     "duration": 0.214789,
     "end_time": "2022-09-23T18:15:42.189814",
     "exception": false,
     "start_time": "2022-09-23T18:15:41.975025",
     "status": "completed"
    },
    "tags": []
   },
   "outputs": [
    {
     "name": "stdout",
     "output_type": "stream",
     "text": [
      "Label: 8 , Predicted: 8\n"
     ]
    },
    {
     "data": {
      "image/png": "[encoded data removed]",
      "text/plain": [
       "<Figure size 432x288 with 1 Axes>"
      ]
     },
     "metadata": {
      "needs_background": "light"
     },
     "output_type": "display_data"
    }
   ],
   "source": [
    "img, label = test_dataset[9500]\n",
    "plt.imshow(img[0], cmap='gray')\n",
    "print('Label:', label, ', Predicted:', predict_image(img, model))"
   ]
  },
  {
   "cell_type": "code",
   "execution_count": 34,
   "id": "2b7ef5d0",
   "metadata": {
    "execution": {
     "iopub.execute_input": "2022-09-23T18:15:42.228749Z",
     "iopub.status.busy": "2022-09-23T18:15:42.228322Z",
     "iopub.status.idle": "2022-09-23T18:15:42.418716Z",
     "shell.execute_reply": "2022-09-23T18:15:42.417284Z"
    },
    "papermill": {
     "duration": 0.212779,
     "end_time": "2022-09-23T18:15:42.421342",
     "exception": false,
     "start_time": "2022-09-23T18:15:42.208563",
     "status": "completed"
    },
    "tags": []
   },
   "outputs": [
    {
     "name": "stdout",
     "output_type": "stream",
     "text": [
      "Label: 6 , Predicted: 2\n"
     ]
    },
    {
     "data": {
      "image/png": "[encoded data removed]",
      "text/plain": [
       "<Figure size 432x288 with 1 Axes>"
      ]
     },
     "metadata": {
      "needs_background": "light"
     },
     "output_type": "display_data"
    }
   ],
   "source": [
    "img, label = test_dataset[193]\n",
    "plt.imshow(img[0], cmap='gray')\n",
    "print('Label:', label, ', Predicted:', predict_image(img, model))"
   ]
  },
  {
   "cell_type": "markdown",
   "id": "d9631125",
   "metadata": {
    "papermill": {
     "duration": 0.018154,
     "end_time": "2022-09-23T18:15:42.458241",
     "exception": false,
     "start_time": "2022-09-23T18:15:42.440087",
     "status": "completed"
    },
    "tags": []
   },
   "source": [
    "## Final Result\n",
    "\n",
    "*Accuracy on Test set*: **0.78** | *Over all Loss on Test set*: **0.67**"
   ]
  }
 ],
 "metadata": {
  "kernelspec": {
   "display_name": "Python 3",
   "language": "python",
   "name": "python3"
  },
  "language_info": {
   "codemirror_mode": {
    "name": "ipython",
    "version": 3
   },
   "file_extension": ".py",
   "mimetype": "text/x-python",
   "name": "python",
   "nbconvert_exporter": "python",
   "pygments_lexer": "ipython3",
   "version": "3.7.12"
  },
  "papermill": {
   "default_parameters": {},
   "duration": 255.518565,
   "end_time": "2022-09-23T18:15:43.401886",
   "environment_variables": {},
   "exception": null,
   "input_path": "__notebook__.ipynb",
   "output_path": "__notebook__.ipynb",
   "parameters": {},
   "start_time": "2022-09-23T18:11:27.883321",
   "version": "2.3.4"
  },
  "widgets": {
   "application/vnd.jupyter.widget-state+json": {
    "state": {
     "0644b219f23749e0a50b4fc6753af83c": {
      "model_module": "@jupyter-widgets/base",
      "model_module_version": "1.2.0",
      "model_name": "LayoutModel",
      "state": {
       "_model_module": "@jupyter-widgets/base",
       "_model_module_version": "1.2.0",
       "_model_name": "LayoutModel",
       "_view_count": null,
       "_view_module": "@jupyter-widgets/base",
       "_view_module_version": "1.2.0",
       "_view_name": "LayoutView",
       "align_content": null,
       "align_items": null,
       "align_self": null,
       "border": null,
       "bottom": null,
       "display": null,
       "flex": null,
       "flex_flow": null,
       "grid_area": null,
       "grid_auto_columns": null,
       "grid_auto_flow": null,
       "grid_auto_rows": null,
       "grid_column": null,
       "grid_gap": null,
       "grid_row": null,
       "grid_template_areas": null,
       "grid_template_columns": null,
       "grid_template_rows": null,
       "height": null,
       "justify_content": null,
       "justify_items": null,
       "left": null,
       "margin": null,
       "max_height": null,
       "max_width": null,
       "min_height": null,
       "min_width": null,
       "object_fit": null,
       "object_position": null,
       "order": null,
       "overflow": null,
       "overflow_x": null,
       "overflow_y": null,
       "padding": null,
       "right": null,
       "top": null,
       "visibility": null,
       "width": null
      }
     },
     "08c4ef1d00b342b5a5fb7392e24906ea": {
      "model_module": "@jupyter-widgets/controls",
      "model_module_version": "1.5.0",
      "model_name": "HBoxModel",
      "state": {
       "_dom_classes": [],
       "_model_module": "@jupyter-widgets/controls",
       "_model_module_version": "1.5.0",
       "_model_name": "HBoxModel",
       "_view_count": null,
       "_view_module": "@jupyter-widgets/controls",
       "_view_module_version": "1.5.0",
       "_view_name": "HBoxView",
       "box_style": "",
       "children": [
        "IPY_MODEL_7d3ef7b0ec0c42939b04b6ba2972d089",
        "IPY_MODEL_2a061ea4ad1e46399313138410a91cf4",
        "IPY_MODEL_477c7525c7aa425197768f5fd9533bd2"
       ],
       "layout": "IPY_MODEL_7a6c2089fbd94a39a5dbb7ea660763f0"
      }
     },
     "0d17d929b41845ada74bb2b73eddd558": {
      "model_module": "@jupyter-widgets/controls",
      "model_module_version": "1.5.0",
      "model_name": "HBoxModel",
      "state": {
       "_dom_classes": [],
       "_model_module": "@jupyter-widgets/controls",
       "_model_module_version": "1.5.0",
       "_model_name": "HBoxModel",
       "_view_count": null,
       "_view_module": "@jupyter-widgets/controls",
       "_view_module_version": "1.5.0",
       "_view_name": "HBoxView",
       "box_style": "",
       "children": [
        "IPY_MODEL_7c3d0f1bac1e4161a73f529d897d4e87",
        "IPY_MODEL_8fa9f26e1bf446e0a195ce3141b4ab21",
        "IPY_MODEL_e8fc43d04c6f45139a7876a443c5e11d"
       ],
       "layout": "IPY_MODEL_f86b076d46ba41c3ba792dcfa267d75c"
      }
     },
     "0ee018f2eec7464bb4d719659bf57b79": {
      "model_module": "@jupyter-widgets/controls",
      "model_module_version": "1.5.0",
      "model_name": "HTMLModel",
      "state": {
       "_dom_classes": [],
       "_model_module": "@jupyter-widgets/controls",
       "_model_module_version": "1.5.0",
       "_model_name": "HTMLModel",
       "_view_count": null,
       "_view_module": "@jupyter-widgets/controls",
       "_view_module_version": "1.5.0",
       "_view_name": "HTMLView",
       "description": "",
       "description_tooltip": null,
       "layout": "IPY_MODEL_3e27dc6805cb472c92ee581d248cddc6",
       "placeholder": "​",
       "style": "IPY_MODEL_1c46033e7e6f4aaca9508a7a28a1e174",
       "value": ""
      }
     },
     "1bc26a2b4374441e82e41585314509fe": {
      "model_module": "@jupyter-widgets/base",
      "model_module_version": "1.2.0",
      "model_name": "LayoutModel",
      "state": {
       "_model_module": "@jupyter-widgets/base",
       "_model_module_version": "1.2.0",
       "_model_name": "LayoutModel",
       "_view_count": null,
       "_view_module": "@jupyter-widgets/base",
       "_view_module_version": "1.2.0",
       "_view_name": "LayoutView",
       "align_content": null,
       "align_items": null,
       "align_self": null,
       "border": null,
       "bottom": null,
       "display": null,
       "flex": null,
       "flex_flow": null,
       "grid_area": null,
       "grid_auto_columns": null,
       "grid_auto_flow": null,
       "grid_auto_rows": null,
       "grid_column": null,
       "grid_gap": null,
       "grid_row": null,
       "grid_template_areas": null,
       "grid_template_columns": null,
       "grid_template_rows": null,
       "height": null,
       "justify_content": null,
       "justify_items": null,
       "left": null,
       "margin": null,
       "max_height": null,
       "max_width": null,
       "min_height": null,
       "min_width": null,
       "object_fit": null,
       "object_position": null,
       "order": null,
       "overflow": null,
       "overflow_x": null,
       "overflow_y": null,
       "padding": null,
       "right": null,
       "top": null,
       "visibility": null,
       "width": null
      }
     },
     "1c46033e7e6f4aaca9508a7a28a1e174": {
      "model_module": "@jupyter-widgets/controls",
      "model_module_version": "1.5.0",
      "model_name": "DescriptionStyleModel",
      "state": {
       "_model_module": "@jupyter-widgets/controls",
       "_model_module_version": "1.5.0",
       "_model_name": "DescriptionStyleModel",
       "_view_count": null,
       "_view_module": "@jupyter-widgets/base",
       "_view_module_version": "1.2.0",
       "_view_name": "StyleView",
       "description_width": ""
      }
     },
     "25f466f234734b17b5381990e8514599": {
      "model_module": "@jupyter-widgets/base",
      "model_module_version": "1.2.0",
      "model_name": "LayoutModel",
      "state": {
       "_model_module": "@jupyter-widgets/base",
       "_model_module_version": "1.2.0",
       "_model_name": "LayoutModel",
       "_view_count": null,
       "_view_module": "@jupyter-widgets/base",
       "_view_module_version": "1.2.0",
       "_view_name": "LayoutView",
       "align_content": null,
       "align_items": null,
       "align_self": null,
       "border": null,
       "bottom": null,
       "display": null,
       "flex": null,
       "flex_flow": null,
       "grid_area": null,
       "grid_auto_columns": null,
       "grid_auto_flow": null,
       "grid_auto_rows": null,
       "grid_column": null,
       "grid_gap": null,
       "grid_row": null,
       "grid_template_areas": null,
       "grid_template_columns": null,
       "grid_template_rows": null,
       "height": null,
       "justify_content": null,
       "justify_items": null,
       "left": null,
       "margin": null,
       "max_height": null,
       "max_width": null,
       "min_height": null,
       "min_width": null,
       "object_fit": null,
       "object_position": null,
       "order": null,
       "overflow": null,
       "overflow_x": null,
       "overflow_y": null,
       "padding": null,
       "right": null,
       "top": null,
       "visibility": null,
       "width": null
      }
     },
     "2a061ea4ad1e46399313138410a91cf4": {
      "model_module": "@jupyter-widgets/controls",
      "model_module_version": "1.5.0",
      "model_name": "FloatProgressModel",
      "state": {
       "_dom_classes": [],
       "_model_module": "@jupyter-widgets/controls",
       "_model_module_version": "1.5.0",
       "_model_name": "FloatProgressModel",
       "_view_count": null,
       "_view_module": "@jupyter-widgets/controls",
       "_view_module_version": "1.5.0",
       "_view_name": "ProgressView",
       "bar_style": "success",
       "description": "",
       "description_tooltip": null,
       "layout": "IPY_MODEL_961d41b1a9c042ceaa2635114bc8c1f0",
       "max": 26421880.0,
       "min": 0.0,
       "orientation": "horizontal",
       "style": "IPY_MODEL_52df77cf4c5b4a91b63e2f22a8117901",
       "value": 26421880.0
      }
     },
     "3719538789ee4adf8d09e8a43a3db6da": {
      "model_module": "@jupyter-widgets/controls",
      "model_module_version": "1.5.0",
      "model_name": "DescriptionStyleModel",
      "state": {
       "_model_module": "@jupyter-widgets/controls",
       "_model_module_version": "1.5.0",
       "_model_name": "DescriptionStyleModel",
       "_view_count": null,
       "_view_module": "@jupyter-widgets/base",
       "_view_module_version": "1.2.0",
       "_view_name": "StyleView",
       "description_width": ""
      }
     },
     "3e27dc6805cb472c92ee581d248cddc6": {
      "model_module": "@jupyter-widgets/base",
      "model_module_version": "1.2.0",
      "model_name": "LayoutModel",
      "state": {
       "_model_module": "@jupyter-widgets/base",
       "_model_module_version": "1.2.0",
       "_model_name": "LayoutModel",
       "_view_count": null,
       "_view_module": "@jupyter-widgets/base",
       "_view_module_version": "1.2.0",
       "_view_name": "LayoutView",
       "align_content": null,
       "align_items": null,
       "align_self": null,
       "border": null,
       "bottom": null,
       "display": null,
       "flex": null,
       "flex_flow": null,
       "grid_area": null,
       "grid_auto_columns": null,
       "grid_auto_flow": null,
       "grid_auto_rows": null,
       "grid_column": null,
       "grid_gap": null,
       "grid_row": null,
       "grid_template_areas": null,
       "grid_template_columns": null,
       "grid_template_rows": null,
       "height": null,
       "justify_content": null,
       "justify_items": null,
       "left": null,
       "margin": null,
       "max_height": null,
       "max_width": null,
       "min_height": null,
       "min_width": null,
       "object_fit": null,
       "object_position": null,
       "order": null,
       "overflow": null,
       "overflow_x": null,
       "overflow_y": null,
       "padding": null,
       "right": null,
       "top": null,
       "visibility": null,
       "width": null
      }
     },
     "413a1ff732f54b8487f24a164874396f": {
      "model_module": "@jupyter-widgets/controls",
      "model_module_version": "1.5.0",
      "model_name": "DescriptionStyleModel",
      "state": {
       "_model_module": "@jupyter-widgets/controls",
       "_model_module_version": "1.5.0",
       "_model_name": "DescriptionStyleModel",
       "_view_count": null,
       "_view_module": "@jupyter-widgets/base",
       "_view_module_version": "1.2.0",
       "_view_name": "StyleView",
       "description_width": ""
      }
     },
     "461daa23a0784e6e8302170f84f94d2e": {
      "model_module": "@jupyter-widgets/controls",
      "model_module_version": "1.5.0",
      "model_name": "DescriptionStyleModel",
      "state": {
       "_model_module": "@jupyter-widgets/controls",
       "_model_module_version": "1.5.0",
       "_model_name": "DescriptionStyleModel",
       "_view_count": null,
       "_view_module": "@jupyter-widgets/base",
       "_view_module_version": "1.2.0",
       "_view_name": "StyleView",
       "description_width": ""
      }
     },
     "477c7525c7aa425197768f5fd9533bd2": {
      "model_module": "@jupyter-widgets/controls",
      "model_module_version": "1.5.0",
      "model_name": "HTMLModel",
      "state": {
       "_dom_classes": [],
       "_model_module": "@jupyter-widgets/controls",
       "_model_module_version": "1.5.0",
       "_model_name": "HTMLModel",
       "_view_count": null,
       "_view_module": "@jupyter-widgets/controls",
       "_view_module_version": "1.5.0",
       "_view_name": "HTMLView",
       "description": "",
       "description_tooltip": null,
       "layout": "IPY_MODEL_cde2f3bfaa704613b3b525f7b62a7031",
       "placeholder": "​",
       "style": "IPY_MODEL_4f00e85b7c74433d9b8cb7b46334a177",
       "value": " 26422272/? [00:04&lt;00:00, 10224182.00it/s]"
      }
     },
     "4f00e85b7c74433d9b8cb7b46334a177": {
      "model_module": "@jupyter-widgets/controls",
      "model_module_version": "1.5.0",
      "model_name": "DescriptionStyleModel",
      "state": {
       "_model_module": "@jupyter-widgets/controls",
       "_model_module_version": "1.5.0",
       "_model_name": "DescriptionStyleModel",
       "_view_count": null,
       "_view_module": "@jupyter-widgets/base",
       "_view_module_version": "1.2.0",
       "_view_name": "StyleView",
       "description_width": ""
      }
     },
     "51369f0707cb466fb81d74511e455dd5": {
      "model_module": "@jupyter-widgets/controls",
      "model_module_version": "1.5.0",
      "model_name": "HTMLModel",
      "state": {
       "_dom_classes": [],
       "_model_module": "@jupyter-widgets/controls",
       "_model_module_version": "1.5.0",
       "_model_name": "HTMLModel",
       "_view_count": null,
       "_view_module": "@jupyter-widgets/controls",
       "_view_module_version": "1.5.0",
       "_view_name": "HTMLView",
       "description": "",
       "description_tooltip": null,
       "layout": "IPY_MODEL_640a1963d7e944e3a80530b5ab4874b3",
       "placeholder": "​",
       "style": "IPY_MODEL_90a3ba519e7a4aefbc0ebf7f0ada7fd0",
       "value": " 4422656/? [00:09&lt;00:00, 1413019.75it/s]"
      }
     },
     "52df77cf4c5b4a91b63e2f22a8117901": {
      "model_module": "@jupyter-widgets/controls",
      "model_module_version": "1.5.0",
      "model_name": "ProgressStyleModel",
      "state": {
       "_model_module": "@jupyter-widgets/controls",
       "_model_module_version": "1.5.0",
       "_model_name": "ProgressStyleModel",
       "_view_count": null,
       "_view_module": "@jupyter-widgets/base",
       "_view_module_version": "1.2.0",
       "_view_name": "StyleView",
       "bar_color": null,
       "description_width": ""
      }
     },
     "54a8015670a94443803ac4b8d79d2282": {
      "model_module": "@jupyter-widgets/controls",
      "model_module_version": "1.5.0",
      "model_name": "ProgressStyleModel",
      "state": {
       "_model_module": "@jupyter-widgets/controls",
       "_model_module_version": "1.5.0",
       "_model_name": "ProgressStyleModel",
       "_view_count": null,
       "_view_module": "@jupyter-widgets/base",
       "_view_module_version": "1.2.0",
       "_view_name": "StyleView",
       "bar_color": null,
       "description_width": ""
      }
     },
     "61a671391b574d44aee00d8abd4c71e9": {
      "model_module": "@jupyter-widgets/controls",
      "model_module_version": "1.5.0",
      "model_name": "DescriptionStyleModel",
      "state": {
       "_model_module": "@jupyter-widgets/controls",
       "_model_module_version": "1.5.0",
       "_model_name": "DescriptionStyleModel",
       "_view_count": null,
       "_view_module": "@jupyter-widgets/base",
       "_view_module_version": "1.2.0",
       "_view_name": "StyleView",
       "description_width": ""
      }
     },
     "640a1963d7e944e3a80530b5ab4874b3": {
      "model_module": "@jupyter-widgets/base",
      "model_module_version": "1.2.0",
      "model_name": "LayoutModel",
      "state": {
       "_model_module": "@jupyter-widgets/base",
       "_model_module_version": "1.2.0",
       "_model_name": "LayoutModel",
       "_view_count": null,
       "_view_module": "@jupyter-widgets/base",
       "_view_module_version": "1.2.0",
       "_view_name": "LayoutView",
       "align_content": null,
       "align_items": null,
       "align_self": null,
       "border": null,
       "bottom": null,
       "display": null,
       "flex": null,
       "flex_flow": null,
       "grid_area": null,
       "grid_auto_columns": null,
       "grid_auto_flow": null,
       "grid_auto_rows": null,
       "grid_column": null,
       "grid_gap": null,
       "grid_row": null,
       "grid_template_areas": null,
       "grid_template_columns": null,
       "grid_template_rows": null,
       "height": null,
       "justify_content": null,
       "justify_items": null,
       "left": null,
       "margin": null,
       "max_height": null,
       "max_width": null,
       "min_height": null,
       "min_width": null,
       "object_fit": null,
       "object_position": null,
       "order": null,
       "overflow": null,
       "overflow_x": null,
       "overflow_y": null,
       "padding": null,
       "right": null,
       "top": null,
       "visibility": null,
       "width": null
      }
     },
     "6d17c30d70084170bdadf5b72830afa5": {
      "model_module": "@jupyter-widgets/base",
      "model_module_version": "1.2.0",
      "model_name": "LayoutModel",
      "state": {
       "_model_module": "@jupyter-widgets/base",
       "_model_module_version": "1.2.0",
       "_model_name": "LayoutModel",
       "_view_count": null,
       "_view_module": "@jupyter-widgets/base",
       "_view_module_version": "1.2.0",
       "_view_name": "LayoutView",
       "align_content": null,
       "align_items": null,
       "align_self": null,
       "border": null,
       "bottom": null,
       "display": null,
       "flex": null,
       "flex_flow": null,
       "grid_area": null,
       "grid_auto_columns": null,
       "grid_auto_flow": null,
       "grid_auto_rows": null,
       "grid_column": null,
       "grid_gap": null,
       "grid_row": null,
       "grid_template_areas": null,
       "grid_template_columns": null,
       "grid_template_rows": null,
       "height": null,
       "justify_content": null,
       "justify_items": null,
       "left": null,
       "margin": null,
       "max_height": null,
       "max_width": null,
       "min_height": null,
       "min_width": null,
       "object_fit": null,
       "object_position": null,
       "order": null,
       "overflow": null,
       "overflow_x": null,
       "overflow_y": null,
       "padding": null,
       "right": null,
       "top": null,
       "visibility": null,
       "width": null
      }
     },
     "701e6cefbd754107a0419ec755bb0be5": {
      "model_module": "@jupyter-widgets/controls",
      "model_module_version": "1.5.0",
      "model_name": "ProgressStyleModel",
      "state": {
       "_model_module": "@jupyter-widgets/controls",
       "_model_module_version": "1.5.0",
       "_model_name": "ProgressStyleModel",
       "_view_count": null,
       "_view_module": "@jupyter-widgets/base",
       "_view_module_version": "1.2.0",
       "_view_name": "StyleView",
       "bar_color": null,
       "description_width": ""
      }
     },
     "74e7b4284fe1456db6a122d8c7a480c4": {
      "model_module": "@jupyter-widgets/base",
      "model_module_version": "1.2.0",
      "model_name": "LayoutModel",
      "state": {
       "_model_module": "@jupyter-widgets/base",
       "_model_module_version": "1.2.0",
       "_model_name": "LayoutModel",
       "_view_count": null,
       "_view_module": "@jupyter-widgets/base",
       "_view_module_version": "1.2.0",
       "_view_name": "LayoutView",
       "align_content": null,
       "align_items": null,
       "align_self": null,
       "border": null,
       "bottom": null,
       "display": null,
       "flex": null,
       "flex_flow": null,
       "grid_area": null,
       "grid_auto_columns": null,
       "grid_auto_flow": null,
       "grid_auto_rows": null,
       "grid_column": null,
       "grid_gap": null,
       "grid_row": null,
       "grid_template_areas": null,
       "grid_template_columns": null,
       "grid_template_rows": null,
       "height": null,
       "justify_content": null,
       "justify_items": null,
       "left": null,
       "margin": null,
       "max_height": null,
       "max_width": null,
       "min_height": null,
       "min_width": null,
       "object_fit": null,
       "object_position": null,
       "order": null,
       "overflow": null,
       "overflow_x": null,
       "overflow_y": null,
       "padding": null,
       "right": null,
       "top": null,
       "visibility": null,
       "width": null
      }
     },
     "7a6c2089fbd94a39a5dbb7ea660763f0": {
      "model_module": "@jupyter-widgets/base",
      "model_module_version": "1.2.0",
      "model_name": "LayoutModel",
      "state": {
       "_model_module": "@jupyter-widgets/base",
       "_model_module_version": "1.2.0",
       "_model_name": "LayoutModel",
       "_view_count": null,
       "_view_module": "@jupyter-widgets/base",
       "_view_module_version": "1.2.0",
       "_view_name": "LayoutView",
       "align_content": null,
       "align_items": null,
       "align_self": null,
       "border": null,
       "bottom": null,
       "display": null,
       "flex": null,
       "flex_flow": null,
       "grid_area": null,
       "grid_auto_columns": null,
       "grid_auto_flow": null,
       "grid_auto_rows": null,
       "grid_column": null,
       "grid_gap": null,
       "grid_row": null,
       "grid_template_areas": null,
       "grid_template_columns": null,
       "grid_template_rows": null,
       "height": null,
       "justify_content": null,
       "justify_items": null,
       "left": null,
       "margin": null,
       "max_height": null,
       "max_width": null,
       "min_height": null,
       "min_width": null,
       "object_fit": null,
       "object_position": null,
       "order": null,
       "overflow": null,
       "overflow_x": null,
       "overflow_y": null,
       "padding": null,
       "right": null,
       "top": null,
       "visibility": null,
       "width": null
      }
     },
     "7c3d0f1bac1e4161a73f529d897d4e87": {
      "model_module": "@jupyter-widgets/controls",
      "model_module_version": "1.5.0",
      "model_name": "HTMLModel",
      "state": {
       "_dom_classes": [],
       "_model_module": "@jupyter-widgets/controls",
       "_model_module_version": "1.5.0",
       "_model_name": "HTMLModel",
       "_view_count": null,
       "_view_module": "@jupyter-widgets/controls",
       "_view_module_version": "1.5.0",
       "_view_name": "HTMLView",
       "description": "",
       "description_tooltip": null,
       "layout": "IPY_MODEL_25f466f234734b17b5381990e8514599",
       "placeholder": "​",
       "style": "IPY_MODEL_f467918128b746e2afa4469060570b58",
       "value": ""
      }
     },
     "7d3ef7b0ec0c42939b04b6ba2972d089": {
      "model_module": "@jupyter-widgets/controls",
      "model_module_version": "1.5.0",
      "model_name": "HTMLModel",
      "state": {
       "_dom_classes": [],
       "_model_module": "@jupyter-widgets/controls",
       "_model_module_version": "1.5.0",
       "_model_name": "HTMLModel",
       "_view_count": null,
       "_view_module": "@jupyter-widgets/controls",
       "_view_module_version": "1.5.0",
       "_view_name": "HTMLView",
       "description": "",
       "description_tooltip": null,
       "layout": "IPY_MODEL_cb28c3f094f440e18f54c80abdfa65a4",
       "placeholder": "​",
       "style": "IPY_MODEL_413a1ff732f54b8487f24a164874396f",
       "value": ""
      }
     },
     "8fa9f26e1bf446e0a195ce3141b4ab21": {
      "model_module": "@jupyter-widgets/controls",
      "model_module_version": "1.5.0",
      "model_name": "FloatProgressModel",
      "state": {
       "_dom_classes": [],
       "_model_module": "@jupyter-widgets/controls",
       "_model_module_version": "1.5.0",
       "_model_name": "FloatProgressModel",
       "_view_count": null,
       "_view_module": "@jupyter-widgets/controls",
       "_view_module_version": "1.5.0",
       "_view_name": "ProgressView",
       "bar_style": "success",
       "description": "",
       "description_tooltip": null,
       "layout": "IPY_MODEL_74e7b4284fe1456db6a122d8c7a480c4",
       "max": 5148.0,
       "min": 0.0,
       "orientation": "horizontal",
       "style": "IPY_MODEL_54a8015670a94443803ac4b8d79d2282",
       "value": 5148.0
      }
     },
     "90a3ba519e7a4aefbc0ebf7f0ada7fd0": {
      "model_module": "@jupyter-widgets/controls",
      "model_module_version": "1.5.0",
      "model_name": "DescriptionStyleModel",
      "state": {
       "_model_module": "@jupyter-widgets/controls",
       "_model_module_version": "1.5.0",
       "_model_name": "DescriptionStyleModel",
       "_view_count": null,
       "_view_module": "@jupyter-widgets/base",
       "_view_module_version": "1.2.0",
       "_view_name": "StyleView",
       "description_width": ""
      }
     },
     "94f14cdb35aa48bd9411cfd304812ffd": {
      "model_module": "@jupyter-widgets/base",
      "model_module_version": "1.2.0",
      "model_name": "LayoutModel",
      "state": {
       "_model_module": "@jupyter-widgets/base",
       "_model_module_version": "1.2.0",
       "_model_name": "LayoutModel",
       "_view_count": null,
       "_view_module": "@jupyter-widgets/base",
       "_view_module_version": "1.2.0",
       "_view_name": "LayoutView",
       "align_content": null,
       "align_items": null,
       "align_self": null,
       "border": null,
       "bottom": null,
       "display": null,
       "flex": null,
       "flex_flow": null,
       "grid_area": null,
       "grid_auto_columns": null,
       "grid_auto_flow": null,
       "grid_auto_rows": null,
       "grid_column": null,
       "grid_gap": null,
       "grid_row": null,
       "grid_template_areas": null,
       "grid_template_columns": null,
       "grid_template_rows": null,
       "height": null,
       "justify_content": null,
       "justify_items": null,
       "left": null,
       "margin": null,
       "max_height": null,
       "max_width": null,
       "min_height": null,
       "min_width": null,
       "object_fit": null,
       "object_position": null,
       "order": null,
       "overflow": null,
       "overflow_x": null,
       "overflow_y": null,
       "padding": null,
       "right": null,
       "top": null,
       "visibility": null,
       "width": null
      }
     },
     "961d41b1a9c042ceaa2635114bc8c1f0": {
      "model_module": "@jupyter-widgets/base",
      "model_module_version": "1.2.0",
      "model_name": "LayoutModel",
      "state": {
       "_model_module": "@jupyter-widgets/base",
       "_model_module_version": "1.2.0",
       "_model_name": "LayoutModel",
       "_view_count": null,
       "_view_module": "@jupyter-widgets/base",
       "_view_module_version": "1.2.0",
       "_view_name": "LayoutView",
       "align_content": null,
       "align_items": null,
       "align_self": null,
       "border": null,
       "bottom": null,
       "display": null,
       "flex": null,
       "flex_flow": null,
       "grid_area": null,
       "grid_auto_columns": null,
       "grid_auto_flow": null,
       "grid_auto_rows": null,
       "grid_column": null,
       "grid_gap": null,
       "grid_row": null,
       "grid_template_areas": null,
       "grid_template_columns": null,
       "grid_template_rows": null,
       "height": null,
       "justify_content": null,
       "justify_items": null,
       "left": null,
       "margin": null,
       "max_height": null,
       "max_width": null,
       "min_height": null,
       "min_width": null,
       "object_fit": null,
       "object_position": null,
       "order": null,
       "overflow": null,
       "overflow_x": null,
       "overflow_y": null,
       "padding": null,
       "right": null,
       "top": null,
       "visibility": null,
       "width": null
      }
     },
     "96b9d145293040acb87af12d2a85bd41": {
      "model_module": "@jupyter-widgets/base",
      "model_module_version": "1.2.0",
      "model_name": "LayoutModel",
      "state": {
       "_model_module": "@jupyter-widgets/base",
       "_model_module_version": "1.2.0",
       "_model_name": "LayoutModel",
       "_view_count": null,
       "_view_module": "@jupyter-widgets/base",
       "_view_module_version": "1.2.0",
       "_view_name": "LayoutView",
       "align_content": null,
       "align_items": null,
       "align_self": null,
       "border": null,
       "bottom": null,
       "display": null,
       "flex": null,
       "flex_flow": null,
       "grid_area": null,
       "grid_auto_columns": null,
       "grid_auto_flow": null,
       "grid_auto_rows": null,
       "grid_column": null,
       "grid_gap": null,
       "grid_row": null,
       "grid_template_areas": null,
       "grid_template_columns": null,
       "grid_template_rows": null,
       "height": null,
       "justify_content": null,
       "justify_items": null,
       "left": null,
       "margin": null,
       "max_height": null,
       "max_width": null,
       "min_height": null,
       "min_width": null,
       "object_fit": null,
       "object_position": null,
       "order": null,
       "overflow": null,
       "overflow_x": null,
       "overflow_y": null,
       "padding": null,
       "right": null,
       "top": null,
       "visibility": null,
       "width": null
      }
     },
     "9e9092e8aa3e40c5923898feb1bbb951": {
      "model_module": "@jupyter-widgets/controls",
      "model_module_version": "1.5.0",
      "model_name": "FloatProgressModel",
      "state": {
       "_dom_classes": [],
       "_model_module": "@jupyter-widgets/controls",
       "_model_module_version": "1.5.0",
       "_model_name": "FloatProgressModel",
       "_view_count": null,
       "_view_module": "@jupyter-widgets/controls",
       "_view_module_version": "1.5.0",
       "_view_name": "ProgressView",
       "bar_style": "success",
       "description": "",
       "description_tooltip": null,
       "layout": "IPY_MODEL_1bc26a2b4374441e82e41585314509fe",
       "max": 4422102.0,
       "min": 0.0,
       "orientation": "horizontal",
       "style": "IPY_MODEL_701e6cefbd754107a0419ec755bb0be5",
       "value": 4422102.0
      }
     },
     "a1a419e82ba44f0c9594e222962c2dde": {
      "model_module": "@jupyter-widgets/controls",
      "model_module_version": "1.5.0",
      "model_name": "HTMLModel",
      "state": {
       "_dom_classes": [],
       "_model_module": "@jupyter-widgets/controls",
       "_model_module_version": "1.5.0",
       "_model_name": "HTMLModel",
       "_view_count": null,
       "_view_module": "@jupyter-widgets/controls",
       "_view_module_version": "1.5.0",
       "_view_name": "HTMLView",
       "description": "",
       "description_tooltip": null,
       "layout": "IPY_MODEL_6d17c30d70084170bdadf5b72830afa5",
       "placeholder": "​",
       "style": "IPY_MODEL_3719538789ee4adf8d09e8a43a3db6da",
       "value": ""
      }
     },
     "b93b0f868ac547bba6d4eab1cb778120": {
      "model_module": "@jupyter-widgets/controls",
      "model_module_version": "1.5.0",
      "model_name": "FloatProgressModel",
      "state": {
       "_dom_classes": [],
       "_model_module": "@jupyter-widgets/controls",
       "_model_module_version": "1.5.0",
       "_model_name": "FloatProgressModel",
       "_view_count": null,
       "_view_module": "@jupyter-widgets/controls",
       "_view_module_version": "1.5.0",
       "_view_name": "ProgressView",
       "bar_style": "success",
       "description": "",
       "description_tooltip": null,
       "layout": "IPY_MODEL_ecd663b491824ab29d7cb9c1af26d007",
       "max": 29515.0,
       "min": 0.0,
       "orientation": "horizontal",
       "style": "IPY_MODEL_f7ea96bbe7aa4ab8905dc34ded175229",
       "value": 29515.0
      }
     },
     "cb28c3f094f440e18f54c80abdfa65a4": {
      "model_module": "@jupyter-widgets/base",
      "model_module_version": "1.2.0",
      "model_name": "LayoutModel",
      "state": {
       "_model_module": "@jupyter-widgets/base",
       "_model_module_version": "1.2.0",
       "_model_name": "LayoutModel",
       "_view_count": null,
       "_view_module": "@jupyter-widgets/base",
       "_view_module_version": "1.2.0",
       "_view_name": "LayoutView",
       "align_content": null,
       "align_items": null,
       "align_self": null,
       "border": null,
       "bottom": null,
       "display": null,
       "flex": null,
       "flex_flow": null,
       "grid_area": null,
       "grid_auto_columns": null,
       "grid_auto_flow": null,
       "grid_auto_rows": null,
       "grid_column": null,
       "grid_gap": null,
       "grid_row": null,
       "grid_template_areas": null,
       "grid_template_columns": null,
       "grid_template_rows": null,
       "height": null,
       "justify_content": null,
       "justify_items": null,
       "left": null,
       "margin": null,
       "max_height": null,
       "max_width": null,
       "min_height": null,
       "min_width": null,
       "object_fit": null,
       "object_position": null,
       "order": null,
       "overflow": null,
       "overflow_x": null,
       "overflow_y": null,
       "padding": null,
       "right": null,
       "top": null,
       "visibility": null,
       "width": null
      }
     },
     "cde2f3bfaa704613b3b525f7b62a7031": {
      "model_module": "@jupyter-widgets/base",
      "model_module_version": "1.2.0",
      "model_name": "LayoutModel",
      "state": {
       "_model_module": "@jupyter-widgets/base",
       "_model_module_version": "1.2.0",
       "_model_name": "LayoutModel",
       "_view_count": null,
       "_view_module": "@jupyter-widgets/base",
       "_view_module_version": "1.2.0",
       "_view_name": "LayoutView",
       "align_content": null,
       "align_items": null,
       "align_self": null,
       "border": null,
       "bottom": null,
       "display": null,
       "flex": null,
       "flex_flow": null,
       "grid_area": null,
       "grid_auto_columns": null,
       "grid_auto_flow": null,
       "grid_auto_rows": null,
       "grid_column": null,
       "grid_gap": null,
       "grid_row": null,
       "grid_template_areas": null,
       "grid_template_columns": null,
       "grid_template_rows": null,
       "height": null,
       "justify_content": null,
       "justify_items": null,
       "left": null,
       "margin": null,
       "max_height": null,
       "max_width": null,
       "min_height": null,
       "min_width": null,
       "object_fit": null,
       "object_position": null,
       "order": null,
       "overflow": null,
       "overflow_x": null,
       "overflow_y": null,
       "padding": null,
       "right": null,
       "top": null,
       "visibility": null,
       "width": null
      }
     },
     "db4777fe537346d5b6b24d8900420de7": {
      "model_module": "@jupyter-widgets/controls",
      "model_module_version": "1.5.0",
      "model_name": "HBoxModel",
      "state": {
       "_dom_classes": [],
       "_model_module": "@jupyter-widgets/controls",
       "_model_module_version": "1.5.0",
       "_model_name": "HBoxModel",
       "_view_count": null,
       "_view_module": "@jupyter-widgets/controls",
       "_view_module_version": "1.5.0",
       "_view_name": "HBoxView",
       "box_style": "",
       "children": [
        "IPY_MODEL_0ee018f2eec7464bb4d719659bf57b79",
        "IPY_MODEL_9e9092e8aa3e40c5923898feb1bbb951",
        "IPY_MODEL_51369f0707cb466fb81d74511e455dd5"
       ],
       "layout": "IPY_MODEL_96b9d145293040acb87af12d2a85bd41"
      }
     },
     "dfb7df236ccb43d98d737fdcb704a267": {
      "model_module": "@jupyter-widgets/controls",
      "model_module_version": "1.5.0",
      "model_name": "HTMLModel",
      "state": {
       "_dom_classes": [],
       "_model_module": "@jupyter-widgets/controls",
       "_model_module_version": "1.5.0",
       "_model_name": "HTMLModel",
       "_view_count": null,
       "_view_module": "@jupyter-widgets/controls",
       "_view_module_version": "1.5.0",
       "_view_name": "HTMLView",
       "description": "",
       "description_tooltip": null,
       "layout": "IPY_MODEL_f609938c852e4e5986ac1d0003f1e4b7",
       "placeholder": "​",
       "style": "IPY_MODEL_61a671391b574d44aee00d8abd4c71e9",
       "value": " 29696/? [00:00&lt;00:00, 49167.97it/s]"
      }
     },
     "e8fc43d04c6f45139a7876a443c5e11d": {
      "model_module": "@jupyter-widgets/controls",
      "model_module_version": "1.5.0",
      "model_name": "HTMLModel",
      "state": {
       "_dom_classes": [],
       "_model_module": "@jupyter-widgets/controls",
       "_model_module_version": "1.5.0",
       "_model_name": "HTMLModel",
       "_view_count": null,
       "_view_module": "@jupyter-widgets/controls",
       "_view_module_version": "1.5.0",
       "_view_name": "HTMLView",
       "description": "",
       "description_tooltip": null,
       "layout": "IPY_MODEL_0644b219f23749e0a50b4fc6753af83c",
       "placeholder": "​",
       "style": "IPY_MODEL_461daa23a0784e6e8302170f84f94d2e",
       "value": " 6144/? [00:00&lt;00:00, 223229.21it/s]"
      }
     },
     "eb81576cb3cc4a1187a62d6a5b249d33": {
      "model_module": "@jupyter-widgets/controls",
      "model_module_version": "1.5.0",
      "model_name": "HBoxModel",
      "state": {
       "_dom_classes": [],
       "_model_module": "@jupyter-widgets/controls",
       "_model_module_version": "1.5.0",
       "_model_name": "HBoxModel",
       "_view_count": null,
       "_view_module": "@jupyter-widgets/controls",
       "_view_module_version": "1.5.0",
       "_view_name": "HBoxView",
       "box_style": "",
       "children": [
        "IPY_MODEL_a1a419e82ba44f0c9594e222962c2dde",
        "IPY_MODEL_b93b0f868ac547bba6d4eab1cb778120",
        "IPY_MODEL_dfb7df236ccb43d98d737fdcb704a267"
       ],
       "layout": "IPY_MODEL_94f14cdb35aa48bd9411cfd304812ffd"
      }
     },
     "ecd663b491824ab29d7cb9c1af26d007": {
      "model_module": "@jupyter-widgets/base",
      "model_module_version": "1.2.0",
      "model_name": "LayoutModel",
      "state": {
       "_model_module": "@jupyter-widgets/base",
       "_model_module_version": "1.2.0",
       "_model_name": "LayoutModel",
       "_view_count": null,
       "_view_module": "@jupyter-widgets/base",
       "_view_module_version": "1.2.0",
       "_view_name": "LayoutView",
       "align_content": null,
       "align_items": null,
       "align_self": null,
       "border": null,
       "bottom": null,
       "display": null,
       "flex": null,
       "flex_flow": null,
       "grid_area": null,
       "grid_auto_columns": null,
       "grid_auto_flow": null,
       "grid_auto_rows": null,
       "grid_column": null,
       "grid_gap": null,
       "grid_row": null,
       "grid_template_areas": null,
       "grid_template_columns": null,
       "grid_template_rows": null,
       "height": null,
       "justify_content": null,
       "justify_items": null,
       "left": null,
       "margin": null,
       "max_height": null,
       "max_width": null,
       "min_height": null,
       "min_width": null,
       "object_fit": null,
       "object_position": null,
       "order": null,
       "overflow": null,
       "overflow_x": null,
       "overflow_y": null,
       "padding": null,
       "right": null,
       "top": null,
       "visibility": null,
       "width": null
      }
     },
     "f467918128b746e2afa4469060570b58": {
      "model_module": "@jupyter-widgets/controls",
      "model_module_version": "1.5.0",
      "model_name": "DescriptionStyleModel",
      "state": {
       "_model_module": "@jupyter-widgets/controls",
       "_model_module_version": "1.5.0",
       "_model_name": "DescriptionStyleModel",
       "_view_count": null,
       "_view_module": "@jupyter-widgets/base",
       "_view_module_version": "1.2.0",
       "_view_name": "StyleView",
       "description_width": ""
      }
     },
     "f609938c852e4e5986ac1d0003f1e4b7": {
      "model_module": "@jupyter-widgets/base",
      "model_module_version": "1.2.0",
      "model_name": "LayoutModel",
      "state": {
       "_model_module": "@jupyter-widgets/base",
       "_model_module_version": "1.2.0",
       "_model_name": "LayoutModel",
       "_view_count": null,
       "_view_module": "@jupyter-widgets/base",
       "_view_module_version": "1.2.0",
       "_view_name": "LayoutView",
       "align_content": null,
       "align_items": null,
       "align_self": null,
       "border": null,
       "bottom": null,
       "display": null,
       "flex": null,
       "flex_flow": null,
       "grid_area": null,
       "grid_auto_columns": null,
       "grid_auto_flow": null,
       "grid_auto_rows": null,
       "grid_column": null,
       "grid_gap": null,
       "grid_row": null,
       "grid_template_areas": null,
       "grid_template_columns": null,
       "grid_template_rows": null,
       "height": null,
       "justify_content": null,
       "justify_items": null,
       "left": null,
       "margin": null,
       "max_height": null,
       "max_width": null,
       "min_height": null,
       "min_width": null,
       "object_fit": null,
       "object_position": null,
       "order": null,
       "overflow": null,
       "overflow_x": null,
       "overflow_y": null,
       "padding": null,
       "right": null,
       "top": null,
       "visibility": null,
       "width": null
      }
     },
     "f7ea96bbe7aa4ab8905dc34ded175229": {
      "model_module": "@jupyter-widgets/controls",
      "model_module_version": "1.5.0",
      "model_name": "ProgressStyleModel",
      "state": {
       "_model_module": "@jupyter-widgets/controls",
       "_model_module_version": "1.5.0",
       "_model_name": "ProgressStyleModel",
       "_view_count": null,
       "_view_module": "@jupyter-widgets/base",
       "_view_module_version": "1.2.0",
       "_view_name": "StyleView",
       "bar_color": null,
       "description_width": ""
      }
     },
     "f86b076d46ba41c3ba792dcfa267d75c": {
      "model_module": "@jupyter-widgets/base",
      "model_module_version": "1.2.0",
      "model_name": "LayoutModel",
      "state": {
       "_model_module": "@jupyter-widgets/base",
       "_model_module_version": "1.2.0",
       "_model_name": "LayoutModel",
       "_view_count": null,
       "_view_module": "@jupyter-widgets/base",
       "_view_module_version": "1.2.0",
       "_view_name": "LayoutView",
       "align_content": null,
       "align_items": null,
       "align_self": null,
       "border": null,
       "bottom": null,
       "display": null,
       "flex": null,
       "flex_flow": null,
       "grid_area": null,
       "grid_auto_columns": null,
       "grid_auto_flow": null,
       "grid_auto_rows": null,
       "grid_column": null,
       "grid_gap": null,
       "grid_row": null,
       "grid_template_areas": null,
       "grid_template_columns": null,
       "grid_template_rows": null,
       "height": null,
       "justify_content": null,
       "justify_items": null,
       "left": null,
       "margin": null,
       "max_height": null,
       "max_width": null,
       "min_height": null,
       "min_width": null,
       "object_fit": null,
       "object_position": null,
       "order": null,
       "overflow": null,
       "overflow_x": null,
       "overflow_y": null,
       "padding": null,
       "right": null,
       "top": null,
       "visibility": null,
       "width": null
      }
     }
    },
    "version_major": 2,
    "version_minor": 0
   }
  }
 },
 "nbformat": 4,
 "nbformat_minor": 5
}
