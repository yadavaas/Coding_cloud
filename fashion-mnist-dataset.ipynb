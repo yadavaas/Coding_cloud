{
 "cells": [
  {
   "cell_type": "code",
   "execution_count": 1,
   "id": "c81eb668",
   "metadata": {
    "_cell_guid": "b1076dfc-b9ad-4769-8c92-a6c4dae69d19",
    "_uuid": "8f2839f25d086af736a60e9eeb907d3b93b6e0e5",
    "execution": {
     "iopub.execute_input": "2022-09-23T10:29:12.251946Z",
     "iopub.status.busy": "2022-09-23T10:29:12.250834Z",
     "iopub.status.idle": "2022-09-23T10:29:14.237886Z",
     "shell.execute_reply": "2022-09-23T10:29:14.236726Z"
    },
    "papermill": {
     "duration": 2.002485,
     "end_time": "2022-09-23T10:29:14.240960",
     "exception": false,
     "start_time": "2022-09-23T10:29:12.238475",
     "status": "completed"
    },
    "tags": []
   },
   "outputs": [],
   "source": [
    "import torch\n",
    "import torchvision\n",
    "from torchvision.datasets import FashionMNIST"
   ]
  },
  {
   "cell_type": "code",
   "execution_count": 2,
   "id": "7dd6747f",
   "metadata": {
    "execution": {
     "iopub.execute_input": "2022-09-23T10:29:14.260736Z",
     "iopub.status.busy": "2022-09-23T10:29:14.260140Z",
     "iopub.status.idle": "2022-09-23T10:29:44.998250Z",
     "shell.execute_reply": "2022-09-23T10:29:44.996724Z"
    },
    "papermill": {
     "duration": 30.751652,
     "end_time": "2022-09-23T10:29:45.001414",
     "exception": false,
     "start_time": "2022-09-23T10:29:14.249762",
     "status": "completed"
    },
    "tags": []
   },
   "outputs": [
    {
     "name": "stdout",
     "output_type": "stream",
     "text": [
      "Downloading http://fashion-mnist.s3-website.eu-central-1.amazonaws.com/train-images-idx3-ubyte.gz\n",
      "Downloading http://fashion-mnist.s3-website.eu-central-1.amazonaws.com/train-images-idx3-ubyte.gz to data/FashionMNIST/raw/train-images-idx3-ubyte.gz\n"
     ]
    },
    {
     "data": {
      "application/vnd.jupyter.widget-view+json": {
       "model_id": "7a847b32084a47878a2b31a9e40560fe",
       "version_major": 2,
       "version_minor": 0
      },
      "text/plain": [
       "  0%|          | 0/26421880 [00:00<?, ?it/s]"
      ]
     },
     "metadata": {},
     "output_type": "display_data"
    },
    {
     "name": "stdout",
     "output_type": "stream",
     "text": [
      "Extracting data/FashionMNIST/raw/train-images-idx3-ubyte.gz to data/FashionMNIST/raw\n",
      "\n",
      "Downloading http://fashion-mnist.s3-website.eu-central-1.amazonaws.com/train-labels-idx1-ubyte.gz\n",
      "Downloading http://fashion-mnist.s3-website.eu-central-1.amazonaws.com/train-labels-idx1-ubyte.gz to data/FashionMNIST/raw/train-labels-idx1-ubyte.gz\n"
     ]
    },
    {
     "data": {
      "application/vnd.jupyter.widget-view+json": {
       "model_id": "ed76cf1d98e94d379916e16586811546",
       "version_major": 2,
       "version_minor": 0
      },
      "text/plain": [
       "  0%|          | 0/29515 [00:00<?, ?it/s]"
      ]
     },
     "metadata": {},
     "output_type": "display_data"
    },
    {
     "name": "stdout",
     "output_type": "stream",
     "text": [
      "Extracting data/FashionMNIST/raw/train-labels-idx1-ubyte.gz to data/FashionMNIST/raw\n",
      "\n",
      "Downloading http://fashion-mnist.s3-website.eu-central-1.amazonaws.com/t10k-images-idx3-ubyte.gz\n",
      "Downloading http://fashion-mnist.s3-website.eu-central-1.amazonaws.com/t10k-images-idx3-ubyte.gz to data/FashionMNIST/raw/t10k-images-idx3-ubyte.gz\n"
     ]
    },
    {
     "data": {
      "application/vnd.jupyter.widget-view+json": {
       "model_id": "aa0425b5af894e518834073174f4d012",
       "version_major": 2,
       "version_minor": 0
      },
      "text/plain": [
       "  0%|          | 0/4422102 [00:00<?, ?it/s]"
      ]
     },
     "metadata": {},
     "output_type": "display_data"
    },
    {
     "name": "stdout",
     "output_type": "stream",
     "text": [
      "Extracting data/FashionMNIST/raw/t10k-images-idx3-ubyte.gz to data/FashionMNIST/raw\n",
      "\n",
      "Downloading http://fashion-mnist.s3-website.eu-central-1.amazonaws.com/t10k-labels-idx1-ubyte.gz\n",
      "Downloading http://fashion-mnist.s3-website.eu-central-1.amazonaws.com/t10k-labels-idx1-ubyte.gz to data/FashionMNIST/raw/t10k-labels-idx1-ubyte.gz\n"
     ]
    },
    {
     "data": {
      "application/vnd.jupyter.widget-view+json": {
       "model_id": "8aba8c1baccf48c991bd73667986f41e",
       "version_major": 2,
       "version_minor": 0
      },
      "text/plain": [
       "  0%|          | 0/5148 [00:00<?, ?it/s]"
      ]
     },
     "metadata": {},
     "output_type": "display_data"
    },
    {
     "name": "stdout",
     "output_type": "stream",
     "text": [
      "Extracting data/FashionMNIST/raw/t10k-labels-idx1-ubyte.gz to data/FashionMNIST/raw\n",
      "\n"
     ]
    }
   ],
   "source": [
    "# Download training dataset\n",
    "dataset = FashionMNIST(root='data/', download=True)"
   ]
  },
  {
   "cell_type": "code",
   "execution_count": 3,
   "id": "b550b6d4",
   "metadata": {
    "execution": {
     "iopub.execute_input": "2022-09-23T10:29:45.023447Z",
     "iopub.status.busy": "2022-09-23T10:29:45.022279Z",
     "iopub.status.idle": "2022-09-23T10:29:45.040309Z",
     "shell.execute_reply": "2022-09-23T10:29:45.038629Z"
    },
    "papermill": {
     "duration": 0.031825,
     "end_time": "2022-09-23T10:29:45.043150",
     "exception": false,
     "start_time": "2022-09-23T10:29:45.011325",
     "status": "completed"
    },
    "tags": []
   },
   "outputs": [],
   "source": [
    "# Download test dataset\n",
    "test_dataset = FashionMNIST(root='data/', train=False)"
   ]
  },
  {
   "cell_type": "code",
   "execution_count": 4,
   "id": "518a148a",
   "metadata": {
    "execution": {
     "iopub.execute_input": "2022-09-23T10:29:45.064403Z",
     "iopub.status.busy": "2022-09-23T10:29:45.063964Z",
     "iopub.status.idle": "2022-09-23T10:29:45.070176Z",
     "shell.execute_reply": "2022-09-23T10:29:45.068868Z"
    },
    "papermill": {
     "duration": 0.019978,
     "end_time": "2022-09-23T10:29:45.073079",
     "exception": false,
     "start_time": "2022-09-23T10:29:45.053101",
     "status": "completed"
    },
    "tags": []
   },
   "outputs": [
    {
     "name": "stdout",
     "output_type": "stream",
     "text": [
      "60000\n",
      "10000\n"
     ]
    }
   ],
   "source": [
    "print(len(dataset))\n",
    "print(len(test_dataset))"
   ]
  },
  {
   "cell_type": "code",
   "execution_count": 5,
   "id": "b9ff6b31",
   "metadata": {
    "execution": {
     "iopub.execute_input": "2022-09-23T10:29:45.095500Z",
     "iopub.status.busy": "2022-09-23T10:29:45.095026Z",
     "iopub.status.idle": "2022-09-23T10:29:45.102201Z",
     "shell.execute_reply": "2022-09-23T10:29:45.101007Z"
    },
    "papermill": {
     "duration": 0.020443,
     "end_time": "2022-09-23T10:29:45.104692",
     "exception": false,
     "start_time": "2022-09-23T10:29:45.084249",
     "status": "completed"
    },
    "tags": []
   },
   "outputs": [],
   "source": [
    "import matplotlib.pyplot as plt\n",
    "%matplotlib inline"
   ]
  },
  {
   "cell_type": "code",
   "execution_count": 6,
   "id": "8cb9a896",
   "metadata": {
    "execution": {
     "iopub.execute_input": "2022-09-23T10:29:45.126608Z",
     "iopub.status.busy": "2022-09-23T10:29:45.125318Z",
     "iopub.status.idle": "2022-09-23T10:29:45.135077Z",
     "shell.execute_reply": "2022-09-23T10:29:45.133920Z"
    },
    "papermill": {
     "duration": 0.022755,
     "end_time": "2022-09-23T10:29:45.137315",
     "exception": false,
     "start_time": "2022-09-23T10:29:45.114560",
     "status": "completed"
    },
    "tags": []
   },
   "outputs": [
    {
     "data": {
      "text/plain": [
       "(<PIL.Image.Image image mode=L size=28x28>, 9)"
      ]
     },
     "execution_count": 6,
     "metadata": {},
     "output_type": "execute_result"
    }
   ],
   "source": [
    "dataset[0]"
   ]
  },
  {
   "cell_type": "code",
   "execution_count": 7,
   "id": "3e25518b",
   "metadata": {
    "execution": {
     "iopub.execute_input": "2022-09-23T10:29:45.159249Z",
     "iopub.status.busy": "2022-09-23T10:29:45.158566Z",
     "iopub.status.idle": "2022-09-23T10:29:45.363697Z",
     "shell.execute_reply": "2022-09-23T10:29:45.362411Z"
    },
    "papermill": {
     "duration": 0.219328,
     "end_time": "2022-09-23T10:29:45.366219",
     "exception": false,
     "start_time": "2022-09-23T10:29:45.146891",
     "status": "completed"
    },
    "tags": []
   },
   "outputs": [
    {
     "name": "stdout",
     "output_type": "stream",
     "text": [
      "Label: 9\n"
     ]
    },
    {
     "data": {
      "image/png": "[encoded data removed]",
      "text/plain": [
       "<Figure size 432x288 with 1 Axes>"
      ]
     },
     "metadata": {
      "needs_background": "light"
     },
     "output_type": "display_data"
    }
   ],
   "source": [
    "image, label = dataset[0]\n",
    "plt.imshow(image, cmap='gray')\n",
    "print('Label:', label)"
   ]
  },
  {
   "cell_type": "code",
   "execution_count": 8,
   "id": "5d6095fe",
   "metadata": {
    "execution": {
     "iopub.execute_input": "2022-09-23T10:29:45.388969Z",
     "iopub.status.busy": "2022-09-23T10:29:45.388083Z",
     "iopub.status.idle": "2022-09-23T10:29:45.393840Z",
     "shell.execute_reply": "2022-09-23T10:29:45.392715Z"
    },
    "papermill": {
     "duration": 0.020106,
     "end_time": "2022-09-23T10:29:45.396404",
     "exception": false,
     "start_time": "2022-09-23T10:29:45.376298",
     "status": "completed"
    },
    "tags": []
   },
   "outputs": [],
   "source": [
    "import torchvision.transforms as transforms"
   ]
  },
  {
   "cell_type": "code",
   "execution_count": 9,
   "id": "5240b94e",
   "metadata": {
    "execution": {
     "iopub.execute_input": "2022-09-23T10:29:45.418688Z",
     "iopub.status.busy": "2022-09-23T10:29:45.417868Z",
     "iopub.status.idle": "2022-09-23T10:29:45.506290Z",
     "shell.execute_reply": "2022-09-23T10:29:45.505298Z"
    },
    "papermill": {
     "duration": 0.103014,
     "end_time": "2022-09-23T10:29:45.509390",
     "exception": false,
     "start_time": "2022-09-23T10:29:45.406376",
     "status": "completed"
    },
    "tags": []
   },
   "outputs": [],
   "source": [
    "# MNIST dataset (images and labels)\n",
    "dataset = FashionMNIST(root='data/', \n",
    "                train=True,\n",
    "                transform=transforms.ToTensor())"
   ]
  },
  {
   "cell_type": "code",
   "execution_count": 10,
   "id": "71d8b6f5",
   "metadata": {
    "execution": {
     "iopub.execute_input": "2022-09-23T10:29:45.531022Z",
     "iopub.status.busy": "2022-09-23T10:29:45.530625Z",
     "iopub.status.idle": "2022-09-23T10:29:45.537753Z",
     "shell.execute_reply": "2022-09-23T10:29:45.536429Z"
    },
    "papermill": {
     "duration": 0.021223,
     "end_time": "2022-09-23T10:29:45.540423",
     "exception": false,
     "start_time": "2022-09-23T10:29:45.519200",
     "status": "completed"
    },
    "tags": []
   },
   "outputs": [
    {
     "name": "stdout",
     "output_type": "stream",
     "text": [
      "torch.Size([1, 28, 28]) 9\n"
     ]
    }
   ],
   "source": [
    "img_tensor, label = dataset[0]\n",
    "print(img_tensor.shape, label)"
   ]
  },
  {
   "cell_type": "code",
   "execution_count": 11,
   "id": "6ed969a3",
   "metadata": {
    "execution": {
     "iopub.execute_input": "2022-09-23T10:29:45.562101Z",
     "iopub.status.busy": "2022-09-23T10:29:45.561649Z",
     "iopub.status.idle": "2022-09-23T10:29:45.578179Z",
     "shell.execute_reply": "2022-09-23T10:29:45.576416Z"
    },
    "papermill": {
     "duration": 0.030505,
     "end_time": "2022-09-23T10:29:45.580925",
     "exception": false,
     "start_time": "2022-09-23T10:29:45.550420",
     "status": "completed"
    },
    "tags": []
   },
   "outputs": [
    {
     "data": {
      "text/plain": [
       "(50000, 10000)"
      ]
     },
     "execution_count": 11,
     "metadata": {},
     "output_type": "execute_result"
    }
   ],
   "source": [
    "from torch.utils.data import random_split\n",
    "\n",
    "train_ds, val_ds = random_split(dataset, [50000, 10000])\n",
    "len(train_ds), len(val_ds)"
   ]
  },
  {
   "cell_type": "code",
   "execution_count": 12,
   "id": "df77a696",
   "metadata": {
    "execution": {
     "iopub.execute_input": "2022-09-23T10:29:45.603230Z",
     "iopub.status.busy": "2022-09-23T10:29:45.602287Z",
     "iopub.status.idle": "2022-09-23T10:29:45.609086Z",
     "shell.execute_reply": "2022-09-23T10:29:45.607726Z"
    },
    "papermill": {
     "duration": 0.020367,
     "end_time": "2022-09-23T10:29:45.611351",
     "exception": false,
     "start_time": "2022-09-23T10:29:45.590984",
     "status": "completed"
    },
    "tags": []
   },
   "outputs": [],
   "source": [
    "from torch.utils.data import DataLoader\n",
    "\n",
    "batch_size = 128\n",
    "\n",
    "train_loader = DataLoader(train_ds, batch_size, shuffle=True)\n",
    "val_loader = DataLoader(val_ds, batch_size)"
   ]
  },
  {
   "cell_type": "code",
   "execution_count": 13,
   "id": "d196537a",
   "metadata": {
    "execution": {
     "iopub.execute_input": "2022-09-23T10:29:45.633951Z",
     "iopub.status.busy": "2022-09-23T10:29:45.633505Z",
     "iopub.status.idle": "2022-09-23T10:29:45.638816Z",
     "shell.execute_reply": "2022-09-23T10:29:45.637574Z"
    },
    "papermill": {
     "duration": 0.019467,
     "end_time": "2022-09-23T10:29:45.641410",
     "exception": false,
     "start_time": "2022-09-23T10:29:45.621943",
     "status": "completed"
    },
    "tags": []
   },
   "outputs": [],
   "source": [
    "import torch.nn as nn\n",
    "\n",
    "input_size = 28*28\n",
    "num_classes = 10"
   ]
  },
  {
   "cell_type": "code",
   "execution_count": 14,
   "id": "9706288d",
   "metadata": {
    "execution": {
     "iopub.execute_input": "2022-09-23T10:29:45.663314Z",
     "iopub.status.busy": "2022-09-23T10:29:45.662870Z",
     "iopub.status.idle": "2022-09-23T10:29:45.667785Z",
     "shell.execute_reply": "2022-09-23T10:29:45.666896Z"
    },
    "papermill": {
     "duration": 0.018498,
     "end_time": "2022-09-23T10:29:45.670040",
     "exception": false,
     "start_time": "2022-09-23T10:29:45.651542",
     "status": "completed"
    },
    "tags": []
   },
   "outputs": [],
   "source": [
    "import torch.nn.functional as F"
   ]
  },
  {
   "cell_type": "code",
   "execution_count": 15,
   "id": "dcea1de7",
   "metadata": {
    "execution": {
     "iopub.execute_input": "2022-09-23T10:29:45.692246Z",
     "iopub.status.busy": "2022-09-23T10:29:45.691793Z",
     "iopub.status.idle": "2022-09-23T10:29:45.697644Z",
     "shell.execute_reply": "2022-09-23T10:29:45.696514Z"
    },
    "papermill": {
     "duration": 0.019469,
     "end_time": "2022-09-23T10:29:45.699822",
     "exception": false,
     "start_time": "2022-09-23T10:29:45.680353",
     "status": "completed"
    },
    "tags": []
   },
   "outputs": [],
   "source": [
    "def accuracy(outputs, labels):\n",
    "    _, preds = torch.max(outputs, dim=1)\n",
    "    return torch.tensor(torch.sum(preds == labels).item() / len(preds))"
   ]
  },
  {
   "cell_type": "code",
   "execution_count": 16,
   "id": "3cc27657",
   "metadata": {
    "execution": {
     "iopub.execute_input": "2022-09-23T10:29:45.721586Z",
     "iopub.status.busy": "2022-09-23T10:29:45.721105Z",
     "iopub.status.idle": "2022-09-23T10:29:45.728911Z",
     "shell.execute_reply": "2022-09-23T10:29:45.727780Z"
    },
    "papermill": {
     "duration": 0.021408,
     "end_time": "2022-09-23T10:29:45.731368",
     "exception": false,
     "start_time": "2022-09-23T10:29:45.709960",
     "status": "completed"
    },
    "tags": []
   },
   "outputs": [],
   "source": [
    "def fit(epochs, lr, model, train_loader, val_loader, opt_func=torch.optim.SGD):\n",
    "    optimizer = opt_func(model.parameters(), lr)\n",
    "    history = [] # for recording epoch-wise results\n",
    "    \n",
    "    for epoch in range(epochs):\n",
    "        \n",
    "        # Training Phase \n",
    "        for batch in train_loader:\n",
    "            loss = model.training_step(batch)\n",
    "            loss.backward()\n",
    "            optimizer.step()\n",
    "            optimizer.zero_grad()\n",
    "        \n",
    "        # Validation phase\n",
    "        result = evaluate(model, val_loader)\n",
    "        model.epoch_end(epoch, result)\n",
    "        history.append(result)\n",
    "\n",
    "    return history"
   ]
  },
  {
   "cell_type": "code",
   "execution_count": 17,
   "id": "2355ae68",
   "metadata": {
    "execution": {
     "iopub.execute_input": "2022-09-23T10:29:45.754108Z",
     "iopub.status.busy": "2022-09-23T10:29:45.753381Z",
     "iopub.status.idle": "2022-09-23T10:29:45.758995Z",
     "shell.execute_reply": "2022-09-23T10:29:45.758153Z"
    },
    "papermill": {
     "duration": 0.019557,
     "end_time": "2022-09-23T10:29:45.761244",
     "exception": false,
     "start_time": "2022-09-23T10:29:45.741687",
     "status": "completed"
    },
    "tags": []
   },
   "outputs": [],
   "source": [
    "def evaluate(model, val_loader):\n",
    "    outputs = [model.validation_step(batch) for batch in val_loader]\n",
    "    return model.validation_epoch_end(outputs)"
   ]
  },
  {
   "cell_type": "code",
   "execution_count": 18,
   "id": "0f9b9710",
   "metadata": {
    "execution": {
     "iopub.execute_input": "2022-09-23T10:29:45.783480Z",
     "iopub.status.busy": "2022-09-23T10:29:45.782794Z",
     "iopub.status.idle": "2022-09-23T10:29:45.799101Z",
     "shell.execute_reply": "2022-09-23T10:29:45.798066Z"
    },
    "papermill": {
     "duration": 0.030608,
     "end_time": "2022-09-23T10:29:45.801767",
     "exception": false,
     "start_time": "2022-09-23T10:29:45.771159",
     "status": "completed"
    },
    "tags": []
   },
   "outputs": [],
   "source": [
    "class MnistModel(nn.Module):\n",
    "    def __init__(self):\n",
    "        super().__init__()\n",
    "        self.linear = nn.Linear(input_size, num_classes)\n",
    "        \n",
    "    def forward(self, xb):\n",
    "        xb = xb.reshape(-1, 784)\n",
    "        out = self.linear(xb)\n",
    "        return out\n",
    "    \n",
    "    def training_step(self, batch):\n",
    "        images, labels = batch \n",
    "        out = self(images)                  # Generate predictions\n",
    "        loss = F.cross_entropy(out, labels) # Calculate loss\n",
    "        return loss\n",
    "    \n",
    "    def validation_step(self, batch):\n",
    "        images, labels = batch \n",
    "        out = self(images)                    # Generate predictions\n",
    "        loss = F.cross_entropy(out, labels)   # Calculate loss\n",
    "        acc = accuracy(out, labels)           # Calculate accuracy\n",
    "        return {'val_loss': loss, 'val_acc': acc}\n",
    "        \n",
    "    def validation_epoch_end(self, outputs):\n",
    "        batch_losses = [x['val_loss'] for x in outputs]\n",
    "        epoch_loss = torch.stack(batch_losses).mean()   # Combine losses\n",
    "        batch_accs = [x['val_acc'] for x in outputs]\n",
    "        epoch_acc = torch.stack(batch_accs).mean()      # Combine accuracies\n",
    "        return {'val_loss': epoch_loss.item(), 'val_acc': epoch_acc.item()}\n",
    "    \n",
    "    def epoch_end(self, epoch, result):\n",
    "        print(\"Epoch [{}], val_loss: {:.4f}, val_acc: {:.4f}\".format(epoch, result['val_loss'], result['val_acc']))\n",
    "    \n",
    "model = MnistModel()"
   ]
  },
  {
   "cell_type": "code",
   "execution_count": 19,
   "id": "48cb63f4",
   "metadata": {
    "execution": {
     "iopub.execute_input": "2022-09-23T10:29:45.823994Z",
     "iopub.status.busy": "2022-09-23T10:29:45.823309Z",
     "iopub.status.idle": "2022-09-23T10:30:16.906929Z",
     "shell.execute_reply": "2022-09-23T10:30:16.905289Z"
    },
    "papermill": {
     "duration": 31.103221,
     "end_time": "2022-09-23T10:30:16.915060",
     "exception": false,
     "start_time": "2022-09-23T10:29:45.811839",
     "status": "completed"
    },
    "tags": []
   },
   "outputs": [
    {
     "name": "stdout",
     "output_type": "stream",
     "text": [
      "Epoch [0], val_loss: 1.7227, val_acc: 0.6090\n",
      "Epoch [1], val_loss: 1.4343, val_acc: 0.6555\n",
      "Epoch [2], val_loss: 1.2677, val_acc: 0.6645\n",
      "Epoch [3], val_loss: 1.1604, val_acc: 0.6699\n",
      "Epoch [4], val_loss: 1.0854, val_acc: 0.6791\n"
     ]
    }
   ],
   "source": [
    "history1 = fit(5, 0.001, model, train_loader, val_loader)"
   ]
  },
  {
   "cell_type": "code",
   "execution_count": 20,
   "id": "d42e6e4e",
   "metadata": {
    "execution": {
     "iopub.execute_input": "2022-09-23T10:30:16.937309Z",
     "iopub.status.busy": "2022-09-23T10:30:16.936870Z",
     "iopub.status.idle": "2022-09-23T10:30:47.914625Z",
     "shell.execute_reply": "2022-09-23T10:30:47.913228Z"
    },
    "papermill": {
     "duration": 30.999027,
     "end_time": "2022-09-23T10:30:47.924202",
     "exception": false,
     "start_time": "2022-09-23T10:30:16.925175",
     "status": "completed"
    },
    "tags": []
   },
   "outputs": [
    {
     "name": "stdout",
     "output_type": "stream",
     "text": [
      "Epoch [0], val_loss: 1.0296, val_acc: 0.6880\n",
      "Epoch [1], val_loss: 0.9862, val_acc: 0.6931\n",
      "Epoch [2], val_loss: 0.9513, val_acc: 0.7017\n",
      "Epoch [3], val_loss: 0.9223, val_acc: 0.7110\n",
      "Epoch [4], val_loss: 0.8978, val_acc: 0.7172\n"
     ]
    }
   ],
   "source": [
    "history2 = fit(5, 0.001, model, train_loader, val_loader)"
   ]
  },
  {
   "cell_type": "code",
   "execution_count": 21,
   "id": "f0361f71",
   "metadata": {
    "execution": {
     "iopub.execute_input": "2022-09-23T10:30:47.947094Z",
     "iopub.status.busy": "2022-09-23T10:30:47.946675Z",
     "iopub.status.idle": "2022-09-23T10:31:18.892676Z",
     "shell.execute_reply": "2022-09-23T10:31:18.891128Z"
    },
    "papermill": {
     "duration": 30.968874,
     "end_time": "2022-09-23T10:31:18.903589",
     "exception": false,
     "start_time": "2022-09-23T10:30:47.934715",
     "status": "completed"
    },
    "tags": []
   },
   "outputs": [
    {
     "name": "stdout",
     "output_type": "stream",
     "text": [
      "Epoch [0], val_loss: 0.8767, val_acc: 0.7246\n",
      "Epoch [1], val_loss: 0.8583, val_acc: 0.7289\n",
      "Epoch [2], val_loss: 0.8419, val_acc: 0.7360\n",
      "Epoch [3], val_loss: 0.8274, val_acc: 0.7366\n",
      "Epoch [4], val_loss: 0.8141, val_acc: 0.7421\n"
     ]
    }
   ],
   "source": [
    "history3 = fit(5, 0.001, model, train_loader, val_loader)"
   ]
  },
  {
   "cell_type": "code",
   "execution_count": 22,
   "id": "914155b8",
   "metadata": {
    "execution": {
     "iopub.execute_input": "2022-09-23T10:31:18.926972Z",
     "iopub.status.busy": "2022-09-23T10:31:18.926544Z",
     "iopub.status.idle": "2022-09-23T10:31:50.082631Z",
     "shell.execute_reply": "2022-09-23T10:31:50.081368Z"
    },
    "papermill": {
     "duration": 31.182127,
     "end_time": "2022-09-23T10:31:50.096284",
     "exception": false,
     "start_time": "2022-09-23T10:31:18.914157",
     "status": "completed"
    },
    "tags": []
   },
   "outputs": [
    {
     "name": "stdout",
     "output_type": "stream",
     "text": [
      "Epoch [0], val_loss: 0.8021, val_acc: 0.7460\n",
      "Epoch [1], val_loss: 0.7912, val_acc: 0.7504\n",
      "Epoch [2], val_loss: 0.7810, val_acc: 0.7530\n",
      "Epoch [3], val_loss: 0.7717, val_acc: 0.7554\n",
      "Epoch [4], val_loss: 0.7629, val_acc: 0.7581\n"
     ]
    }
   ],
   "source": [
    "history4 = fit(5, 0.001, model, train_loader, val_loader)"
   ]
  },
  {
   "cell_type": "code",
   "execution_count": 23,
   "id": "2d7a4635",
   "metadata": {
    "execution": {
     "iopub.execute_input": "2022-09-23T10:31:50.122033Z",
     "iopub.status.busy": "2022-09-23T10:31:50.121602Z",
     "iopub.status.idle": "2022-09-23T10:32:21.179147Z",
     "shell.execute_reply": "2022-09-23T10:32:21.178209Z"
    },
    "papermill": {
     "duration": 31.083614,
     "end_time": "2022-09-23T10:32:21.192569",
     "exception": false,
     "start_time": "2022-09-23T10:31:50.108955",
     "status": "completed"
    },
    "tags": []
   },
   "outputs": [
    {
     "name": "stdout",
     "output_type": "stream",
     "text": [
      "Epoch [0], val_loss: 0.7549, val_acc: 0.7603\n",
      "Epoch [1], val_loss: 0.7473, val_acc: 0.7626\n",
      "Epoch [2], val_loss: 0.7402, val_acc: 0.7653\n",
      "Epoch [3], val_loss: 0.7337, val_acc: 0.7662\n",
      "Epoch [4], val_loss: 0.7272, val_acc: 0.7681\n"
     ]
    }
   ],
   "source": [
    "history5 = fit(5, 0.001, model, train_loader, val_loader)"
   ]
  },
  {
   "cell_type": "code",
   "execution_count": 24,
   "id": "c776b5ce",
   "metadata": {
    "execution": {
     "iopub.execute_input": "2022-09-23T10:32:21.218386Z",
     "iopub.status.busy": "2022-09-23T10:32:21.217860Z",
     "iopub.status.idle": "2022-09-23T10:32:51.980071Z",
     "shell.execute_reply": "2022-09-23T10:32:51.978790Z"
    },
    "papermill": {
     "duration": 30.789431,
     "end_time": "2022-09-23T10:32:51.993653",
     "exception": false,
     "start_time": "2022-09-23T10:32:21.204222",
     "status": "completed"
    },
    "tags": []
   },
   "outputs": [
    {
     "name": "stdout",
     "output_type": "stream",
     "text": [
      "Epoch [0], val_loss: 0.7213, val_acc: 0.7694\n",
      "Epoch [1], val_loss: 0.7157, val_acc: 0.7720\n",
      "Epoch [2], val_loss: 0.7103, val_acc: 0.7735\n",
      "Epoch [3], val_loss: 0.7052, val_acc: 0.7743\n",
      "Epoch [4], val_loss: 0.7003, val_acc: 0.7761\n"
     ]
    }
   ],
   "source": [
    "history6 = fit(5, 0.001, model, train_loader, val_loader)"
   ]
  },
  {
   "cell_type": "code",
   "execution_count": 25,
   "id": "fa79f055",
   "metadata": {
    "execution": {
     "iopub.execute_input": "2022-09-23T10:32:52.019275Z",
     "iopub.status.busy": "2022-09-23T10:32:52.018831Z",
     "iopub.status.idle": "2022-09-23T10:33:22.826577Z",
     "shell.execute_reply": "2022-09-23T10:33:22.825213Z"
    },
    "papermill": {
     "duration": 30.833057,
     "end_time": "2022-09-23T10:33:22.838622",
     "exception": false,
     "start_time": "2022-09-23T10:32:52.005565",
     "status": "completed"
    },
    "tags": []
   },
   "outputs": [
    {
     "name": "stdout",
     "output_type": "stream",
     "text": [
      "Epoch [0], val_loss: 0.6957, val_acc: 0.7777\n",
      "Epoch [1], val_loss: 0.6914, val_acc: 0.7780\n",
      "Epoch [2], val_loss: 0.6870, val_acc: 0.7793\n",
      "Epoch [3], val_loss: 0.6829, val_acc: 0.7811\n",
      "Epoch [4], val_loss: 0.6790, val_acc: 0.7824\n"
     ]
    }
   ],
   "source": [
    "history7 = fit(5, 0.001, model, train_loader, val_loader)"
   ]
  },
  {
   "cell_type": "code",
   "execution_count": 26,
   "id": "5299bb07",
   "metadata": {
    "execution": {
     "iopub.execute_input": "2022-09-23T10:33:22.864601Z",
     "iopub.status.busy": "2022-09-23T10:33:22.864153Z",
     "iopub.status.idle": "2022-09-23T10:33:23.039450Z",
     "shell.execute_reply": "2022-09-23T10:33:23.038203Z"
    },
    "papermill": {
     "duration": 0.191545,
     "end_time": "2022-09-23T10:33:23.042268",
     "exception": false,
     "start_time": "2022-09-23T10:33:22.850723",
     "status": "completed"
    },
    "tags": []
   },
   "outputs": [
    {
     "data": {
      "image/png": "[encoded data removed]",
      "text/plain": [
       "<Figure size 432x288 with 1 Axes>"
      ]
     },
     "metadata": {
      "needs_background": "light"
     },
     "output_type": "display_data"
    }
   ],
   "source": [
    "history =  history1 + history2 + history3 + history4 + history5 + history6 + history7 \n",
    "accuracies = [result['val_acc'] for result in history]\n",
    "plt.plot(accuracies, '-x')\n",
    "plt.xlabel('epoch')\n",
    "plt.ylabel('accuracy')\n",
    "plt.title('Accuracy vs. No. of epochs');"
   ]
  },
  {
   "cell_type": "code",
   "execution_count": 27,
   "id": "1ddb0a5b",
   "metadata": {
    "execution": {
     "iopub.execute_input": "2022-09-23T10:33:23.069284Z",
     "iopub.status.busy": "2022-09-23T10:33:23.068839Z",
     "iopub.status.idle": "2022-09-23T10:33:23.081801Z",
     "shell.execute_reply": "2022-09-23T10:33:23.080745Z"
    },
    "papermill": {
     "duration": 0.029385,
     "end_time": "2022-09-23T10:33:23.084298",
     "exception": false,
     "start_time": "2022-09-23T10:33:23.054913",
     "status": "completed"
    },
    "tags": []
   },
   "outputs": [],
   "source": [
    "# Define test dataset\n",
    "test_dataset = FashionMNIST(root='data/', \n",
    "                     train=False,\n",
    "                     transform=transforms.ToTensor())"
   ]
  },
  {
   "cell_type": "code",
   "execution_count": 28,
   "id": "cd570bbe",
   "metadata": {
    "execution": {
     "iopub.execute_input": "2022-09-23T10:33:23.114501Z",
     "iopub.status.busy": "2022-09-23T10:33:23.114057Z",
     "iopub.status.idle": "2022-09-23T10:33:24.082584Z",
     "shell.execute_reply": "2022-09-23T10:33:24.081273Z"
    },
    "papermill": {
     "duration": 0.98503,
     "end_time": "2022-09-23T10:33:24.084966",
     "exception": false,
     "start_time": "2022-09-23T10:33:23.099936",
     "status": "completed"
    },
    "tags": []
   },
   "outputs": [
    {
     "data": {
      "text/plain": [
       "{'val_loss': 0.6819130182266235, 'val_acc': 0.7743164300918579}"
      ]
     },
     "execution_count": 28,
     "metadata": {},
     "output_type": "execute_result"
    }
   ],
   "source": [
    "test_loader = DataLoader(test_dataset, batch_size=256)\n",
    "result = evaluate(model, test_loader)\n",
    "result"
   ]
  },
  {
   "cell_type": "code",
   "execution_count": 29,
   "id": "3ba72a32",
   "metadata": {
    "execution": {
     "iopub.execute_input": "2022-09-23T10:33:24.112716Z",
     "iopub.status.busy": "2022-09-23T10:33:24.111685Z",
     "iopub.status.idle": "2022-09-23T10:33:24.118459Z",
     "shell.execute_reply": "2022-09-23T10:33:24.117294Z"
    },
    "papermill": {
     "duration": 0.022904,
     "end_time": "2022-09-23T10:33:24.120673",
     "exception": false,
     "start_time": "2022-09-23T10:33:24.097769",
     "status": "completed"
    },
    "tags": []
   },
   "outputs": [],
   "source": [
    "def predict_image(img, model):\n",
    "    xb = img.unsqueeze(0)\n",
    "    yb = model(xb)\n",
    "    _, preds = torch.max(yb, dim=1)\n",
    "    return preds[0].item()"
   ]
  },
  {
   "cell_type": "code",
   "execution_count": 30,
   "id": "1a64c9e8",
   "metadata": {
    "execution": {
     "iopub.execute_input": "2022-09-23T10:33:24.147726Z",
     "iopub.status.busy": "2022-09-23T10:33:24.147268Z",
     "iopub.status.idle": "2022-09-23T10:33:24.298359Z",
     "shell.execute_reply": "2022-09-23T10:33:24.297282Z"
    },
    "papermill": {
     "duration": 0.168992,
     "end_time": "2022-09-23T10:33:24.302412",
     "exception": false,
     "start_time": "2022-09-23T10:33:24.133420",
     "status": "completed"
    },
    "tags": []
   },
   "outputs": [
    {
     "name": "stdout",
     "output_type": "stream",
     "text": [
      "Label: 9 , Predicted: 9\n"
     ]
    },
    {
     "data": {
      "image/png": "[encoded data removed]",
      "text/plain": [
       "<Figure size 432x288 with 1 Axes>"
      ]
     },
     "metadata": {
      "needs_background": "light"
     },
     "output_type": "display_data"
    }
   ],
   "source": [
    "img, label = test_dataset[0]\n",
    "plt.imshow(img[0], cmap='gray')\n",
    "print('Label:', label, ', Predicted:', predict_image(img, model))"
   ]
  },
  {
   "cell_type": "code",
   "execution_count": 31,
   "id": "4f1a74e8",
   "metadata": {
    "execution": {
     "iopub.execute_input": "2022-09-23T10:33:24.330159Z",
     "iopub.status.busy": "2022-09-23T10:33:24.329703Z",
     "iopub.status.idle": "2022-09-23T10:33:24.518277Z",
     "shell.execute_reply": "2022-09-23T10:33:24.517187Z"
    },
    "papermill": {
     "duration": 0.205167,
     "end_time": "2022-09-23T10:33:24.520845",
     "exception": false,
     "start_time": "2022-09-23T10:33:24.315678",
     "status": "completed"
    },
    "tags": []
   },
   "outputs": [
    {
     "name": "stdout",
     "output_type": "stream",
     "text": [
      "Label: 1 , Predicted: 1\n"
     ]
    },
    {
     "data": {
      "image/png": "[encoded data removed]",
      "text/plain": [
       "<Figure size 432x288 with 1 Axes>"
      ]
     },
     "metadata": {
      "needs_background": "light"
     },
     "output_type": "display_data"
    }
   ],
   "source": [
    "img, label = test_dataset[15]\n",
    "plt.imshow(img[0], cmap='gray')\n",
    "print('Label:', label, ', Predicted:', predict_image(img, model))"
   ]
  },
  {
   "cell_type": "code",
   "execution_count": 32,
   "id": "99b4c521",
   "metadata": {
    "execution": {
     "iopub.execute_input": "2022-09-23T10:33:24.548845Z",
     "iopub.status.busy": "2022-09-23T10:33:24.548415Z",
     "iopub.status.idle": "2022-09-23T10:33:24.737271Z",
     "shell.execute_reply": "2022-09-23T10:33:24.736266Z"
    },
    "papermill": {
     "duration": 0.206167,
     "end_time": "2022-09-23T10:33:24.740135",
     "exception": false,
     "start_time": "2022-09-23T10:33:24.533968",
     "status": "completed"
    },
    "tags": []
   },
   "outputs": [
    {
     "name": "stdout",
     "output_type": "stream",
     "text": [
      "Label: 8 , Predicted: 8\n"
     ]
    },
    {
     "data": {
      "image/png": "[encoded data removed]",
      "text/plain": [
       "<Figure size 432x288 with 1 Axes>"
      ]
     },
     "metadata": {
      "needs_background": "light"
     },
     "output_type": "display_data"
    }
   ],
   "source": [
    "img, label = test_dataset[9500]\n",
    "plt.imshow(img[0], cmap='gray')\n",
    "print('Label:', label, ', Predicted:', predict_image(img, model))"
   ]
  },
  {
   "cell_type": "code",
   "execution_count": 33,
   "id": "dcd4f5b3",
   "metadata": {
    "execution": {
     "iopub.execute_input": "2022-09-23T10:33:24.768895Z",
     "iopub.status.busy": "2022-09-23T10:33:24.767893Z",
     "iopub.status.idle": "2022-09-23T10:33:24.953070Z",
     "shell.execute_reply": "2022-09-23T10:33:24.951817Z"
    },
    "papermill": {
     "duration": 0.202118,
     "end_time": "2022-09-23T10:33:24.955670",
     "exception": false,
     "start_time": "2022-09-23T10:33:24.753552",
     "status": "completed"
    },
    "tags": []
   },
   "outputs": [
    {
     "name": "stdout",
     "output_type": "stream",
     "text": [
      "Label: 6 , Predicted: 2\n"
     ]
    },
    {
     "data": {
      "image/png": "[encoded data removed]",
      "text/plain": [
       "<Figure size 432x288 with 1 Axes>"
      ]
     },
     "metadata": {
      "needs_background": "light"
     },
     "output_type": "display_data"
    }
   ],
   "source": [
    "img, label = test_dataset[193]\n",
    "plt.imshow(img[0], cmap='gray')\n",
    "print('Label:', label, ', Predicted:', predict_image(img, model))"
   ]
  }
 ],
 "metadata": {
  "kernelspec": {
   "display_name": "Python 3",
   "language": "python",
   "name": "python3"
  },
  "language_info": {
   "codemirror_mode": {
    "name": "ipython",
    "version": 3
   },
   "file_extension": ".py",
   "mimetype": "text/x-python",
   "name": "python",
   "nbconvert_exporter": "python",
   "pygments_lexer": "ipython3",
   "version": "3.7.12"
  },
  "papermill": {
   "default_parameters": {},
   "duration": 262.773775,
   "end_time": "2022-09-23T10:33:25.894112",
   "environment_variables": {},
   "exception": null,
   "input_path": "__notebook__.ipynb",
   "output_path": "__notebook__.ipynb",
   "parameters": {},
   "start_time": "2022-09-23T10:29:03.120337",
   "version": "2.3.4"
  },
  "widgets": {
   "application/vnd.jupyter.widget-state+json": {
    "state": {
     "0b38aa49959648a597383d625aa0960b": {
      "model_module": "@jupyter-widgets/controls",
      "model_module_version": "1.5.0",
      "model_name": "HTMLModel",
      "state": {
       "_dom_classes": [],
       "_model_module": "@jupyter-widgets/controls",
       "_model_module_version": "1.5.0",
       "_model_name": "HTMLModel",
       "_view_count": null,
       "_view_module": "@jupyter-widgets/controls",
       "_view_module_version": "1.5.0",
       "_view_name": "HTMLView",
       "description": "",
       "description_tooltip": null,
       "layout": "IPY_MODEL_790851a4a95d4d59ac8eb1595760c995",
       "placeholder": "​",
       "style": "IPY_MODEL_a573f77825db4a938c6d159eb19a0e2c",
       "value": ""
      }
     },
     "0ed33c0d096d429f8f4abf601b442319": {
      "model_module": "@jupyter-widgets/controls",
      "model_module_version": "1.5.0",
      "model_name": "HTMLModel",
      "state": {
       "_dom_classes": [],
       "_model_module": "@jupyter-widgets/controls",
       "_model_module_version": "1.5.0",
       "_model_name": "HTMLModel",
       "_view_count": null,
       "_view_module": "@jupyter-widgets/controls",
       "_view_module_version": "1.5.0",
       "_view_name": "HTMLView",
       "description": "",
       "description_tooltip": null,
       "layout": "IPY_MODEL_6726b73cceb546fa8fec84026fdf6ea4",
       "placeholder": "​",
       "style": "IPY_MODEL_a5ffab86f03842f08131bd4b46591d26",
       "value": ""
      }
     },
     "103dd0232bcf4e7394045002558d33df": {
      "model_module": "@jupyter-widgets/controls",
      "model_module_version": "1.5.0",
      "model_name": "HTMLModel",
      "state": {
       "_dom_classes": [],
       "_model_module": "@jupyter-widgets/controls",
       "_model_module_version": "1.5.0",
       "_model_name": "HTMLModel",
       "_view_count": null,
       "_view_module": "@jupyter-widgets/controls",
       "_view_module_version": "1.5.0",
       "_view_name": "HTMLView",
       "description": "",
       "description_tooltip": null,
       "layout": "IPY_MODEL_f6dc358bff214f16bbb8d3c1d96c96fd",
       "placeholder": "​",
       "style": "IPY_MODEL_56bec3b2359242a394b460a79448906a",
       "value": ""
      }
     },
     "121144dc116944189ee9a10d2fc054e6": {
      "model_module": "@jupyter-widgets/controls",
      "model_module_version": "1.5.0",
      "model_name": "ProgressStyleModel",
      "state": {
       "_model_module": "@jupyter-widgets/controls",
       "_model_module_version": "1.5.0",
       "_model_name": "ProgressStyleModel",
       "_view_count": null,
       "_view_module": "@jupyter-widgets/base",
       "_view_module_version": "1.2.0",
       "_view_name": "StyleView",
       "bar_color": null,
       "description_width": ""
      }
     },
     "18ea4c26674f4c5dbb7971d76bdd1ec4": {
      "model_module": "@jupyter-widgets/controls",
      "model_module_version": "1.5.0",
      "model_name": "HTMLModel",
      "state": {
       "_dom_classes": [],
       "_model_module": "@jupyter-widgets/controls",
       "_model_module_version": "1.5.0",
       "_model_name": "HTMLModel",
       "_view_count": null,
       "_view_module": "@jupyter-widgets/controls",
       "_view_module_version": "1.5.0",
       "_view_name": "HTMLView",
       "description": "",
       "description_tooltip": null,
       "layout": "IPY_MODEL_42f76b15aaf441c4adc4bf9fa9844108",
       "placeholder": "​",
       "style": "IPY_MODEL_cb3c9005ecf8497bba6a7eada229ac94",
       "value": " 29696/? [00:00&lt;00:00, 57672.52it/s]"
      }
     },
     "1904e7cf5647474fa54e78e85049f45b": {
      "model_module": "@jupyter-widgets/base",
      "model_module_version": "1.2.0",
      "model_name": "LayoutModel",
      "state": {
       "_model_module": "@jupyter-widgets/base",
       "_model_module_version": "1.2.0",
       "_model_name": "LayoutModel",
       "_view_count": null,
       "_view_module": "@jupyter-widgets/base",
       "_view_module_version": "1.2.0",
       "_view_name": "LayoutView",
       "align_content": null,
       "align_items": null,
       "align_self": null,
       "border": null,
       "bottom": null,
       "display": null,
       "flex": null,
       "flex_flow": null,
       "grid_area": null,
       "grid_auto_columns": null,
       "grid_auto_flow": null,
       "grid_auto_rows": null,
       "grid_column": null,
       "grid_gap": null,
       "grid_row": null,
       "grid_template_areas": null,
       "grid_template_columns": null,
       "grid_template_rows": null,
       "height": null,
       "justify_content": null,
       "justify_items": null,
       "left": null,
       "margin": null,
       "max_height": null,
       "max_width": null,
       "min_height": null,
       "min_width": null,
       "object_fit": null,
       "object_position": null,
       "order": null,
       "overflow": null,
       "overflow_x": null,
       "overflow_y": null,
       "padding": null,
       "right": null,
       "top": null,
       "visibility": null,
       "width": null
      }
     },
     "200f9bba92884e8f8b9f3b70529663ed": {
      "model_module": "@jupyter-widgets/controls",
      "model_module_version": "1.5.0",
      "model_name": "HTMLModel",
      "state": {
       "_dom_classes": [],
       "_model_module": "@jupyter-widgets/controls",
       "_model_module_version": "1.5.0",
       "_model_name": "HTMLModel",
       "_view_count": null,
       "_view_module": "@jupyter-widgets/controls",
       "_view_module_version": "1.5.0",
       "_view_name": "HTMLView",
       "description": "",
       "description_tooltip": null,
       "layout": "IPY_MODEL_5fbb0c7a88964fbe99282a6f54f35876",
       "placeholder": "​",
       "style": "IPY_MODEL_b98fe263ada84e408acca21ae3c54dfe",
       "value": " 6144/? [00:00&lt;00:00, 218133.06it/s]"
      }
     },
     "42f76b15aaf441c4adc4bf9fa9844108": {
      "model_module": "@jupyter-widgets/base",
      "model_module_version": "1.2.0",
      "model_name": "LayoutModel",
      "state": {
       "_model_module": "@jupyter-widgets/base",
       "_model_module_version": "1.2.0",
       "_model_name": "LayoutModel",
       "_view_count": null,
       "_view_module": "@jupyter-widgets/base",
       "_view_module_version": "1.2.0",
       "_view_name": "LayoutView",
       "align_content": null,
       "align_items": null,
       "align_self": null,
       "border": null,
       "bottom": null,
       "display": null,
       "flex": null,
       "flex_flow": null,
       "grid_area": null,
       "grid_auto_columns": null,
       "grid_auto_flow": null,
       "grid_auto_rows": null,
       "grid_column": null,
       "grid_gap": null,
       "grid_row": null,
       "grid_template_areas": null,
       "grid_template_columns": null,
       "grid_template_rows": null,
       "height": null,
       "justify_content": null,
       "justify_items": null,
       "left": null,
       "margin": null,
       "max_height": null,
       "max_width": null,
       "min_height": null,
       "min_width": null,
       "object_fit": null,
       "object_position": null,
       "order": null,
       "overflow": null,
       "overflow_x": null,
       "overflow_y": null,
       "padding": null,
       "right": null,
       "top": null,
       "visibility": null,
       "width": null
      }
     },
     "43baafe298954b13a73f0b641acfd1d2": {
      "model_module": "@jupyter-widgets/controls",
      "model_module_version": "1.5.0",
      "model_name": "DescriptionStyleModel",
      "state": {
       "_model_module": "@jupyter-widgets/controls",
       "_model_module_version": "1.5.0",
       "_model_name": "DescriptionStyleModel",
       "_view_count": null,
       "_view_module": "@jupyter-widgets/base",
       "_view_module_version": "1.2.0",
       "_view_name": "StyleView",
       "description_width": ""
      }
     },
     "56bec3b2359242a394b460a79448906a": {
      "model_module": "@jupyter-widgets/controls",
      "model_module_version": "1.5.0",
      "model_name": "DescriptionStyleModel",
      "state": {
       "_model_module": "@jupyter-widgets/controls",
       "_model_module_version": "1.5.0",
       "_model_name": "DescriptionStyleModel",
       "_view_count": null,
       "_view_module": "@jupyter-widgets/base",
       "_view_module_version": "1.2.0",
       "_view_name": "StyleView",
       "description_width": ""
      }
     },
     "58253e6ac6434e438417b49735020227": {
      "model_module": "@jupyter-widgets/controls",
      "model_module_version": "1.5.0",
      "model_name": "FloatProgressModel",
      "state": {
       "_dom_classes": [],
       "_model_module": "@jupyter-widgets/controls",
       "_model_module_version": "1.5.0",
       "_model_name": "FloatProgressModel",
       "_view_count": null,
       "_view_module": "@jupyter-widgets/controls",
       "_view_module_version": "1.5.0",
       "_view_name": "ProgressView",
       "bar_style": "success",
       "description": "",
       "description_tooltip": null,
       "layout": "IPY_MODEL_d8dd6638d6274974b4a1159987d6484d",
       "max": 29515.0,
       "min": 0.0,
       "orientation": "horizontal",
       "style": "IPY_MODEL_89db3e22d7a940f2bb5fd025aacfed64",
       "value": 29515.0
      }
     },
     "5fbb0c7a88964fbe99282a6f54f35876": {
      "model_module": "@jupyter-widgets/base",
      "model_module_version": "1.2.0",
      "model_name": "LayoutModel",
      "state": {
       "_model_module": "@jupyter-widgets/base",
       "_model_module_version": "1.2.0",
       "_model_name": "LayoutModel",
       "_view_count": null,
       "_view_module": "@jupyter-widgets/base",
       "_view_module_version": "1.2.0",
       "_view_name": "LayoutView",
       "align_content": null,
       "align_items": null,
       "align_self": null,
       "border": null,
       "bottom": null,
       "display": null,
       "flex": null,
       "flex_flow": null,
       "grid_area": null,
       "grid_auto_columns": null,
       "grid_auto_flow": null,
       "grid_auto_rows": null,
       "grid_column": null,
       "grid_gap": null,
       "grid_row": null,
       "grid_template_areas": null,
       "grid_template_columns": null,
       "grid_template_rows": null,
       "height": null,
       "justify_content": null,
       "justify_items": null,
       "left": null,
       "margin": null,
       "max_height": null,
       "max_width": null,
       "min_height": null,
       "min_width": null,
       "object_fit": null,
       "object_position": null,
       "order": null,
       "overflow": null,
       "overflow_x": null,
       "overflow_y": null,
       "padding": null,
       "right": null,
       "top": null,
       "visibility": null,
       "width": null
      }
     },
     "6135be82d41a412482445dec36e8fbec": {
      "model_module": "@jupyter-widgets/base",
      "model_module_version": "1.2.0",
      "model_name": "LayoutModel",
      "state": {
       "_model_module": "@jupyter-widgets/base",
       "_model_module_version": "1.2.0",
       "_model_name": "LayoutModel",
       "_view_count": null,
       "_view_module": "@jupyter-widgets/base",
       "_view_module_version": "1.2.0",
       "_view_name": "LayoutView",
       "align_content": null,
       "align_items": null,
       "align_self": null,
       "border": null,
       "bottom": null,
       "display": null,
       "flex": null,
       "flex_flow": null,
       "grid_area": null,
       "grid_auto_columns": null,
       "grid_auto_flow": null,
       "grid_auto_rows": null,
       "grid_column": null,
       "grid_gap": null,
       "grid_row": null,
       "grid_template_areas": null,
       "grid_template_columns": null,
       "grid_template_rows": null,
       "height": null,
       "justify_content": null,
       "justify_items": null,
       "left": null,
       "margin": null,
       "max_height": null,
       "max_width": null,
       "min_height": null,
       "min_width": null,
       "object_fit": null,
       "object_position": null,
       "order": null,
       "overflow": null,
       "overflow_x": null,
       "overflow_y": null,
       "padding": null,
       "right": null,
       "top": null,
       "visibility": null,
       "width": null
      }
     },
     "63a040afeb8d4ed889acdcc2f4908d66": {
      "model_module": "@jupyter-widgets/controls",
      "model_module_version": "1.5.0",
      "model_name": "FloatProgressModel",
      "state": {
       "_dom_classes": [],
       "_model_module": "@jupyter-widgets/controls",
       "_model_module_version": "1.5.0",
       "_model_name": "FloatProgressModel",
       "_view_count": null,
       "_view_module": "@jupyter-widgets/controls",
       "_view_module_version": "1.5.0",
       "_view_name": "ProgressView",
       "bar_style": "success",
       "description": "",
       "description_tooltip": null,
       "layout": "IPY_MODEL_bd5e498f48b64fcbb270afd8ac70388f",
       "max": 5148.0,
       "min": 0.0,
       "orientation": "horizontal",
       "style": "IPY_MODEL_cddf5ca7fb70424a803708f9148a3236",
       "value": 5148.0
      }
     },
     "6726b73cceb546fa8fec84026fdf6ea4": {
      "model_module": "@jupyter-widgets/base",
      "model_module_version": "1.2.0",
      "model_name": "LayoutModel",
      "state": {
       "_model_module": "@jupyter-widgets/base",
       "_model_module_version": "1.2.0",
       "_model_name": "LayoutModel",
       "_view_count": null,
       "_view_module": "@jupyter-widgets/base",
       "_view_module_version": "1.2.0",
       "_view_name": "LayoutView",
       "align_content": null,
       "align_items": null,
       "align_self": null,
       "border": null,
       "bottom": null,
       "display": null,
       "flex": null,
       "flex_flow": null,
       "grid_area": null,
       "grid_auto_columns": null,
       "grid_auto_flow": null,
       "grid_auto_rows": null,
       "grid_column": null,
       "grid_gap": null,
       "grid_row": null,
       "grid_template_areas": null,
       "grid_template_columns": null,
       "grid_template_rows": null,
       "height": null,
       "justify_content": null,
       "justify_items": null,
       "left": null,
       "margin": null,
       "max_height": null,
       "max_width": null,
       "min_height": null,
       "min_width": null,
       "object_fit": null,
       "object_position": null,
       "order": null,
       "overflow": null,
       "overflow_x": null,
       "overflow_y": null,
       "padding": null,
       "right": null,
       "top": null,
       "visibility": null,
       "width": null
      }
     },
     "71408589a4cd45378c7ebab3c6ad645f": {
      "model_module": "@jupyter-widgets/base",
      "model_module_version": "1.2.0",
      "model_name": "LayoutModel",
      "state": {
       "_model_module": "@jupyter-widgets/base",
       "_model_module_version": "1.2.0",
       "_model_name": "LayoutModel",
       "_view_count": null,
       "_view_module": "@jupyter-widgets/base",
       "_view_module_version": "1.2.0",
       "_view_name": "LayoutView",
       "align_content": null,
       "align_items": null,
       "align_self": null,
       "border": null,
       "bottom": null,
       "display": null,
       "flex": null,
       "flex_flow": null,
       "grid_area": null,
       "grid_auto_columns": null,
       "grid_auto_flow": null,
       "grid_auto_rows": null,
       "grid_column": null,
       "grid_gap": null,
       "grid_row": null,
       "grid_template_areas": null,
       "grid_template_columns": null,
       "grid_template_rows": null,
       "height": null,
       "justify_content": null,
       "justify_items": null,
       "left": null,
       "margin": null,
       "max_height": null,
       "max_width": null,
       "min_height": null,
       "min_width": null,
       "object_fit": null,
       "object_position": null,
       "order": null,
       "overflow": null,
       "overflow_x": null,
       "overflow_y": null,
       "padding": null,
       "right": null,
       "top": null,
       "visibility": null,
       "width": null
      }
     },
     "75cabdcd0f34446baede6b7d3fc33492": {
      "model_module": "@jupyter-widgets/controls",
      "model_module_version": "1.5.0",
      "model_name": "DescriptionStyleModel",
      "state": {
       "_model_module": "@jupyter-widgets/controls",
       "_model_module_version": "1.5.0",
       "_model_name": "DescriptionStyleModel",
       "_view_count": null,
       "_view_module": "@jupyter-widgets/base",
       "_view_module_version": "1.2.0",
       "_view_name": "StyleView",
       "description_width": ""
      }
     },
     "790851a4a95d4d59ac8eb1595760c995": {
      "model_module": "@jupyter-widgets/base",
      "model_module_version": "1.2.0",
      "model_name": "LayoutModel",
      "state": {
       "_model_module": "@jupyter-widgets/base",
       "_model_module_version": "1.2.0",
       "_model_name": "LayoutModel",
       "_view_count": null,
       "_view_module": "@jupyter-widgets/base",
       "_view_module_version": "1.2.0",
       "_view_name": "LayoutView",
       "align_content": null,
       "align_items": null,
       "align_self": null,
       "border": null,
       "bottom": null,
       "display": null,
       "flex": null,
       "flex_flow": null,
       "grid_area": null,
       "grid_auto_columns": null,
       "grid_auto_flow": null,
       "grid_auto_rows": null,
       "grid_column": null,
       "grid_gap": null,
       "grid_row": null,
       "grid_template_areas": null,
       "grid_template_columns": null,
       "grid_template_rows": null,
       "height": null,
       "justify_content": null,
       "justify_items": null,
       "left": null,
       "margin": null,
       "max_height": null,
       "max_width": null,
       "min_height": null,
       "min_width": null,
       "object_fit": null,
       "object_position": null,
       "order": null,
       "overflow": null,
       "overflow_x": null,
       "overflow_y": null,
       "padding": null,
       "right": null,
       "top": null,
       "visibility": null,
       "width": null
      }
     },
     "7913529b3c3e418e9928cc1df7956138": {
      "model_module": "@jupyter-widgets/base",
      "model_module_version": "1.2.0",
      "model_name": "LayoutModel",
      "state": {
       "_model_module": "@jupyter-widgets/base",
       "_model_module_version": "1.2.0",
       "_model_name": "LayoutModel",
       "_view_count": null,
       "_view_module": "@jupyter-widgets/base",
       "_view_module_version": "1.2.0",
       "_view_name": "LayoutView",
       "align_content": null,
       "align_items": null,
       "align_self": null,
       "border": null,
       "bottom": null,
       "display": null,
       "flex": null,
       "flex_flow": null,
       "grid_area": null,
       "grid_auto_columns": null,
       "grid_auto_flow": null,
       "grid_auto_rows": null,
       "grid_column": null,
       "grid_gap": null,
       "grid_row": null,
       "grid_template_areas": null,
       "grid_template_columns": null,
       "grid_template_rows": null,
       "height": null,
       "justify_content": null,
       "justify_items": null,
       "left": null,
       "margin": null,
       "max_height": null,
       "max_width": null,
       "min_height": null,
       "min_width": null,
       "object_fit": null,
       "object_position": null,
       "order": null,
       "overflow": null,
       "overflow_x": null,
       "overflow_y": null,
       "padding": null,
       "right": null,
       "top": null,
       "visibility": null,
       "width": null
      }
     },
     "79bbb9f357924e9db7ac0fb65b84269e": {
      "model_module": "@jupyter-widgets/base",
      "model_module_version": "1.2.0",
      "model_name": "LayoutModel",
      "state": {
       "_model_module": "@jupyter-widgets/base",
       "_model_module_version": "1.2.0",
       "_model_name": "LayoutModel",
       "_view_count": null,
       "_view_module": "@jupyter-widgets/base",
       "_view_module_version": "1.2.0",
       "_view_name": "LayoutView",
       "align_content": null,
       "align_items": null,
       "align_self": null,
       "border": null,
       "bottom": null,
       "display": null,
       "flex": null,
       "flex_flow": null,
       "grid_area": null,
       "grid_auto_columns": null,
       "grid_auto_flow": null,
       "grid_auto_rows": null,
       "grid_column": null,
       "grid_gap": null,
       "grid_row": null,
       "grid_template_areas": null,
       "grid_template_columns": null,
       "grid_template_rows": null,
       "height": null,
       "justify_content": null,
       "justify_items": null,
       "left": null,
       "margin": null,
       "max_height": null,
       "max_width": null,
       "min_height": null,
       "min_width": null,
       "object_fit": null,
       "object_position": null,
       "order": null,
       "overflow": null,
       "overflow_x": null,
       "overflow_y": null,
       "padding": null,
       "right": null,
       "top": null,
       "visibility": null,
       "width": null
      }
     },
     "7a847b32084a47878a2b31a9e40560fe": {
      "model_module": "@jupyter-widgets/controls",
      "model_module_version": "1.5.0",
      "model_name": "HBoxModel",
      "state": {
       "_dom_classes": [],
       "_model_module": "@jupyter-widgets/controls",
       "_model_module_version": "1.5.0",
       "_model_name": "HBoxModel",
       "_view_count": null,
       "_view_module": "@jupyter-widgets/controls",
       "_view_module_version": "1.5.0",
       "_view_name": "HBoxView",
       "box_style": "",
       "children": [
        "IPY_MODEL_f392a49a29144c958b9193527f62d040",
        "IPY_MODEL_9b2012d99f68404ea39faaed79820dea",
        "IPY_MODEL_9675fc0df31c4d3694d3998b3f562659"
       ],
       "layout": "IPY_MODEL_6135be82d41a412482445dec36e8fbec"
      }
     },
     "81b3ca0eb9de401196f82655822c7c0a": {
      "model_module": "@jupyter-widgets/base",
      "model_module_version": "1.2.0",
      "model_name": "LayoutModel",
      "state": {
       "_model_module": "@jupyter-widgets/base",
       "_model_module_version": "1.2.0",
       "_model_name": "LayoutModel",
       "_view_count": null,
       "_view_module": "@jupyter-widgets/base",
       "_view_module_version": "1.2.0",
       "_view_name": "LayoutView",
       "align_content": null,
       "align_items": null,
       "align_self": null,
       "border": null,
       "bottom": null,
       "display": null,
       "flex": null,
       "flex_flow": null,
       "grid_area": null,
       "grid_auto_columns": null,
       "grid_auto_flow": null,
       "grid_auto_rows": null,
       "grid_column": null,
       "grid_gap": null,
       "grid_row": null,
       "grid_template_areas": null,
       "grid_template_columns": null,
       "grid_template_rows": null,
       "height": null,
       "justify_content": null,
       "justify_items": null,
       "left": null,
       "margin": null,
       "max_height": null,
       "max_width": null,
       "min_height": null,
       "min_width": null,
       "object_fit": null,
       "object_position": null,
       "order": null,
       "overflow": null,
       "overflow_x": null,
       "overflow_y": null,
       "padding": null,
       "right": null,
       "top": null,
       "visibility": null,
       "width": null
      }
     },
     "89db3e22d7a940f2bb5fd025aacfed64": {
      "model_module": "@jupyter-widgets/controls",
      "model_module_version": "1.5.0",
      "model_name": "ProgressStyleModel",
      "state": {
       "_model_module": "@jupyter-widgets/controls",
       "_model_module_version": "1.5.0",
       "_model_name": "ProgressStyleModel",
       "_view_count": null,
       "_view_module": "@jupyter-widgets/base",
       "_view_module_version": "1.2.0",
       "_view_name": "StyleView",
       "bar_color": null,
       "description_width": ""
      }
     },
     "8aba8c1baccf48c991bd73667986f41e": {
      "model_module": "@jupyter-widgets/controls",
      "model_module_version": "1.5.0",
      "model_name": "HBoxModel",
      "state": {
       "_dom_classes": [],
       "_model_module": "@jupyter-widgets/controls",
       "_model_module_version": "1.5.0",
       "_model_name": "HBoxModel",
       "_view_count": null,
       "_view_module": "@jupyter-widgets/controls",
       "_view_module_version": "1.5.0",
       "_view_name": "HBoxView",
       "box_style": "",
       "children": [
        "IPY_MODEL_103dd0232bcf4e7394045002558d33df",
        "IPY_MODEL_63a040afeb8d4ed889acdcc2f4908d66",
        "IPY_MODEL_200f9bba92884e8f8b9f3b70529663ed"
       ],
       "layout": "IPY_MODEL_7913529b3c3e418e9928cc1df7956138"
      }
     },
     "9675fc0df31c4d3694d3998b3f562659": {
      "model_module": "@jupyter-widgets/controls",
      "model_module_version": "1.5.0",
      "model_name": "HTMLModel",
      "state": {
       "_dom_classes": [],
       "_model_module": "@jupyter-widgets/controls",
       "_model_module_version": "1.5.0",
       "_model_name": "HTMLModel",
       "_view_count": null,
       "_view_module": "@jupyter-widgets/controls",
       "_view_module_version": "1.5.0",
       "_view_name": "HTMLView",
       "description": "",
       "description_tooltip": null,
       "layout": "IPY_MODEL_e9fb72979d2944e1b76a7fd55a06a958",
       "placeholder": "​",
       "style": "IPY_MODEL_c9c6b6c97cf94aec9451fce5e5a007c4",
       "value": " 26422272/? [00:14&lt;00:00, 6096040.78it/s]"
      }
     },
     "9b2012d99f68404ea39faaed79820dea": {
      "model_module": "@jupyter-widgets/controls",
      "model_module_version": "1.5.0",
      "model_name": "FloatProgressModel",
      "state": {
       "_dom_classes": [],
       "_model_module": "@jupyter-widgets/controls",
       "_model_module_version": "1.5.0",
       "_model_name": "FloatProgressModel",
       "_view_count": null,
       "_view_module": "@jupyter-widgets/controls",
       "_view_module_version": "1.5.0",
       "_view_name": "ProgressView",
       "bar_style": "success",
       "description": "",
       "description_tooltip": null,
       "layout": "IPY_MODEL_f7ac13cac6c742bd8ef1a12c87370b03",
       "max": 26421880.0,
       "min": 0.0,
       "orientation": "horizontal",
       "style": "IPY_MODEL_fabb9735ad564bf2922dec2a4111adc9",
       "value": 26421880.0
      }
     },
     "a573f77825db4a938c6d159eb19a0e2c": {
      "model_module": "@jupyter-widgets/controls",
      "model_module_version": "1.5.0",
      "model_name": "DescriptionStyleModel",
      "state": {
       "_model_module": "@jupyter-widgets/controls",
       "_model_module_version": "1.5.0",
       "_model_name": "DescriptionStyleModel",
       "_view_count": null,
       "_view_module": "@jupyter-widgets/base",
       "_view_module_version": "1.2.0",
       "_view_name": "StyleView",
       "description_width": ""
      }
     },
     "a5ffab86f03842f08131bd4b46591d26": {
      "model_module": "@jupyter-widgets/controls",
      "model_module_version": "1.5.0",
      "model_name": "DescriptionStyleModel",
      "state": {
       "_model_module": "@jupyter-widgets/controls",
       "_model_module_version": "1.5.0",
       "_model_name": "DescriptionStyleModel",
       "_view_count": null,
       "_view_module": "@jupyter-widgets/base",
       "_view_module_version": "1.2.0",
       "_view_name": "StyleView",
       "description_width": ""
      }
     },
     "aa0425b5af894e518834073174f4d012": {
      "model_module": "@jupyter-widgets/controls",
      "model_module_version": "1.5.0",
      "model_name": "HBoxModel",
      "state": {
       "_dom_classes": [],
       "_model_module": "@jupyter-widgets/controls",
       "_model_module_version": "1.5.0",
       "_model_name": "HBoxModel",
       "_view_count": null,
       "_view_module": "@jupyter-widgets/controls",
       "_view_module_version": "1.5.0",
       "_view_name": "HBoxView",
       "box_style": "",
       "children": [
        "IPY_MODEL_0ed33c0d096d429f8f4abf601b442319",
        "IPY_MODEL_da0d6878ab704954af20bf9d747244e5",
        "IPY_MODEL_affb2e99a5d24f6aae1a3a82ccfd2002"
       ],
       "layout": "IPY_MODEL_1904e7cf5647474fa54e78e85049f45b"
      }
     },
     "affb2e99a5d24f6aae1a3a82ccfd2002": {
      "model_module": "@jupyter-widgets/controls",
      "model_module_version": "1.5.0",
      "model_name": "HTMLModel",
      "state": {
       "_dom_classes": [],
       "_model_module": "@jupyter-widgets/controls",
       "_model_module_version": "1.5.0",
       "_model_name": "HTMLModel",
       "_view_count": null,
       "_view_module": "@jupyter-widgets/controls",
       "_view_module_version": "1.5.0",
       "_view_name": "HTMLView",
       "description": "",
       "description_tooltip": null,
       "layout": "IPY_MODEL_71408589a4cd45378c7ebab3c6ad645f",
       "placeholder": "​",
       "style": "IPY_MODEL_43baafe298954b13a73f0b641acfd1d2",
       "value": " 4422656/? [00:09&lt;00:00, 1383731.35it/s]"
      }
     },
     "b98fe263ada84e408acca21ae3c54dfe": {
      "model_module": "@jupyter-widgets/controls",
      "model_module_version": "1.5.0",
      "model_name": "DescriptionStyleModel",
      "state": {
       "_model_module": "@jupyter-widgets/controls",
       "_model_module_version": "1.5.0",
       "_model_name": "DescriptionStyleModel",
       "_view_count": null,
       "_view_module": "@jupyter-widgets/base",
       "_view_module_version": "1.2.0",
       "_view_name": "StyleView",
       "description_width": ""
      }
     },
     "bd5e498f48b64fcbb270afd8ac70388f": {
      "model_module": "@jupyter-widgets/base",
      "model_module_version": "1.2.0",
      "model_name": "LayoutModel",
      "state": {
       "_model_module": "@jupyter-widgets/base",
       "_model_module_version": "1.2.0",
       "_model_name": "LayoutModel",
       "_view_count": null,
       "_view_module": "@jupyter-widgets/base",
       "_view_module_version": "1.2.0",
       "_view_name": "LayoutView",
       "align_content": null,
       "align_items": null,
       "align_self": null,
       "border": null,
       "bottom": null,
       "display": null,
       "flex": null,
       "flex_flow": null,
       "grid_area": null,
       "grid_auto_columns": null,
       "grid_auto_flow": null,
       "grid_auto_rows": null,
       "grid_column": null,
       "grid_gap": null,
       "grid_row": null,
       "grid_template_areas": null,
       "grid_template_columns": null,
       "grid_template_rows": null,
       "height": null,
       "justify_content": null,
       "justify_items": null,
       "left": null,
       "margin": null,
       "max_height": null,
       "max_width": null,
       "min_height": null,
       "min_width": null,
       "object_fit": null,
       "object_position": null,
       "order": null,
       "overflow": null,
       "overflow_x": null,
       "overflow_y": null,
       "padding": null,
       "right": null,
       "top": null,
       "visibility": null,
       "width": null
      }
     },
     "c9c6b6c97cf94aec9451fce5e5a007c4": {
      "model_module": "@jupyter-widgets/controls",
      "model_module_version": "1.5.0",
      "model_name": "DescriptionStyleModel",
      "state": {
       "_model_module": "@jupyter-widgets/controls",
       "_model_module_version": "1.5.0",
       "_model_name": "DescriptionStyleModel",
       "_view_count": null,
       "_view_module": "@jupyter-widgets/base",
       "_view_module_version": "1.2.0",
       "_view_name": "StyleView",
       "description_width": ""
      }
     },
     "cb3c9005ecf8497bba6a7eada229ac94": {
      "model_module": "@jupyter-widgets/controls",
      "model_module_version": "1.5.0",
      "model_name": "DescriptionStyleModel",
      "state": {
       "_model_module": "@jupyter-widgets/controls",
       "_model_module_version": "1.5.0",
       "_model_name": "DescriptionStyleModel",
       "_view_count": null,
       "_view_module": "@jupyter-widgets/base",
       "_view_module_version": "1.2.0",
       "_view_name": "StyleView",
       "description_width": ""
      }
     },
     "cddf5ca7fb70424a803708f9148a3236": {
      "model_module": "@jupyter-widgets/controls",
      "model_module_version": "1.5.0",
      "model_name": "ProgressStyleModel",
      "state": {
       "_model_module": "@jupyter-widgets/controls",
       "_model_module_version": "1.5.0",
       "_model_name": "ProgressStyleModel",
       "_view_count": null,
       "_view_module": "@jupyter-widgets/base",
       "_view_module_version": "1.2.0",
       "_view_name": "StyleView",
       "bar_color": null,
       "description_width": ""
      }
     },
     "d8dd6638d6274974b4a1159987d6484d": {
      "model_module": "@jupyter-widgets/base",
      "model_module_version": "1.2.0",
      "model_name": "LayoutModel",
      "state": {
       "_model_module": "@jupyter-widgets/base",
       "_model_module_version": "1.2.0",
       "_model_name": "LayoutModel",
       "_view_count": null,
       "_view_module": "@jupyter-widgets/base",
       "_view_module_version": "1.2.0",
       "_view_name": "LayoutView",
       "align_content": null,
       "align_items": null,
       "align_self": null,
       "border": null,
       "bottom": null,
       "display": null,
       "flex": null,
       "flex_flow": null,
       "grid_area": null,
       "grid_auto_columns": null,
       "grid_auto_flow": null,
       "grid_auto_rows": null,
       "grid_column": null,
       "grid_gap": null,
       "grid_row": null,
       "grid_template_areas": null,
       "grid_template_columns": null,
       "grid_template_rows": null,
       "height": null,
       "justify_content": null,
       "justify_items": null,
       "left": null,
       "margin": null,
       "max_height": null,
       "max_width": null,
       "min_height": null,
       "min_width": null,
       "object_fit": null,
       "object_position": null,
       "order": null,
       "overflow": null,
       "overflow_x": null,
       "overflow_y": null,
       "padding": null,
       "right": null,
       "top": null,
       "visibility": null,
       "width": null
      }
     },
     "da0d6878ab704954af20bf9d747244e5": {
      "model_module": "@jupyter-widgets/controls",
      "model_module_version": "1.5.0",
      "model_name": "FloatProgressModel",
      "state": {
       "_dom_classes": [],
       "_model_module": "@jupyter-widgets/controls",
       "_model_module_version": "1.5.0",
       "_model_name": "FloatProgressModel",
       "_view_count": null,
       "_view_module": "@jupyter-widgets/controls",
       "_view_module_version": "1.5.0",
       "_view_name": "ProgressView",
       "bar_style": "success",
       "description": "",
       "description_tooltip": null,
       "layout": "IPY_MODEL_81b3ca0eb9de401196f82655822c7c0a",
       "max": 4422102.0,
       "min": 0.0,
       "orientation": "horizontal",
       "style": "IPY_MODEL_121144dc116944189ee9a10d2fc054e6",
       "value": 4422102.0
      }
     },
     "e9fb72979d2944e1b76a7fd55a06a958": {
      "model_module": "@jupyter-widgets/base",
      "model_module_version": "1.2.0",
      "model_name": "LayoutModel",
      "state": {
       "_model_module": "@jupyter-widgets/base",
       "_model_module_version": "1.2.0",
       "_model_name": "LayoutModel",
       "_view_count": null,
       "_view_module": "@jupyter-widgets/base",
       "_view_module_version": "1.2.0",
       "_view_name": "LayoutView",
       "align_content": null,
       "align_items": null,
       "align_self": null,
       "border": null,
       "bottom": null,
       "display": null,
       "flex": null,
       "flex_flow": null,
       "grid_area": null,
       "grid_auto_columns": null,
       "grid_auto_flow": null,
       "grid_auto_rows": null,
       "grid_column": null,
       "grid_gap": null,
       "grid_row": null,
       "grid_template_areas": null,
       "grid_template_columns": null,
       "grid_template_rows": null,
       "height": null,
       "justify_content": null,
       "justify_items": null,
       "left": null,
       "margin": null,
       "max_height": null,
       "max_width": null,
       "min_height": null,
       "min_width": null,
       "object_fit": null,
       "object_position": null,
       "order": null,
       "overflow": null,
       "overflow_x": null,
       "overflow_y": null,
       "padding": null,
       "right": null,
       "top": null,
       "visibility": null,
       "width": null
      }
     },
     "ed76cf1d98e94d379916e16586811546": {
      "model_module": "@jupyter-widgets/controls",
      "model_module_version": "1.5.0",
      "model_name": "HBoxModel",
      "state": {
       "_dom_classes": [],
       "_model_module": "@jupyter-widgets/controls",
       "_model_module_version": "1.5.0",
       "_model_name": "HBoxModel",
       "_view_count": null,
       "_view_module": "@jupyter-widgets/controls",
       "_view_module_version": "1.5.0",
       "_view_name": "HBoxView",
       "box_style": "",
       "children": [
        "IPY_MODEL_0b38aa49959648a597383d625aa0960b",
        "IPY_MODEL_58253e6ac6434e438417b49735020227",
        "IPY_MODEL_18ea4c26674f4c5dbb7971d76bdd1ec4"
       ],
       "layout": "IPY_MODEL_79bbb9f357924e9db7ac0fb65b84269e"
      }
     },
     "f392a49a29144c958b9193527f62d040": {
      "model_module": "@jupyter-widgets/controls",
      "model_module_version": "1.5.0",
      "model_name": "HTMLModel",
      "state": {
       "_dom_classes": [],
       "_model_module": "@jupyter-widgets/controls",
       "_model_module_version": "1.5.0",
       "_model_name": "HTMLModel",
       "_view_count": null,
       "_view_module": "@jupyter-widgets/controls",
       "_view_module_version": "1.5.0",
       "_view_name": "HTMLView",
       "description": "",
       "description_tooltip": null,
       "layout": "IPY_MODEL_ff219c4e6f434d1d8ce7225e36211d92",
       "placeholder": "​",
       "style": "IPY_MODEL_75cabdcd0f34446baede6b7d3fc33492",
       "value": ""
      }
     },
     "f6dc358bff214f16bbb8d3c1d96c96fd": {
      "model_module": "@jupyter-widgets/base",
      "model_module_version": "1.2.0",
      "model_name": "LayoutModel",
      "state": {
       "_model_module": "@jupyter-widgets/base",
       "_model_module_version": "1.2.0",
       "_model_name": "LayoutModel",
       "_view_count": null,
       "_view_module": "@jupyter-widgets/base",
       "_view_module_version": "1.2.0",
       "_view_name": "LayoutView",
       "align_content": null,
       "align_items": null,
       "align_self": null,
       "border": null,
       "bottom": null,
       "display": null,
       "flex": null,
       "flex_flow": null,
       "grid_area": null,
       "grid_auto_columns": null,
       "grid_auto_flow": null,
       "grid_auto_rows": null,
       "grid_column": null,
       "grid_gap": null,
       "grid_row": null,
       "grid_template_areas": null,
       "grid_template_columns": null,
       "grid_template_rows": null,
       "height": null,
       "justify_content": null,
       "justify_items": null,
       "left": null,
       "margin": null,
       "max_height": null,
       "max_width": null,
       "min_height": null,
       "min_width": null,
       "object_fit": null,
       "object_position": null,
       "order": null,
       "overflow": null,
       "overflow_x": null,
       "overflow_y": null,
       "padding": null,
       "right": null,
       "top": null,
       "visibility": null,
       "width": null
      }
     },
     "f7ac13cac6c742bd8ef1a12c87370b03": {
      "model_module": "@jupyter-widgets/base",
      "model_module_version": "1.2.0",
      "model_name": "LayoutModel",
      "state": {
       "_model_module": "@jupyter-widgets/base",
       "_model_module_version": "1.2.0",
       "_model_name": "LayoutModel",
       "_view_count": null,
       "_view_module": "@jupyter-widgets/base",
       "_view_module_version": "1.2.0",
       "_view_name": "LayoutView",
       "align_content": null,
       "align_items": null,
       "align_self": null,
       "border": null,
       "bottom": null,
       "display": null,
       "flex": null,
       "flex_flow": null,
       "grid_area": null,
       "grid_auto_columns": null,
       "grid_auto_flow": null,
       "grid_auto_rows": null,
       "grid_column": null,
       "grid_gap": null,
       "grid_row": null,
       "grid_template_areas": null,
       "grid_template_columns": null,
       "grid_template_rows": null,
       "height": null,
       "justify_content": null,
       "justify_items": null,
       "left": null,
       "margin": null,
       "max_height": null,
       "max_width": null,
       "min_height": null,
       "min_width": null,
       "object_fit": null,
       "object_position": null,
       "order": null,
       "overflow": null,
       "overflow_x": null,
       "overflow_y": null,
       "padding": null,
       "right": null,
       "top": null,
       "visibility": null,
       "width": null
      }
     },
     "fabb9735ad564bf2922dec2a4111adc9": {
      "model_module": "@jupyter-widgets/controls",
      "model_module_version": "1.5.0",
      "model_name": "ProgressStyleModel",
      "state": {
       "_model_module": "@jupyter-widgets/controls",
       "_model_module_version": "1.5.0",
       "_model_name": "ProgressStyleModel",
       "_view_count": null,
       "_view_module": "@jupyter-widgets/base",
       "_view_module_version": "1.2.0",
       "_view_name": "StyleView",
       "bar_color": null,
       "description_width": ""
      }
     },
     "ff219c4e6f434d1d8ce7225e36211d92": {
      "model_module": "@jupyter-widgets/base",
      "model_module_version": "1.2.0",
      "model_name": "LayoutModel",
      "state": {
       "_model_module": "@jupyter-widgets/base",
       "_model_module_version": "1.2.0",
       "_model_name": "LayoutModel",
       "_view_count": null,
       "_view_module": "@jupyter-widgets/base",
       "_view_module_version": "1.2.0",
       "_view_name": "LayoutView",
       "align_content": null,
       "align_items": null,
       "align_self": null,
       "border": null,
       "bottom": null,
       "display": null,
       "flex": null,
       "flex_flow": null,
       "grid_area": null,
       "grid_auto_columns": null,
       "grid_auto_flow": null,
       "grid_auto_rows": null,
       "grid_column": null,
       "grid_gap": null,
       "grid_row": null,
       "grid_template_areas": null,
       "grid_template_columns": null,
       "grid_template_rows": null,
       "height": null,
       "justify_content": null,
       "justify_items": null,
       "left": null,
       "margin": null,
       "max_height": null,
       "max_width": null,
       "min_height": null,
       "min_width": null,
       "object_fit": null,
       "object_position": null,
       "order": null,
       "overflow": null,
       "overflow_x": null,
       "overflow_y": null,
       "padding": null,
       "right": null,
       "top": null,
       "visibility": null,
       "width": null
      }
     }
    },
    "version_major": 2,
    "version_minor": 0
   }
  }
 },
 "nbformat": 4,
 "nbformat_minor": 5
}
